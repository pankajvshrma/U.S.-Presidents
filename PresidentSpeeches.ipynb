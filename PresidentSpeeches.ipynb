{
 "cells": [
  {
   "cell_type": "code",
   "execution_count": 2,
   "metadata": {
    "collapsed": true
   },
   "outputs": [],
   "source": [
    "# import required libraries to scrape presidential transcripts\n",
    "from bs4 import BeautifulSoup\n",
    "import pandas as pd\n",
    "import pickle\n",
    "import urllib2\n",
    "import re"
   ]
  },
  {
   "cell_type": "code",
   "execution_count": 35,
   "metadata": {
    "collapsed": false
   },
   "outputs": [],
   "source": [
    "import urllib2,sys,os\n",
    "from bs4 import BeautifulSoup,NavigableString\n",
    "from string import punctuation as p\n",
    "from multiprocessing import Pool\n",
    "import re, nltk\n",
    "import requests\n",
    "reload(sys)\n",
    "\n",
    "\n",
    "sys.setdefaultencoding('utf8')\n",
    "\n",
    "#==============================================================================\n",
    "# Scraping and cleaning one speech from Obama to show the method works\n",
    "#==============================================================================\n",
    "\n",
    "obama_4427_url = 'http://www.millercenter.org/president/obama/speeches/speech-4427'\n",
    "obama_4427 = urllib2.urlopen(obama_4427_url).read()\n",
    "obama_4427 = BeautifulSoup(obama_4427)\n",
    "\n",
    "# find the speech itself within the HTML\n",
    "obama_4427 = obama_4427.find('div',{'id': 'transcript'},{'class': 'displaytext'})\n",
    "\n",
    "# obama_4427_div.text removes extraneous characters (e.g. '<br/>')\n",
    "obama_4427 = obama_4427.text.lower()\n",
    "\n",
    "# for further text analysis, remove punctuation\n",
    "punctuation = re.compile('[{}]+'.format(re.escape(p)))\n",
    "\n",
    "# obama_4427_nopunct = [line.decode('utf-8').strip() for line in obama_4427_html.readlines()]\n",
    "\n",
    "obama_4427 = punctuation.sub('', obama_4427)\n",
    "obama_4427 = obama_4427.replace('—',' ')\n",
    "obama_4427 = obama_4427.replace('transcript','')\n",
    "\n",
    "# divide obama_4427_str_processed into individual words\n",
    "words = obama_4427.split(' ')\n",
    "\n",
    "#==============================================================================\n",
    "# Cleaning links begins below, so that  we can process all 911 speeches through processURL()\n",
    "#==============================================================================\n",
    "\n",
    "url = 'http://www.millercenter.org/president/speeches'\n",
    "url2 = 'http://www.millercenter.org'\n",
    "\n",
    "conn = urllib2.urlopen(url)\n",
    "html = conn.read()\n",
    "\n",
    "miller_center_soup = BeautifulSoup(html)\n",
    "links = miller_center_soup.find_all('a')\n",
    "\n",
    "linklist = [tag.get('href') for tag in links if tag.get('href') is not None]\n",
    "\n",
    "# remove all items in list that don't contain 'speeches'\n",
    "linkslist = [_ for _ in linklist if re.search('speeches',_)]\n",
    "del linkslist[0:2]\n",
    "\n",
    "# concatenate 'http://www.millercenter.org' with end of speech links\n",
    "every_link_dups = [url2 + end_link for end_link in linkslist]\n",
    "\n",
    "# remove duplicates\n",
    "seen = set()\n",
    "every_link = [] # no duplicates array\n",
    "for l in every_link_dups:\n",
    "    if l not in seen:\n",
    "        every_link.append(l)\n",
    "        seen.add(l)\n",
    "\n",
    "# list of presidents (print(len(set(presidents))) = 43 total)\n",
    "presidents_dups = [l[l.find('president/')+len('president/'):] for l in every_link if 'president' in l]\n",
    "presidents_dups = [l[0:l.find('/')] for l in presidents_dups]\n",
    "set2 = set()\n",
    "presidents = []\n",
    "for l in presidents_dups:\n",
    "    if l not in set2:\n",
    "        presidents.append(l)\n",
    "        seen.add(l)\n",
    "\n",
    "presidents = sorted(presidents)\n",
    "\n",
    "# the following two lines - now commented out - were used to identify duplicates in the original every_link array\n",
    "# import collections\n",
    "# print [l for l, count in collections.Counter(every_link).items() if count > 1]\n",
    "\n",
    "# define a function to clean & store speeches from 'every_link' repository\n",
    "\n",
    "def processURL(l):\n",
    "        open_url = urllib2.urlopen(l).read()\n",
    "        x=urllib2.urlopen(obama_4427_url).read()\n",
    "        item_soup = BeautifulSoup(x)\n",
    "        item_div = item_soup.find('div',{'id':'transcript'},{'class':'displaytext'})\n",
    "        item_str = item_div.text.lower()\n",
    "        item_str_processed = punctuation.sub('',item_str)\n",
    "        item_str_processed_final = item_str_processed.replace('—',' ')\n",
    "\n",
    "        splitlink = l.split(\"/\")\n",
    "        president = splitlink[4]\n",
    "        speech_num = splitlink[-1].split(\"-\")[1]\n",
    "        filename = \"{0}_{1}\".format(president, speech_num)\n",
    "\n",
    "        return filename, item_str_processed_final # returning a tuple\n",
    "\n",
    "# right now, this loop only works for 423 speeches - where are the remaining ones?\n",
    "for l in every_link[1:423]:\n",
    "    filename, content = processURL(l) # tuple unpacking\n",
    "    with open(filename, 'w') as f:\n",
    "        f.write(content)"
   ]
  },
  {
   "cell_type": "code",
   "execution_count": 3,
   "metadata": {
    "collapsed": false
   },
   "outputs": [],
   "source": [
    "import os\n",
    "from os import path\n",
    "root = \"F:/topicmodel_speeches\"\n",
    "files = os.listdir(root)"
   ]
  },
  {
   "cell_type": "code",
   "execution_count": 4,
   "metadata": {
    "collapsed": false
   },
   "outputs": [],
   "source": [
    "#load speeches into a list\n",
    "docs = list() \n",
    "for file in files:\n",
    "    with open(path.join(root, file), 'r') as fd:\n",
    "       txt = fd.read()\n",
    "       docs.append(txt)"
   ]
  },
  {
   "cell_type": "code",
   "execution_count": 5,
   "metadata": {
    "collapsed": true
   },
   "outputs": [],
   "source": [
    "import re \n",
    "def clean(doc):\n",
    "    doc = re.sub(r'[^\\w\\s]*', '', doc) \n",
    "    doc = re.sub(r'[\\s]+', ' ', doc)\n",
    "    doc = doc.lower().strip()\n",
    "    return doc"
   ]
  },
  {
   "cell_type": "code",
   "execution_count": 6,
   "metadata": {
    "collapsed": true
   },
   "outputs": [],
   "source": [
    "clean_docs = list()\n",
    "for doc in docs:\n",
    "    doc = clean(doc)\n",
    "    clean_docs.append(doc)"
   ]
  },
  {
   "cell_type": "code",
   "execution_count": 5,
   "metadata": {
    "collapsed": true
   },
   "outputs": [],
   "source": [
    "#tokenize speeches\n",
    "token_docs = list()\n",
    "for doc in clean_docs:\n",
    "    token_docs.append(doc.split())"
   ]
  },
  {
   "cell_type": "code",
   "execution_count": 6,
   "metadata": {
    "collapsed": false
   },
   "outputs": [],
   "source": [
    "#remove stopwords\n",
    "stopwords = list()\n",
    "with open('F:/2060724/topicmodel_stopwords.txt', 'r') as fd:\n",
    "    for line in fd.readlines():\n",
    "        stopwords.append(line.strip())"
   ]
  },
  {
   "cell_type": "code",
   "execution_count": 7,
   "metadata": {
    "collapsed": true
   },
   "outputs": [],
   "source": [
    "sw_token_docs = list()\n",
    "for doc in token_docs:\n",
    "    sw_doc = list()\n",
    "    for token in doc:\n",
    "        if not token in stopwords:\n",
    "            sw_doc.append(token)\n",
    "    sw_token_docs.append(sw_doc)"
   ]
  },
  {
   "cell_type": "code",
   "execution_count": 8,
   "metadata": {
    "collapsed": false
   },
   "outputs": [],
   "source": [
    "# perform topic modelling\n",
    "from gensim import corpora, models, similarities\n",
    "dictionary = corpora.Dictionary(sw_token_docs)\n",
    "corpus = [dictionary.doc2bow(doc) for doc in sw_token_docs]"
   ]
  },
  {
   "cell_type": "code",
   "execution_count": 7,
   "metadata": {
    "collapsed": false
   },
   "outputs": [
    {
     "name": "stderr",
     "output_type": "stream",
     "text": [
      "C:\\Users\\pankaj\\Anaconda2\\lib\\site-packages\\IPython\\core\\formatters.py:98: DeprecationWarning: DisplayFormatter._formatters_default is deprecated: use @default decorator instead.\n",
      "  def _formatters_default(self):\n",
      "C:\\Users\\pankaj\\Anaconda2\\lib\\site-packages\\IPython\\core\\formatters.py:677: DeprecationWarning: PlainTextFormatter._deferred_printers_default is deprecated: use @default decorator instead.\n",
      "  def _deferred_printers_default(self):\n",
      "C:\\Users\\pankaj\\Anaconda2\\lib\\site-packages\\IPython\\core\\formatters.py:669: DeprecationWarning: PlainTextFormatter._singleton_printers_default is deprecated: use @default decorator instead.\n",
      "  def _singleton_printers_default(self):\n",
      "C:\\Users\\pankaj\\Anaconda2\\lib\\site-packages\\IPython\\core\\formatters.py:672: DeprecationWarning: PlainTextFormatter._type_printers_default is deprecated: use @default decorator instead.\n",
      "  def _type_printers_default(self):\n"
     ]
    }
   ],
   "source": [
    "from __future__ import division\n",
    "\n",
    "import graphlab as gl\n",
    "import pandas as pd\n",
    "import pyLDAvis\n",
    "import pyLDAvis.graphlab\n",
    "\n",
    "pyLDAvis.enable_notebook()"
   ]
  },
  {
   "cell_type": "code",
   "execution_count": 8,
   "metadata": {
    "collapsed": false
   },
   "outputs": [
    {
     "name": "stderr",
     "output_type": "stream",
     "text": [
      "[INFO] graphlab.cython.cy_server: GraphLab Create v2.1 started. Logging: C:\\Users\\pankaj\\AppData\\Local\\Temp\\graphlab_server_1471511759.log.0\n"
     ]
    },
    {
     "name": "stdout",
     "output_type": "stream",
     "text": [
      "This non-commercial license of GraphLab Create for academic use is assigned to pankajvshrma@gmail.com and will expire on August 11, 2017.\n"
     ]
    },
    {
     "name": "stderr",
     "output_type": "stream",
     "text": [
      "C:\\Users\\pankaj\\Anaconda2\\lib\\site-packages\\IPython\\core\\formatters.py:92: DeprecationWarning: DisplayFormatter._ipython_display_formatter_default is deprecated: use @default decorator instead.\n",
      "  def _ipython_display_formatter_default(self):\n",
      "C:\\Users\\pankaj\\Anaconda2\\lib\\site-packages\\IPython\\core\\formatters.py:669: DeprecationWarning: PlainTextFormatter._singleton_printers_default is deprecated: use @default decorator instead.\n",
      "  def _singleton_printers_default(self):\n",
      "C:\\Users\\pankaj\\Anaconda2\\lib\\site-packages\\IPython\\core\\formatters.py:672: DeprecationWarning: PlainTextFormatter._type_printers_default is deprecated: use @default decorator instead.\n",
      "  def _type_printers_default(self):\n",
      "C:\\Users\\pankaj\\Anaconda2\\lib\\site-packages\\IPython\\core\\formatters.py:677: DeprecationWarning: PlainTextFormatter._deferred_printers_default is deprecated: use @default decorator instead.\n",
      "  def _deferred_printers_default(self):\n"
     ]
    },
    {
     "data": {
      "text/html": [
       "<div style=\"max-height:1000px;max-width:1500px;overflow:auto;\"><table frame=\"box\" rules=\"cols\">\n",
       "    <tr>\n",
       "        <th style=\"padding-left: 1em; padding-right: 1em; text-align: center\">paragraph</th>\n",
       "    </tr>\n",
       "    <tr>\n",
       "        <td style=\"padding-left: 1em; padding-right: 1em; text-align: center; vertical-align: top\">fellow citizens of the<br>senate and the house of ...</td>\n",
       "    </tr>\n",
       "    <tr>\n",
       "        <td style=\"padding-left: 1em; padding-right: 1em; text-align: center; vertical-align: top\">whereas it is the duty of<br>all nations to ...</td>\n",
       "    </tr>\n",
       "    <tr>\n",
       "        <td style=\"padding-left: 1em; padding-right: 1em; text-align: center; vertical-align: top\">fellow citizens of the<br>senate and house of ...</td>\n",
       "    </tr>\n",
       "    <tr>\n",
       "        <td style=\"padding-left: 1em; padding-right: 1em; text-align: center; vertical-align: top\">fellow citizens of the<br>senate and house of ...</td>\n",
       "    </tr>\n",
       "    <tr>\n",
       "        <td style=\"padding-left: 1em; padding-right: 1em; text-align: center; vertical-align: top\">i the president of the<br>united states by my own ...</td>\n",
       "    </tr>\n",
       "    <tr>\n",
       "        <td style=\"padding-left: 1em; padding-right: 1em; text-align: center; vertical-align: top\">i meet you upon the<br>present occasion with ...</td>\n",
       "    </tr>\n",
       "    <tr>\n",
       "        <td style=\"padding-left: 1em; padding-right: 1em; text-align: center; vertical-align: top\">gentlemen of the house of<br>representatives i have ...</td>\n",
       "    </tr>\n",
       "    <tr>\n",
       "        <td style=\"padding-left: 1em; padding-right: 1em; text-align: center; vertical-align: top\">fellowcitizens of the<br>senate and of the house ...</td>\n",
       "    </tr>\n",
       "    <tr>\n",
       "        <td style=\"padding-left: 1em; padding-right: 1em; text-align: center; vertical-align: top\">whereas i have received<br>authentic information ...</td>\n",
       "    </tr>\n",
       "    <tr>\n",
       "        <td style=\"padding-left: 1em; padding-right: 1em; text-align: center; vertical-align: top\">fellowcitizens i am again<br>called upon by the voice ...</td>\n",
       "    </tr>\n",
       "</table>\n",
       "[10 rows x 1 columns]<br/>\n",
       "</div>"
      ],
      "text/plain": [
       "Columns:\n",
       "\tparagraph\tstr\n",
       "\n",
       "Rows: 10\n",
       "\n",
       "Data:\n",
       "+-------------------------------+\n",
       "|           paragraph           |\n",
       "+-------------------------------+\n",
       "| fellow citizens of the sen... |\n",
       "| whereas it is the duty of ... |\n",
       "| fellow citizens of the sen... |\n",
       "| fellow citizens of the sen... |\n",
       "| i the president of the uni... |\n",
       "| i meet you upon the presen... |\n",
       "| gentlemen of the house of ... |\n",
       "| fellowcitizens of the sena... |\n",
       "| whereas i have received au... |\n",
       "| fellowcitizens i am again ... |\n",
       "+-------------------------------+\n",
       "[10 rows x 1 columns]"
      ]
     },
     "execution_count": 8,
     "metadata": {},
     "output_type": "execute_result"
    }
   ],
   "source": [
    "doc=gl.SFrame(clean_docs)\n",
    "sf_paragraphs = doc.rename({'X1': 'paragraph'})\n",
    "doc.head()"
   ]
  },
  {
   "cell_type": "code",
   "execution_count": 9,
   "metadata": {
    "collapsed": false
   },
   "outputs": [],
   "source": [
    "re_words_split = re.compile(\"(\\w+)\")\n",
    "sf_paragraphs['paragraph_words_number'] = sf_paragraphs['paragraph'].apply(lambda p: len(re_words_split.findall(p)) )\n",
    "sf_paragraphs = sf_paragraphs[sf_paragraphs['paragraph_words_number'] >=25]"
   ]
  },
  {
   "cell_type": "code",
   "execution_count": 10,
   "metadata": {
    "collapsed": false
   },
   "outputs": [],
   "source": [
    "docs =  gl.text_analytics.count_ngrams(sf_paragraphs['paragraph'], n=1)"
   ]
  },
  {
   "cell_type": "code",
   "execution_count": 11,
   "metadata": {
    "collapsed": true
   },
   "outputs": [],
   "source": [
    "stopwords = gl.text_analytics.stopwords()\n",
    "# adding some additional stopwords to make the topic model more clear\n",
    "stopwords |= set(['man', 'mr', 'sir', 'make', 'made', 'll', 'door', 'long', 'day', 'small']) \n",
    "docs = docs.dict_trim_by_keys(stopwords, exclude=True)\t\n",
    "docs = docs.dropna()"
   ]
  },
  {
   "cell_type": "code",
   "execution_count": 12,
   "metadata": {
    "collapsed": false
   },
   "outputs": [
    {
     "data": {
      "text/html": [
       "<pre>Learning a topic model</pre>"
      ],
      "text/plain": [
       "Learning a topic model"
      ]
     },
     "metadata": {},
     "output_type": "display_data"
    },
    {
     "data": {
      "text/html": [
       "<pre>       Number of documents       622</pre>"
      ],
      "text/plain": [
       "       Number of documents       622"
      ]
     },
     "metadata": {},
     "output_type": "display_data"
    },
    {
     "data": {
      "text/html": [
       "<pre>           Vocabulary size     36392</pre>"
      ],
      "text/plain": [
       "           Vocabulary size     36392"
      ]
     },
     "metadata": {},
     "output_type": "display_data"
    },
    {
     "data": {
      "text/html": [
       "<pre>   Running collapsed Gibbs sampling</pre>"
      ],
      "text/plain": [
       "   Running collapsed Gibbs sampling"
      ]
     },
     "metadata": {},
     "output_type": "display_data"
    },
    {
     "data": {
      "text/html": [
       "<pre>+-----------+---------------+----------------+-----------------+</pre>"
      ],
      "text/plain": [
       "+-----------+---------------+----------------+-----------------+"
      ]
     },
     "metadata": {},
     "output_type": "display_data"
    },
    {
     "data": {
      "text/html": [
       "<pre>| Iteration | Elapsed Time  | Tokens/Second  | Est. Perplexity |</pre>"
      ],
      "text/plain": [
       "| Iteration | Elapsed Time  | Tokens/Second  | Est. Perplexity |"
      ]
     },
     "metadata": {},
     "output_type": "display_data"
    },
    {
     "data": {
      "text/html": [
       "<pre>+-----------+---------------+----------------+-----------------+</pre>"
      ],
      "text/plain": [
       "+-----------+---------------+----------------+-----------------+"
      ]
     },
     "metadata": {},
     "output_type": "display_data"
    },
    {
     "data": {
      "text/html": [
       "<pre>| 10        | 952.857ms     | 5.83093e+006   | 0               |</pre>"
      ],
      "text/plain": [
       "| 10        | 952.857ms     | 5.83093e+006   | 0               |"
      ]
     },
     "metadata": {},
     "output_type": "display_data"
    },
    {
     "data": {
      "text/html": [
       "<pre>+-----------+---------------+----------------+-----------------+</pre>"
      ],
      "text/plain": [
       "+-----------+---------------+----------------+-----------------+"
      ]
     },
     "metadata": {},
     "output_type": "display_data"
    }
   ],
   "source": [
    "topic_model = gl.topic_model.create(docs, num_topics=10)"
   ]
  },
  {
   "cell_type": "code",
   "execution_count": 13,
   "metadata": {
    "collapsed": false
   },
   "outputs": [
    {
     "name": "stdout",
     "output_type": "stream",
     "text": [
      "+-------+------------+------------------+\n",
      "| topic |    word    |      score       |\n",
      "+-------+------------+------------------+\n",
      "|   0   |   people   | 0.0518808217563  |\n",
      "|   0   |   peace    | 0.0280909494448  |\n",
      "|   0   |  nations   | 0.0240855117597  |\n",
      "|   0   |  america   | 0.0215886155404  |\n",
      "|   0   |    time    | 0.0190136913143  |\n",
      "|   1   |    law     | 0.0212298873226  |\n",
      "|   1   |   state    | 0.0205198576463  |\n",
      "|   1   |    part    | 0.0158104771399  |\n",
      "|   1   |  question  | 0.0157235347306  |\n",
      "|   1   |   power    | 0.0139557057405  |\n",
      "|   2   | government | 0.0582714339429  |\n",
      "|   2   |  congress  | 0.0272801740345  |\n",
      "|   2   |  country   | 0.0252658860182  |\n",
      "|   2   |   great    |  0.022455474643  |\n",
      "|   2   |  national  | 0.0166140393956  |\n",
      "|   3   |   states   | 0.0565825654513  |\n",
      "|   3   |   united   | 0.0503400597837  |\n",
      "|   3   |   world    | 0.0381020882464  |\n",
      "|   3   |    war     | 0.0305768759347  |\n",
      "|   3   |   great    | 0.0113647808662  |\n",
      "|   4   |    time    |  0.020797494843  |\n",
      "|   4   |    meet    | 0.0151005711818  |\n",
      "|   4   |  citizens  | 0.0131829792304  |\n",
      "|   4   |    plan    | 0.0129223356642  |\n",
      "|   4   |   party    | 0.0120659353753  |\n",
      "|   5   |    year    | 0.0253373614164  |\n",
      "|   5   | president  | 0.0210878095595  |\n",
      "|   5   |  vietnam   | 0.00948435615977 |\n",
      "|   5   |  federal   | 0.00917202829502 |\n",
      "|   5   |  security  | 0.00914363485277 |\n",
      "|   6   |   years    | 0.0408231758269  |\n",
      "|   6   |    work    | 0.0224122673637  |\n",
      "|   6   |   future   | 0.0163026950611  |\n",
      "|   6   | president  |  0.016165709135  |\n",
      "|   6   |  progress  |  0.014494480837  |\n",
      "|   7   |  american  | 0.0311206720485  |\n",
      "|   7   |    good    | 0.0252488471337  |\n",
      "|   7   |   rights   | 0.0114762600909  |\n",
      "|   7   |   health   | 0.00935326618581 |\n",
      "|   7   |    past    | 0.00909796945039 |\n",
      "|   8   |   today    | 0.0241819637855  |\n",
      "|   8   | americans  | 0.0204738860966  |\n",
      "|   8   |    men     | 0.0186510075688  |\n",
      "|   8   |    hope    |  0.015644037006  |\n",
      "|   8   |    life    | 0.0118113180502  |\n",
      "|   9   |   order    | 0.00801987346995 |\n",
      "|   9   |   effect   | 0.00778655912923 |\n",
      "|   9   | attention  | 0.00773744032065 |\n",
      "|   9   |  treasury  | 0.00722169283062 |\n",
      "|   9   |    men     | 0.00689014087275 |\n",
      "+-------+------------+------------------+\n",
      "[50 rows x 3 columns]\n",
      "\n"
     ]
    }
   ],
   "source": [
    "topic_model.get_topics().print_rows(100)\n"
   ]
  },
  {
   "cell_type": "code",
   "execution_count": 17,
   "metadata": {
    "collapsed": false,
    "scrolled": true
   },
   "outputs": [
    {
     "data": {
      "text/html": [
       "\n",
       "<link rel=\"stylesheet\" type=\"text/css\" href=\"https://cdn.rawgit.com/bmabey/pyLDAvis/files/ldavis.v1.0.0.css\">\n",
       "\n",
       "\n",
       "<div id=\"ldavis_el47327512163443097233839\"></div>\n",
       "<script type=\"text/javascript\">\n",
       "\n",
       "var ldavis_el47327512163443097233839_data = {\"plot.opts\": {\"xlab\": \"PC1\", \"ylab\": \"PC2\"}, \"topic.order\": [6, 1, 4, 3, 7, 8, 5, 10, 2, 9], \"token.table\": {\"Topic\": [2, 6, 1, 2, 4, 10, 3, 4, 5, 2, 1, 6, 8, 10, 2, 6, 1, 6, 10, 2, 3, 6, 9, 9, 6, 1, 2, 1, 3, 2, 4, 6, 8, 2, 3, 7, 6, 3, 3, 8, 2, 5, 5, 6, 8, 1, 5, 10, 3, 8, 8, 8, 6, 8, 6, 7, 9, 10, 5, 4, 8, 9, 10, 9, 1, 3, 6, 8, 3, 1, 6, 3, 6, 8, 2, 5, 10, 7, 2, 6, 2, 5, 7, 9, 1, 3, 9, 6, 10, 2, 5, 9, 3, 7, 9, 1, 3, 3, 5, 6, 8, 10, 5, 4, 8, 8, 2, 3, 9, 1, 2, 4, 5, 9, 4, 9, 1, 5, 3, 4, 6, 5, 3, 7, 8, 2, 5, 9, 3, 4, 9, 5, 8, 4, 5, 8, 9, 3, 4, 6, 5, 8, 7, 3, 5, 9, 5, 1, 3, 4, 9, 6, 7, 5, 5, 10, 1, 9, 10, 1, 6, 9, 2, 5, 8, 2, 2, 4, 7, 8, 8, 7, 8, 4, 5, 4, 7, 8, 4, 8, 7, 7, 1, 4, 8, 10, 5, 9, 1, 3, 5, 10, 2, 7, 10, 1, 4, 8, 1, 2, 4, 6, 7, 9, 3, 5, 6, 10, 4, 6, 7, 8, 9, 3, 7, 6, 7, 1, 2, 6, 8, 4, 2, 8, 4, 5, 6, 1, 2, 3, 6, 10, 2, 3, 10, 7, 8, 10, 10, 2, 10, 3, 9, 10, 1, 2, 4, 5, 4, 5, 6, 7, 4, 5, 7, 8, 4, 10, 7, 4, 5, 6, 4, 5, 3, 4, 5, 7, 9, 1, 8, 6, 10, 6, 7, 1, 2, 9, 5, 7, 9, 3, 8, 1, 2, 4, 2, 1, 5, 5, 7, 4, 3, 8, 2, 4, 3, 7, 2, 5, 6, 7, 9, 1, 2, 3, 9, 4, 10, 5, 8, 6, 8, 1, 2, 5, 8, 4, 1, 2, 10, 3, 5, 7, 9, 3, 1, 3, 7, 8, 10, 2, 7, 8, 2, 3, 5, 7, 3, 10, 10, 1, 2, 4, 5, 6, 8, 10, 3, 3, 3, 7, 10, 5, 6, 8, 10, 2, 9, 1, 5, 6, 7, 8, 4, 1, 3, 5, 7, 9, 5, 6, 9, 2, 4, 10, 1, 8, 1, 4, 3, 8, 8, 9, 10, 2, 4, 8, 1, 6, 1, 3, 6, 2, 4, 1, 7, 10, 4, 1, 10, 4, 1, 8, 9, 10, 6, 2, 5, 6, 8, 4, 2, 6, 8, 1, 3, 8, 10, 5, 2, 10, 6, 8, 3, 8, 1, 2, 5, 10, 3, 4, 4, 5, 2, 3, 7, 10, 1, 8, 10, 1, 4, 6, 7, 10, 6, 3, 4, 5, 8, 2, 3, 2, 3, 7, 6, 6, 10, 1, 9, 1, 2, 4, 5, 3, 2, 5, 9, 4, 6, 1, 5, 6, 7, 4, 5, 5, 6, 10, 3, 4, 5, 5, 3, 2, 6, 8, 9, 10, 7, 2, 8, 5, 1, 6, 7, 6, 10, 7, 2, 3, 5, 8, 10, 5, 9, 10, 1, 10, 2, 7, 10, 1, 4, 8, 1, 2, 7, 8, 10, 7, 2, 5, 7, 3, 1, 3, 8, 10, 3, 7, 10, 9, 5, 3, 5, 4, 1, 2, 7, 9, 3, 3, 9, 1, 9, 1, 5, 6, 10, 4, 10, 1, 5, 8, 10, 2, 1, 2, 9, 5, 7, 8, 10, 2, 5, 8, 8, 3, 8, 3, 6, 1, 6, 1, 6, 4, 2, 3, 4, 4, 5, 7, 8, 9, 10, 1, 9, 6, 7, 8, 9, 7, 5, 6, 4, 1, 7, 8, 10, 3, 1, 6, 7, 9, 1, 7, 1, 10, 1, 8, 10, 3, 6, 10, 3, 10, 1, 4, 6, 7, 9, 3, 1, 2, 5, 6, 7, 9, 1, 4, 9, 10, 7, 10, 5, 4, 6, 6, 9, 2, 5, 6, 10, 1, 2, 9, 3, 5, 2, 3, 1, 4, 10, 5, 8, 3, 1, 7, 8, 2, 6, 5, 2, 4, 8, 9, 3, 7, 1, 4, 5, 10, 9, 8, 9, 10, 1, 3, 1, 8, 10, 4, 2, 6, 8, 1, 6, 1, 2, 9, 5, 6, 8, 10, 1, 7, 5, 6, 2, 8, 7, 8, 10, 1, 2, 5, 1, 3, 1, 2, 9, 10, 4, 10, 2, 10, 1, 2, 6, 7, 8, 1, 3, 8, 4, 10, 2, 9, 10, 6, 6, 9, 2, 8, 2, 1, 2, 1, 2, 4, 2, 4, 9, 6, 1, 1, 6, 4, 7, 8, 2, 1, 5, 7, 2, 4, 7, 8, 1, 1, 9, 4, 5, 8, 9, 2, 4, 6, 5, 7, 5, 6, 1, 10, 4, 9, 10, 2, 10, 2, 6, 7, 9, 10, 7, 2, 8, 5, 10, 2, 9, 3, 1, 2, 4, 7, 10, 1, 3, 4, 7, 5, 1, 4, 10, 7, 1, 4, 5, 8, 9, 8, 8, 10, 7, 2, 5, 1, 2, 10, 8, 3, 6, 10, 1, 2, 1, 1, 7, 1, 3, 7, 8, 1, 5, 6, 1, 4, 6, 9, 8, 9, 9, 10, 3, 6, 8, 9, 1, 2, 5, 9, 2, 7, 10, 8, 1, 3, 4, 8, 1, 10, 1, 8, 1, 2, 4, 6, 4, 5, 6, 7, 9, 8, 1, 8, 6, 8, 2, 2, 8, 7, 3, 9, 4, 2, 4, 9, 1, 2, 9, 1, 2, 5, 2, 7, 9, 6, 9, 1, 3, 8, 7, 2, 4, 5, 3, 4, 9, 5, 1, 6, 2, 4, 9, 2, 6, 7, 2, 9, 10, 4, 3, 4, 5, 7, 8, 8, 1, 2, 4, 2, 7, 9, 8, 10, 1, 2, 10, 3, 6, 10, 3, 6, 9, 8, 9, 1, 2, 6, 7, 1, 6, 10, 2, 8, 3, 6, 7, 8, 9, 10, 6, 9, 9, 10, 10, 4, 9, 1, 7, 10, 6, 3, 8, 2, 4, 7, 8, 1, 5, 7, 8, 10, 6, 7, 9, 5, 7, 1, 6, 8, 10, 1, 4, 3, 7, 4, 10, 2, 9, 10, 6, 7, 7, 1, 5, 6, 9, 2, 4, 6, 3, 7, 1, 8, 2, 1, 1, 2, 2, 3, 4, 6, 7, 10, 3, 6, 5, 2, 3, 4, 1, 9, 2, 5, 6, 7, 10, 4, 4, 4, 6, 7, 10, 6, 4, 7, 1, 2, 4, 3, 2, 7, 2, 4, 8, 10, 5, 7, 9, 9, 2, 3, 10, 3, 9, 4, 6, 10, 5, 6, 9, 9, 5, 6, 6, 10, 7, 8, 1, 6, 1, 5, 7, 3, 1, 3, 4, 6, 9, 3, 10, 7, 10, 2, 8, 3, 4, 3, 4, 9, 1, 2, 7, 8, 1, 5, 10, 9, 2, 4, 9, 5, 6, 8, 9, 3, 4, 10, 4, 5, 10, 2, 9, 5, 2, 5, 7, 7, 1, 7, 5, 7, 2, 3, 4, 7, 5, 6, 7, 6, 10, 1, 2, 3, 9, 6, 9, 10, 2, 9, 3, 5, 7, 3, 5, 7, 9, 3, 5, 7, 1, 2, 4, 5, 9, 9, 9], \"Freq\": [0.99702049514995572, 0.98760257334633039, 0.32413152316002114, 0.20973216204471953, 0.45833077369912489, 0.0073332923791859976, 0.017692313466244343, 0.42368434879690398, 0.55777346138317685, 0.99518966730922997, 0.050814933271867417, 0.78015868140925859, 0.15842302725935137, 0.0089673411656236626, 0.014216519192148828, 0.9809398242582692, 0.83312768509263768, 0.16356602857044722, 0.0023534680369848523, 0.096014895330626501, 0.18482867351145602, 0.71531097021316747, 0.99145033335379951, 0.99344398468551987, 0.98373355771303872, 0.76663308352464177, 0.23298545230126597, 0.98566829752660179, 0.014080975678951455, 0.22303230943341912, 0.12230804065703629, 0.64991135329523209, 0.0023981968756281624, 0.0031760502864335424, 0.99092768936726516, 0.0031760502864335424, 0.98611366526052147, 0.99809512054798188, 0.99241492584842683, 0.9807610463187808, 0.034174193916346345, 0.9656293573679815, 0.77563076574377032, 0.22387852642511061, 0.00028887551796788464, 0.99933460934263418, 0.9923100795040678, 0.0062148856753908212, 0.99715031019053479, 0.98571841914877412, 0.98426844776795819, 0.99632151178251338, 0.99160918240359441, 0.99021769797853443, 0.16995887024693684, 0.016447632604542278, 0.78400382081651521, 0.02924023574140849, 0.99838455175724294, 0.0048038929288983026, 0.1032836979713135, 0.78303454741042333, 0.10568564443576266, 0.99606685349560986, 0.99270469178237419, 0.005197406763258504, 0.97928587095552266, 0.99859940835976646, 0.99791460216650352, 0.074624158166380752, 0.92502862727076141, 0.032275203139800694, 0.0053792005233001157, 0.9574976931474205, 0.054563889936849679, 0.011420349056549933, 0.93393076729119451, 0.98529426965354339, 0.99855576944540869, 0.99453064091290144, 0.99631749886275556, 0.99532731932060992, 0.893940576332929, 0.10465645771702584, 0.00586284575683837, 0.19347390997566619, 0.79734702293001825, 0.058202499738529812, 0.93900032911494757, 0.12798257406314556, 0.012385410393207634, 0.85872178726239601, 0.0093272926621136131, 0.097936572952192935, 0.88609280290079317, 0.9765161229015471, 0.021540796828710598, 0.98377362665112456, 0.015032194634737048, 0.95826327777525722, 0.0065187978079949476, 0.032593989039974736, 0.99410917388460918, 0.98905812635820478, 0.0058524149488651169, 0.99335672308024503, 0.14839359747623948, 0.63417263827109882, 0.21699063781902941, 0.0021546580168410366, 0.036629186286297626, 0.92434828922480483, 0.034474528269456586, 0.0021546580168410366, 0.99846219277931891, 0.99872869782592211, 0.057699531955337328, 0.94094621342550111, 0.99001456378634611, 0.0077496247654508495, 0.0019374061913627124, 0.99578567658134265, 0.018726623151887507, 0.68539440735908275, 0.29400798348463386, 0.0035681051924415026, 0.21765441673893166, 0.77784693195224752, 0.013166158166738936, 0.95235210739411635, 0.035109755111303827, 0.99805264888428824, 0.0013690708489496411, 0.99495589181289323, 0.034183485212522791, 0.95144033841521769, 0.013293577582647752, 0.0030927346925578125, 0.96802595877059527, 0.027834612233020313, 0.0095248652341343373, 0.98582355173290392, 0.98907555320455076, 0.99877792546969468, 0.9446888399242459, 0.053641637598222165, 0.99313866983670451, 0.0013464778870134562, 0.368934941041687, 0.0026929557740269124, 0.62611221746125711, 0.98948672009145644, 0.0088150264596120846, 0.99525966174690317, 0.99848117692487903, 0.99648927198470572, 0.99678620228769588, 0.0025856970227955793, 0.98676928582599688, 0.10669811842007822, 0.70995286487205889, 0.18056604655705544, 0.0026206248645818811, 0.0052412497291637623, 0.99059619881195116, 0.9956540114393313, 0.0017359102062782996, 0.012151371443948096, 0.97384562572212607, 0.012151371443948096, 0.99640399447190175, 0.99656855125312027, 0.98740172158541073, 0.99743976801894918, 0.0012375183226041554, 0.99810216084161441, 0.008601627910165487, 0.98918720966903095, 0.014898854624298486, 0.97587497789155087, 0.99654678655597229, 0.99559138792519142, 0.057122265338693738, 0.041181168034872227, 0.086347610395699839, 0.81432438727021539, 0.998262551367878, 0.99628842896399594, 0.018147278913720415, 0.43150196528179652, 0.08468730159736193, 0.46578015878549062, 0.0071576468321053336, 0.035788234160526664, 0.95196702867000926, 0.99675681537295102, 0.93915474617560168, 0.058697171635975105, 0.0093611597185821478, 0.22841229713340439, 0.76199840109258676, 0.91785371254947412, 0.0064865986752613014, 0.074595884765504966, 0.076481772141647142, 0.062252605231573249, 0.53537240499152994, 0.32549219306794014, 0.0030915920078351177, 0.0030915920078351177, 0.7945391460136253, 0.17003756043093149, 0.027824328070516061, 0.99970983332869345, 0.99086503872180165, 0.0078975498021603315, 0.98719372527004146, 0.012650402065887098, 0.025300804131774195, 0.94878015494153234, 0.012650402065887098, 0.99196760305366993, 0.20953016899203089, 0.79010334557411654, 0.85428068224163611, 0.048409238660359379, 0.093970875046579971, 0.60331249491430816, 0.33922515739687287, 0.056353364909578235, 0.77052936584694742, 0.22713365635040614, 0.98366594690656961, 0.010990680971023124, 0.99389703070468127, 0.43533570599048366, 0.5501060284788839, 0.013191991090620718, 0.99703881407231565, 0.99049995887337761, 0.99508038502985185, 0.99803314110174368, 0.025590400212974696, 0.97243520809303841, 0.31770769462161658, 0.087317015409252241, 0.46498940736011435, 0.12834549252926233, 0.61894609237145493, 0.36350353231138915, 0.00028288212631236511, 0.017255809705054272, 0.7931269046027275, 0.01946323692276632, 0.090017470767794233, 0.094883279998485809, 0.99419031848907669, 0.96053152253096297, 0.99830858084966312, 0.99719470186112091, 0.0043984321234542718, 0.99404565990066551, 0.067524256321701226, 0.92958392869542017, 0.99328812849881254, 0.024491487941644064, 0.18674759555503598, 0.44084678294959312, 0.34747298517207514, 0.99582735508377118, 0.99863475506886701, 0.99106427902564165, 0.97845245911280854, 0.37177384710097394, 0.6278847195483116, 0.99757687512034521, 0.18245183747336854, 0.81635501638725161, 0.01507387898923649, 0.0075369394946182451, 0.97226519480575357, 0.99751163030680789, 0.98508880294922263, 0.012288189500686964, 0.97568224635454492, 0.0098305516005495718, 0.99686340140417184, 0.17010438266616082, 0.82871365914283479, 0.99584189559522585, 0.98954902343465267, 0.9953914975308592, 0.012722389414024827, 0.98386478135125333, 0.98712117088313023, 0.99621326800189192, 0.017394295998848341, 0.97408057593550723, 0.18457172089895385, 0.069548764396707249, 0.72223716873503685, 0.024074572291167894, 0.99851518397938188, 0.039433614619539814, 0.94640675086895543, 0.0060667099414676634, 0.0060667099414676634, 0.9896197690339108, 0.99405958483257595, 0.98718572270141647, 0.0063281136070603618, 0.79640080942712121, 0.2027202060359945, 0.018708782112714352, 0.98034018270623202, 0.087855603995911802, 0.91135546545092505, 0.98981342379973425, 0.20878426273767275, 0.78502882789364958, 0.0062635278821301828, 0.11053195141505781, 0.88069006450062193, 0.0062397069347210057, 0.0026741601148804308, 0.99899433456039277, 0.17325469141542388, 0.032014453848502239, 0.60450821678642463, 0.0018832031675589552, 0.18643711358833656, 0.069015762392829097, 0.0016432324379245021, 0.92842632742734377, 0.28111170109679012, 0.12433786779281103, 0.0013514985629653371, 0.59195637057881767, 0.97906883518682097, 0.019646866257929517, 0.98757321628172989, 0.054804781245588054, 0.84248918620668689, 0.012895242646020717, 0.021492071076701195, 0.0032238106615051793, 0.0021492071076701195, 0.06232700612243347, 0.99619801570640554, 0.99923807883573357, 0.0068555229620146044, 0.96662873764405932, 0.020566568886043815, 0.039421080988106094, 0.039421080988106094, 0.0056315829983008712, 0.91513223722389159, 0.98903505772378109, 0.0060307015714864704, 0.084855766549767217, 0.1636504069174082, 0.61823487057687543, 0.010101876970210383, 0.1212225236425246, 0.99609333323750637, 0.99489908800430704, 0.73345324385777722, 0.24306299360403083, 0.02416415725888026, 0.99125759998063112, 0.0056536530437732721, 0.97808197657277607, 0.015076408116728725, 0.98062567069278439, 0.013747088841487632, 0.0045823629471625441, 0.013582565022234721, 0.98609422061424079, 0.12792428789729973, 0.86930368366574129, 0.99413936602909758, 0.99588001010157678, 0.37382185980765398, 0.040052342122248639, 0.58520922100841066, 0.051228992431109385, 0.018628724520403414, 0.93143622602017062, 0.034971253290962463, 0.96329906792378417, 0.99813216013530526, 0.9370464304077839, 0.060131321737397901, 0.98958300839529689, 0.0096450585613576702, 0.11004084598372471, 0.86974591729443951, 0.019045531035644662, 0.99691035656516447, 0.034354442949959339, 0.96192440259886147, 0.99376796215192142, 0.9989330174079295, 0.25190827626737278, 0.55152645334296013, 0.19465639529751536, 0.99396768928007662, 0.99730535404473497, 0.84075519433828316, 0.0014545937618309398, 0.15564153251591056, 0.9937491461051815, 0.8364276404441765, 0.0029177708387587552, 0.16047739613173154, 0.44279893447771113, 0.52321036325695647, 0.0010721523837232715, 0.031092419127974873, 0.9954449099488405, 0.98334133697115356, 0.016401447621960105, 0.01337199550569191, 0.98284166966835529, 0.02882616303784611, 0.97144169437541394, 0.99947551302145099, 0.043503924099860924, 0.95260798506901345, 0.0038385815382230228, 0.021863799155442711, 0.9751254423327449, 0.99162780234410242, 0.005524388870997785, 0.026000869806396924, 0.12783760988145154, 0.27517587211770078, 0.56768565743966626, 0.0044975441579648071, 0.97146953812039827, 0.022487720789824035, 0.022610231902559261, 0.12768130956739349, 0.15029154146995274, 0.090440927610237046, 0.60781623408644603, 0.99340330236443808, 0.26092761470568426, 0.059991667647013282, 0.67436416764654694, 0.004336747058820237, 0.84451435870457814, 0.15448433390937405, 0.12760933197032265, 0.047013964410118875, 0.82274437717708027, 0.99160307547281834, 0.0059230268278884727, 0.98914548025737503, 0.98764060039418855, 0.007597235387647604, 0.77540494970929463, 0.21116692530209549, 0.013514683219334111, 0.99627088737316438, 0.99613857361174918, 0.1112892237133441, 0.86017295828438878, 0.027822305928336025, 0.98917896583758591, 0.0084908065737131829, 0.098974298576313957, 0.0022117161693031052, 0.40916749132107449, 0.48989513150063785, 0.9967401122758629, 0.0030434812588575966, 0.14364593396641617, 0.85516317697763644, 0.97173097860707491, 0.53015140038815101, 0.36142649909208951, 0.10804313854923234, 0.99219118483452151, 0.99839872764544324, 0.99546240518007068, 0.077008118961809452, 0.19252029740452364, 0.11310567472515765, 0.61847145541203219, 0.97606139509287293, 0.0069537758285721524, 0.98743616765724573, 0.99903861395098514, 0.050762540398095399, 0.025381270199047699, 0.9238782352453363, 0.82020249431447423, 0.1765336494385458, 0.98199973589849954, 0.2290343613453806, 0.0014681689829832091, 0.092494645927942168, 0.011745351863865673, 0.66508054929139371, 0.016115389027346081, 0.95080795261341877, 0.032230778054692162, 0.25944776505156203, 0.73942613039695171, 0.0035869560709423003, 0.74823903639856382, 0.24749996889501871, 0.0051286309682669895, 0.97956851493899499, 0.010257261936533979, 0.0035991743477169964, 0.021595046086301979, 0.0035991743477169964, 0.1079752304315099, 0.86380184345207922, 0.986097687700348, 0.55102305563722898, 0.27490333460047189, 0.17394326038879415, 0.99352002653811888, 0.82119744838279563, 0.01285129027203123, 0.0038553870816093691, 0.16192625742759351, 0.99588918213834754, 0.99147040698665978, 0.98826125011356958, 0.99495773256004394, 0.99554174442677801, 0.99500383245253921, 0.99891867161545134, 0.99839847436352025, 0.77975843159262148, 0.16983908076806797, 0.036595161049473211, 0.013136724479298076, 0.99313271201557407, 0.99552411996143186, 0.99245923689309457, 0.99598313909836134, 0.0026845906714241543, 0.73271535304817026, 0.1215349229936359, 0.13322097328148549, 0.011686050287849605, 0.21273667972346744, 0.78712571497682948, 0.0047851138526394284, 0.05742136623167314, 0.63881269932736373, 0.29906961578996427, 0.99062001952732048, 0.0027276213239637867, 0.032731455887565437, 0.96012270603525296, 0.0032598632944258687, 0.088016308949498454, 0.85408418313957768, 0.052157812710813899, 0.0072015114424818514, 0.2352493737877405, 0.75615870146059438, 0.99239399512217452, 0.0081496647691482148, 0.98882599198998344, 0.017235631433000678, 0.97381317596453842, 0.023170529067777036, 0.97316222084663562, 0.99604394733967971, 0.9950750938583216, 0.99882166659759286, 0.099824024803210801, 0.36481143609900674, 0.53541976939903968, 0.82621477441241498, 0.15161920062355488, 0.018677727613046615, 0.0010986898595909773, 0.0010986898595909773, 0.99449026301814547, 0.99419911443302911, 0.99312250474433961, 0.018110199186517077, 0.072440796746068306, 0.15936975284135027, 0.74614020648450352, 0.99860586303654819, 0.99434547009027774, 0.99314716776217082, 0.99468544814916893, 0.93112370256206733, 0.012030021996925934, 0.0036090065990777805, 0.052932096786474113, 0.99717814501056645, 0.29343202773170746, 0.050591728919259907, 0.65364513763683807, 0.99528471548467501, 0.993939880076949, 0.98015921987954147, 0.75872862539762964, 0.24028833625836638, 0.095239103058360308, 0.90110843662910134, 0.0036630424253215501, 0.37648048499701453, 0.60779264738924799, 0.015952562923602309, 0.55154347187318176, 0.4485365350458026, 0.99844387534780665, 0.082217530854946638, 0.1310341898000712, 0.76565075608669053, 0.02055438271373666, 0.99531220070803961, 0.0061285346222521861, 0.036771207733513118, 0.80896657013728857, 0.0040856897481681238, 0.13687060656363215, 0.0061285346222521861, 0.096370118842225905, 0.028472989657930381, 0.82571670007998099, 0.050375289394799905, 0.99208702500318091, 0.0047242239285865753, 0.99166294287197565, 0.99875966024031948, 0.99768351429648194, 0.9868647205652098, 0.99750124550968156, 0.12394556368225232, 0.65152964067183949, 0.030170959580548263, 0.19488809026354148, 0.06304249951365376, 0.93030283066094466, 0.0051115540146205746, 0.98418055334720234, 0.014332726505056344, 0.0035480673286460316, 0.99345885202088891, 0.026719239864026117, 0.0089064132880087056, 0.96189263510494027, 0.028493912690032094, 0.96879303146109119, 0.99851879132136945, 0.97635286237557117, 0.0016492446999587351, 0.021440181099463555, 0.050867862722080458, 0.94953343747883523, 0.99500884548027357, 0.29520591503671173, 0.22475904894840551, 0.47635499926378483, 0.0016773063354358622, 0.82876115062271638, 0.17074476717648734, 0.31169219361172129, 0.65218203554626464, 0.001693979313107181, 0.032185606949036438, 0.99641940626493086, 0.077140770862557162, 0.016439836413331854, 0.90545560553427751, 0.99265551091943249, 0.0061369737923921636, 0.12641094604764058, 0.0021608708726092406, 0.87137117937967634, 0.99699773547584591, 0.99876682361212055, 0.98871809859541981, 0.0053734679271490206, 0.0038898678151983129, 0.99191629287556982, 0.010068823766152028, 0.92633178648598657, 0.062091079891270835, 0.99920824013978826, 0.04562377912870054, 0.13092040967366242, 0.82122802431660979, 0.99530365164898715, 0.0024820539941371252, 0.99602680482106354, 0.99241650292821582, 0.98516763261318019, 0.012850012599302352, 0.71010450486889198, 0.28921474867176727, 0.98951530899322016, 0.8553690839654462, 0.13000428219163948, 0.014773213885413578, 0.99568691352605465, 0.99140446993349474, 0.0069655574953811899, 0.96452484377219527, 0.02581353660053029, 0.0028681707333922547, 0.12196781595233573, 0.87763798000485049, 0.99891927408352388, 0.00075532648323895944, 0.0071668564785138666, 0.0430011388710832, 0.9460250551638304, 0.0035834282392569333, 0.99621762973384886, 0.033338273800442735, 0.010001482140132821, 0.95680845807270654, 0.93336865914753719, 0.066218722439521219, 0.99811279187157032, 0.9894483003834631, 0.97984920437810064, 0.98899593403208907, 0.99475811533141711, 0.99439929319579212, 0.86357635043279068, 0.13606770227407416, 0.99585697374017523, 0.99602479747587525, 0.99839418244681155, 0.9960505761291053, 0.0034169831085046494, 0.99764117112993655, 0.018626206892871814, 0.93876082740073941, 0.040977655164317991, 0.99475811533141711, 0.99629643994199812, 0.088622558162452708, 0.91039537021428685, 0.95539547419606707, 0.002603257422877567, 0.039048861343163502, 0.99252914667369974, 0.0027162094080652299, 0.52558652046062193, 0.47126233229931741, 0.99423654101298209, 0.0012295359391490057, 0.32951563169193349, 0.66886755089705907, 0.99821238404023815, 0.087210513654550556, 0.90602033630005296, 0.27944912492396506, 0.0031469496049996068, 0.44497867414694442, 0.27189644587196604, 0.31593777015001973, 0.0023061151105840854, 0.68030395762230522, 0.99097001533333373, 0.99894884501119763, 0.0065015417703369639, 0.99256871027144311, 0.93041356330442326, 0.068713177329867592, 0.0059124277371479942, 0.053211849634331954, 0.94007601020653109, 0.91874397752180137, 0.081019103770437875, 0.036061340158832875, 0.091355395069043277, 0.82700673430923388, 0.019232714751377531, 0.024040893439221916, 0.98533014240153172, 0.96835820075036649, 0.031528705196552549, 0.99689042897317437, 0.0021531110776958407, 0.0076252292152781641, 0.99127979798616139, 0.99843662928906007, 0.13240236415369525, 0.036716621992201208, 0.38385559355483079, 0.39720709246108576, 0.048955495989601611, 0.38780396961188129, 0.008682178424146595, 0.15049109268520766, 0.45147327805562298, 0.99625090210492273, 0.65205703413088578, 0.33092836761093508, 0.016584109538589003, 0.98109534691633615, 0.34757159878183458, 0.001059669508481203, 0.0031790085254436089, 0.45459821913843607, 0.19391952005206015, 0.98740172158541073, 0.99869077965264286, 0.983351352449921, 0.99739076369973456, 0.98542609838749229, 0.014085254842262123, 0.02651404487176549, 0.96173671853040277, 0.012051838578075224, 0.9881293258736924, 0.0059219032935780135, 0.017765709880734039, 0.97119214014679422, 0.028888104551137397, 0.97034402466641001, 0.99965926985476672, 0.99586356909643159, 0.0026915231597200852, 0.99721703369364201, 0.0056076556242809278, 0.011215311248561856, 0.98133973424916232, 0.9979626084111064, 0.14528556937650933, 0.85355272008699234, 0.76717287135694767, 0.091166282919099159, 0.12728877237761016, 0.013760948365147043, 0.066355971287907642, 0.93296495630798137, 0.011274957497314296, 0.98092130226634378, 0.99771688421966576, 0.001239399856173498, 0.010415080883078357, 0.98734966771582833, 0.008859442298212776, 0.48431617896896506, 0.49711315117749461, 0.0098438247757919733, 0.027824613205145433, 0.96273161689803199, 0.0083473839615436311, 0.99842843810567716, 0.015827776375461431, 0.96549435890314717, 0.0026379627292435716, 0.015827776375461431, 0.062341495624514028, 0.93512243436771036, 0.99543302437428116, 0.98168122242770617, 0.0079023538735084262, 0.13434001584964325, 0.053340888646181875, 0.80406450662948237, 0.0031356876738992891, 0.028221189065093605, 0.31043307971602963, 0.58637359501916708, 0.070552972662734012, 0.98695065036288498, 0.067808022052014152, 0.93162325949723779, 0.83805248514705621, 0.15755386720764658, 0.99980883652825803, 0.99448664349972149, 0.0044897816862289911, 0.99546773590611481, 0.84142708034411473, 0.15759627726314854, 0.99787103212708628, 0.50240182007725942, 0.037422854381918766, 0.46030110889760079, 0.95304624700900797, 0.035216489496868654, 0.0088041223742171635, 0.0085323320190847634, 0.019908774711197782, 0.96984173950263486, 0.99480329489127006, 0.004998838717008262, 0.98977006596763595, 0.97831422055001682, 0.99104521943292745, 0.024102536199439913, 0.96191030832310198, 0.013146837926967225, 0.99263205351749495, 0.28319309460523401, 0.7019143130572586, 0.014159654730261701, 0.0089416105473402226, 0.029805368491134077, 0.95973286541451719, 0.99727262298672514, 0.99664200256071234, 0.98700855760706285, 0.98825499205520995, 0.97377599488597744, 0.024704676403026912, 0.27477125788331519, 0.7223624471955028, 0.0012433088592005211, 0.28565895320529794, 0.70339677724745409, 0.0092148049421063843, 0.98790960774566683, 0.75365725751452028, 0.24520905986118363, 0.009780754103833127, 0.039123016415332508, 0.9487331480718133, 0.99875750244285233, 0.97680006415573406, 0.0060296300256526799, 0.015074075064131699, 0.050496032291500827, 0.94048860142920288, 0.0063120040364376033, 0.98231616029820168, 0.0086930633654708107, 0.48579964867236403, 0.0096388819181024606, 0.50314963612494845, 0.0038584924509754742, 0.81992964583228833, 0.17556140651938409, 0.62241992197018403, 0.0014854890739145203, 0.37582873570037367, 0.97993240614925303, 0.0089902055610023221, 0.16322796193231193, 0.006801165080512997, 0.81273922712130309, 0.017002912701282492, 0.0054841489913679004, 0.25775500259429129, 0.73487596484329865, 0.033857737747052606, 0.96494552579099924, 0.007621058172012295, 0.007621058172012295, 0.007621058172012295, 0.026673703602043033, 0.007621058172012295, 0.94120068424351844, 0.97169463948366341, 0.027146768892723546, 0.9974695904421661, 0.98050076707184619, 0.96355691381837738, 0.99014805140512963, 0.0045628942461065887, 0.038425631003624915, 0.1956213942002723, 0.76152614170820287, 0.99626710321609846, 0.98981442818090237, 0.0090335084710121468, 0.76695377976259804, 0.0037968008899138517, 0.0075936017798277035, 0.22021445161500341, 0.24070273098457082, 0.023521439509892914, 0.73543700867598505, 0.0018094852225042908, 0.99702635759986424, 0.65692226369478668, 0.25712115750949799, 0.084716219526250774, 0.99450787208259117, 0.0024021929277357273, 0.25388618364378474, 0.037570601167017471, 0.002277006131334392, 0.70587190071366157, 0.054655843258347006, 0.94501716085399978, 0.025454758106453389, 0.96728080804522876, 0.98665008146680033, 0.0061665630091675026, 0.20013595998445005, 0.47709178339727487, 0.32143048118714707, 0.023106255642135337, 0.97559746044571427, 0.9937325533765734, 0.0034253728819277837, 0.97623127134941834, 0.019410446330924109, 0.99913701021911006, 0.99635796804967314, 0.9982436050169804, 0.99251335343313629, 0.013706642548862053, 0.98002494224363679, 0.83777824209750096, 0.15940028500085196, 0.9917970358367858, 0.99129225999784853, 0.98392231480297832, 0.015215293527881108, 0.074736545857018735, 0.011800507240581907, 0.41957359077624556, 0.038023856664097251, 0.4418634377862336, 0.014422842182933441, 0.97914759977144949, 0.020356498955747388, 0.99642018449197034, 0.99938304410195533, 0.99986560008215386, 0.995073373408912, 0.99845916710107074, 0.99224024107942299, 0.99702049514995572, 0.071215952565785806, 0.0041891736803403414, 0.92301460090165521, 0.97354031638767546, 0.99916351134942682, 0.99493868574306299, 0.017691083097505687, 0.3285486860965342, 0.0075818927560738665, 0.64698818185163653, 0.99730251181541851, 0.39519512432262022, 0.60441607249341922, 0.0047304330283257897, 0.0047304330283257897, 0.98866050292009, 0.99541005666003468, 0.76474992043235468, 0.23421575289343577, 0.96510204552321066, 0.018679394429481497, 0.015566162024567913, 0.99044803248962243, 0.95749494560369264, 0.030787618829700727, 0.0092362856489102193, 0.99147427524908593, 0.28154540681268619, 0.0029951639022626191, 0.71284900873850332, 0.074588450559411809, 0.92489678693670652, 0.99723869769376083, 0.9868647205652098, 0.99838514985170224, 0.98981277085915775, 0.0059988652779342892, 0.99462154615006304, 0.99803531132862522, 0.9755406258282957, 0.024388515645707393, 0.012470659831194972, 0.97271146683320786, 0.62036081609535776, 0.37948252677486699, 0.80571542937948748, 0.19291777886551109, 0.1510133981765, 0.84897448218553373, 0.97818482582042654, 0.99873143502826278, 0.021330969392090667, 0.88997544519222738, 0.017775807826742224, 0.02607118481255526, 0.043846992639297484, 0.016310297066272336, 0.97861782397634023, 0.98587258772404407, 0.95020414009655907, 0.12582682339921256, 0.87369892867340559, 0.99065579979465757, 0.0043834327424542366, 0.23954259005244466, 0.72998947403333925, 0.029351068346346976, 0.0018051165545297334, 0.0036102331090594668, 0.59749357954934179, 0.39712564199654132, 0.0030127868317701583, 0.92492555735343862, 0.072306883962483803, 0.99466685768097485, 0.03795103153876777, 0.17515860710200507, 0.78237511172228935, 0.99706836221561301, 0.0028008897008943152, 0.51886481709067189, 0.47755169400248076, 0.68904188268070887, 0.31083400764713837, 0.97173097860707491, 0.011531379569303718, 0.98016726339081606, 0.0038437931897679061, 0.91585202710305358, 0.083544084570403979, 0.9956969678263462, 0.0070384785913314932, 0.014076957182662986, 0.97131004560374612, 0.98756299175281204, 0.99497072068162107, 0.0031890087201334009, 0.010556901628727747, 0.98179185147168047, 0.00032891978068287707, 0.91341023095634954, 0.086176982538913788, 0.99263205351749495, 0.97193465454107819, 0.019768162465242271, 0.0065893874884140899, 0.92499141886859448, 0.069250694460750384, 0.99766460565115, 0.99356059376196593, 0.0027987622359491996, 0.99895784452152347, 0.98830830623311494, 0.99869465736565421, 0.97162506359314571, 0.98467116081951644, 0.99588931848222939, 0.06670983920051371, 0.93287886247067575, 0.99838729903904622, 0.0017640446476232933, 0.014112357180986346, 0.0017640446476232933, 0.98080882407855097, 0.12982378979050738, 0.21211367229551401, 0.65780794275741328, 0.65135214583112255, 0.3482515692297804, 0.14608761892277439, 0.24865977688982877, 0.60507212376524999, 0.9911783965920683, 0.99552285795421602], \"Term\": [\"20\", \"acquisition\", \"act\", \"act\", \"act\", \"act\", \"action\", \"action\", \"action\", \"active\", \"acts\", \"acts\", \"acts\", \"acts\", \"actual\", \"actual\", \"administration\", \"administration\", \"administration\", \"affairs\", \"affairs\", \"affairs\", \"afghanistan\", \"agenda\", \"agent\", \"ago\", \"ago\", \"agreement\", \"agreement\", \"aid\", \"aid\", \"aid\", \"aid\", \"air\", \"air\", \"air\", \"alabama\", \"allies\", \"ambassador\", \"amendments\", \"america\", \"america\", \"american\", \"american\", \"american\", \"americans\", \"americas\", \"americas\", \"amount\", \"apparent\", \"appreciation\", \"arbitration\", \"arisen\", \"arising\", \"arms\", \"arms\", \"arms\", \"arms\", \"asia\", \"asked\", \"asked\", \"asked\", \"asked\", \"atomic\", \"attack\", \"attack\", \"attained\", \"attention\", \"authorities\", \"authority\", \"authority\", \"authorized\", \"authorized\", \"authorized\", \"back\", \"back\", \"back\", \"ban\", \"bank\", \"banking\", \"banks\", \"basic\", \"battle\", \"battle\", \"begin\", \"begin\", \"begin\", \"benefits\", \"benefits\", \"berlin\", \"berlin\", \"berlin\", \"big\", \"big\", \"big\", \"bill\", \"bill\", \"billion\", \"billion\", \"blessings\", \"blessings\", \"blessings\", \"bombing\", \"boundary\", \"boundary\", \"branches\", \"bring\", \"bring\", \"bring\", \"britain\", \"britain\", \"britain\", \"britain\", \"britain\", \"british\", \"budget\", \"build\", \"build\", \"business\", \"business\", \"business\", \"businesses\", \"call\", \"call\", \"call\", \"campaign\", \"campaign\", \"campaign\", \"capital\", \"capital\", \"capital\", \"care\", \"care\", \"careful\", \"case\", \"case\", \"case\", \"cases\", \"cases\", \"cases\", \"cent\", \"cent\", \"centuries\", \"century\", \"challenge\", \"challenge\", \"challenges\", \"change\", \"change\", \"change\", \"change\", \"character\", \"character\", \"child\", \"children\", \"cities\", \"citizens\", \"citizens\", \"citizenship\", \"civil\", \"civil\", \"civil\", \"claims\", \"claims\", \"claims\", \"clean\", \"clear\", \"clear\", \"clear\", \"clear\", \"close\", \"coal\", \"columbia\", \"commerce\", \"commerce\", \"commercial\", \"commission\", \"commission\", \"commissioners\", \"commissioners\", \"commitment\", \"committee\", \"common\", \"common\", \"common\", \"common\", \"communist\", \"communists\", \"community\", \"community\", \"community\", \"community\", \"concerns\", \"concerns\", \"concerns\", \"concluded\", \"condition\", \"condition\", \"conditions\", \"conditions\", \"conditions\", \"conduct\", \"conduct\", \"conduct\", \"confidence\", \"confidence\", \"confidence\", \"confidence\", \"conflict\", \"conflict\", \"conflict\", \"conflict\", \"conflict\", \"congress\", \"congressman\", \"conscience\", \"conscience\", \"consideration\", \"consideration\", \"consideration\", \"consideration\", \"considerations\", \"constitution\", \"constitution\", \"constitutional\", \"constitutional\", \"constitutional\", \"continue\", \"continue\", \"continue\", \"continued\", \"continued\", \"continuing\", \"continuing\", \"contributions\", \"control\", \"control\", \"control\", \"cooperation\", \"corporation\", \"corporations\", \"cost\", \"costs\", \"costs\", \"countries\", \"countries\", \"countries\", \"countries\", \"country\", \"country\", \"country\", \"country\", \"court\", \"court\", \"court\", \"court\", \"courts\", \"covenant\", \"crime\", \"cuba\", \"currency\", \"currency\", \"cut\", \"cut\", \"cuts\", \"days\", \"days\", \"days\", \"days\", \"debate\", \"debt\", \"deemed\", \"defended\", \"defense\", \"defense\", \"deficit\", \"democracy\", \"democracy\", \"democrats\", \"democrats\", \"democrats\", \"department\", \"deposit\", \"desire\", \"desire\", \"desire\", \"determined\", \"development\", \"development\", \"didnt\", \"died\", \"difficulty\", \"diplomatic\", \"diplomatic\", \"disarmament\", \"disposition\", \"doesnt\", \"doesnt\", \"domestic\", \"domestic\", \"domestic\", \"domestic\", \"dont\", \"doubt\", \"doubt\", \"doubt\", \"doubt\", \"drawn\", \"dream\", \"drugs\", \"drugs\", \"due\", \"due\", \"duties\", \"duties\", \"duty\", \"duty\", \"earnest\", \"east\", \"east\", \"east\", \"economic\", \"economic\", \"economic\", \"economic\", \"economy\", \"education\", \"education\", \"education\", \"education\", \"education\", \"effect\", \"effect\", \"effect\", \"effort\", \"effort\", \"effort\", \"effort\", \"efforts\", \"efforts\", \"element\", \"end\", \"end\", \"end\", \"end\", \"end\", \"end\", \"end\", \"enemy\", \"energy\", \"ensure\", \"ensure\", \"ensure\", \"entire\", \"entire\", \"entire\", \"entire\", \"entitled\", \"entitled\", \"equal\", \"equal\", \"equal\", \"equal\", \"equal\", \"established\", \"estimated\", \"europe\", \"europe\", \"europe\", \"evening\", \"executive\", \"executive\", \"executive\", \"existence\", \"existence\", \"existence\", \"existing\", \"existing\", \"expenditures\", \"expenditures\", \"expense\", \"expenses\", \"experience\", \"experience\", \"experience\", \"extended\", \"extended\", \"extended\", \"extent\", \"extent\", \"fact\", \"fair\", \"fair\", \"faith\", \"faith\", \"family\", \"family\", \"family\", \"farmer\", \"farmers\", \"farmers\", \"favorable\", \"federal\", \"fellow\", \"fellow\", \"fellow\", \"fellowcitizens\", \"fight\", \"find\", \"find\", \"find\", \"flag\", \"force\", \"force\", \"force\", \"forces\", \"forces\", \"forces\", \"forces\", \"ford\", \"foreign\", \"foreign\", \"formed\", \"formed\", \"france\", \"france\", \"free\", \"freedom\", \"freedom\", \"freedom\", \"french\", \"french\", \"friendly\", \"friendly\", \"friends\", \"friends\", \"friends\", \"friends\", \"friendship\", \"friendship\", \"friendship\", \"full\", \"full\", \"full\", \"full\", \"full\", \"furnish\", \"future\", \"future\", \"future\", \"future\", \"general\", \"general\", \"generation\", \"generation\", \"generation\", \"generous\", \"german\", \"german\", \"germany\", \"germany\", \"give\", \"give\", \"give\", \"global\", \"goals\", \"god\", \"god\", \"god\", \"gold\", \"gold\", \"good\", \"good\", \"good\", \"good\", \"government\", \"government\", \"governments\", \"governments\", \"graduates\", \"great\", \"great\", \"great\", \"greece\", \"growth\", \"gulf\", \"hand\", \"hand\", \"hand\", \"hand\", \"harm\", \"harmony\", \"harmony\", \"health\", \"heard\", \"heard\", \"heard\", \"held\", \"held\", \"heroes\", \"high\", \"high\", \"high\", \"high\", \"high\", \"historic\", \"historic\", \"historic\", \"history\", \"history\", \"hope\", \"hope\", \"hope\", \"hoped\", \"hoped\", \"hoped\", \"hopes\", \"hopes\", \"hopes\", \"hopes\", \"hopes\", \"hospital\", \"house\", \"house\", \"house\", \"housing\", \"human\", \"human\", \"human\", \"human\", \"hundred\", \"hunger\", \"hungry\", \"id\", \"ideas\", \"ii\", \"im\", \"importance\", \"important\", \"important\", \"important\", \"important\", \"imports\", \"improve\", \"incentives\", \"including\", \"including\", \"increase\", \"increase\", \"increase\", \"increase\", \"individual\", \"individual\", \"industry\", \"industry\", \"industry\", \"industry\", \"inevitable\", \"inflation\", \"inflation\", \"inflation\", \"influence\", \"influence\", \"influence\", \"influence\", \"information\", \"information\", \"information\", \"instances\", \"institutions\", \"institutions\", \"instructions\", \"instructions\", \"instrument\", \"instrument\", \"insurance\", \"insurrection\", \"intercourse\", \"interest\", \"interest\", \"interest\", \"interests\", \"interests\", \"interests\", \"interests\", \"interests\", \"interstate\", \"iraq\", \"iraqi\", \"issues\", \"issues\", \"issues\", \"issues\", \"jobs\", \"john\", \"judge\", \"jurisdiction\", \"justice\", \"justice\", \"justice\", \"justice\", \"kennedy\", \"kind\", \"kind\", \"kind\", \"knew\", \"korea\", \"kuwait\", \"land\", \"land\", \"lands\", \"lands\", \"lands\", \"large\", \"large\", \"large\", \"law\", \"law\", \"laws\", \"lead\", \"lead\", \"lead\", \"lead\", \"leader\", \"leaders\", \"leaders\", \"leaders\", \"leaders\", \"leaders\", \"leaders\", \"leadership\", \"leadership\", \"leadership\", \"leadership\", \"learned\", \"learned\", \"lebanon\", \"legislation\", \"legislature\", \"lehrer\", \"lets\", \"life\", \"life\", \"life\", \"life\", \"live\", \"live\", \"live\", \"lives\", \"lives\", \"lost\", \"lost\", \"machinery\", \"machinery\", \"machinery\", \"maintained\", \"maintained\", \"major\", \"making\", \"making\", \"making\", \"manner\", \"manner\", \"massive\", \"matter\", \"matter\", \"matter\", \"matter\", \"means\", \"means\", \"measures\", \"measures\", \"measures\", \"measures\", \"medical\", \"meet\", \"meet\", \"meet\", \"members\", \"members\", \"men\", \"men\", \"men\", \"mere\", \"message\", \"methods\", \"methods\", \"mexico\", \"mexico\", \"military\", \"military\", \"military\", \"million\", \"millions\", \"millions\", \"millions\", \"minister\", \"minister\", \"missiles\", \"missouri\", \"modern\", \"modern\", \"moment\", \"moment\", \"mondale\", \"money\", \"money\", \"money\", \"morning\", \"moving\", \"nation\", \"nation\", \"nation\", \"nation\", \"national\", \"national\", \"nations\", \"nations\", \"nature\", \"nature\", \"nature\", \"nature\", \"naval\", \"navy\", \"navy\", \"navy\", \"necessity\", \"necessity\", \"negotiations\", \"negro\", \"negroes\", \"neutral\", \"nicaragua\", \"nixon\", \"north\", \"north\", \"notice\", \"november\", \"nuclear\", \"number\", \"number\", \"objects\", \"occasion\", \"occasion\", \"occasion\", \"occurred\", \"oil\", \"operations\", \"operations\", \"opinion\", \"opinion\", \"opinion\", \"opinions\", \"opportunity\", \"opportunity\", \"opportunity\", \"opposition\", \"order\", \"order\", \"order\", \"paid\", \"parents\", \"parents\", \"part\", \"part\", \"part\", \"part\", \"parties\", \"parties\", \"parties\", \"partnership\", \"party\", \"past\", \"past\", \"pay\", \"pay\", \"payments\", \"payments\", \"payments\", \"peace\", \"peace\", \"peaceful\", \"peaceful\", \"peaceful\", \"peaceful\", \"peaceful\", \"pennsylvania\", \"people\", \"people\", \"peoples\", \"peoples\", \"percent\", \"percent\", \"period\", \"place\", \"place\", \"place\", \"place\", \"place\", \"plan\", \"plan\", \"plan\", \"plan\", \"policies\", \"policy\", \"policy\", \"policy\", \"polish\", \"political\", \"political\", \"political\", \"political\", \"political\", \"port\", \"position\", \"possibilities\", \"poverty\", \"power\", \"power\", \"powers\", \"powers\", \"powers\", \"practicable\", \"practice\", \"practice\", \"practice\", \"present\", \"present\", \"president\", \"price\", \"price\", \"prices\", \"principal\", \"principal\", \"principal\", \"principle\", \"principles\", \"principles\", \"private\", \"private\", \"private\", \"private\", \"problems\", \"problems\", \"processes\", \"processes\", \"program\", \"program\", \"programs\", \"programs\", \"progress\", \"progress\", \"progress\", \"progress\", \"promise\", \"promise\", \"promise\", \"proper\", \"property\", \"property\", \"property\", \"property\", \"proportion\", \"proportion\", \"propose\", \"prosecution\", \"protection\", \"protection\", \"protection\", \"protection\", \"provide\", \"provide\", \"provide\", \"provide\", \"provide\", \"providence\", \"provision\", \"provision\", \"provisions\", \"provisions\", \"public\", \"purpose\", \"purpose\", \"pursuit\", \"put\", \"put\", \"quarter\", \"question\", \"question\", \"question\", \"questions\", \"questions\", \"questions\", \"rates\", \"rates\", \"rates\", \"ratification\", \"read\", \"read\", \"readily\", \"reagan\", \"real\", \"real\", \"real\", \"rebuild\", \"received\", \"received\", \"received\", \"record\", \"record\", \"record\", \"recovery\", \"reduction\", \"reference\", \"reforms\", \"regard\", \"regard\", \"relations\", \"relations\", \"relations\", \"remember\", \"remember\", \"remember\", \"repeal\", \"report\", \"report\", \"representatives\", \"representatives\", \"representatives\", \"republic\", \"republican\", \"republican\", \"republican\", \"resolve\", \"resolve\", \"resolve\", \"resort\", \"resort\", \"resources\", \"resources\", \"resources\", \"respect\", \"respect\", \"respect\", \"responsibility\", \"responsibility\", \"responsibility\", \"restoration\", \"restoration\", \"results\", \"results\", \"results\", \"results\", \"return\", \"return\", \"return\", \"revenue\", \"revenue\", \"revolution\", \"revolution\", \"revolution\", \"revolution\", \"revolution\", \"revolution\", \"rights\", \"rights\", \"role\", \"roots\", \"runs\", \"satisfactory\", \"satisfactory\", \"school\", \"school\", \"school\", \"seas\", \"secretary\", \"secretary\", \"secure\", \"secure\", \"secure\", \"secure\", \"security\", \"security\", \"security\", \"seek\", \"seek\", \"senate\", \"senate\", \"senate\", \"senator\", \"senator\", \"service\", \"service\", \"service\", \"service\", \"session\", \"session\", \"sign\", \"sign\", \"silver\", \"silver\", \"social\", \"social\", \"social\", \"society\", \"society\", \"sons\", \"south\", \"south\", \"south\", \"soviet\", \"space\", \"spain\", \"spanish\", \"speaker\", \"speaker\", \"special\", \"special\", \"specie\", \"specific\", \"spending\", \"spending\", \"spirit\", \"spirit\", \"spirit\", \"spirit\", \"spirit\", \"spirit\", \"stand\", \"stand\", \"start\", \"state\", \"states\", \"statute\", \"stop\", \"story\", \"strategic\", \"strength\", \"strength\", \"strength\", \"struck\", \"subject\", \"subjects\", \"success\", \"success\", \"success\", \"success\", \"sufficient\", \"support\", \"support\", \"supreme\", \"supreme\", \"supreme\", \"surplus\", \"system\", \"system\", \"taking\", \"taking\", \"taking\", \"talents\", \"talk\", \"talk\", \"talk\", \"talks\", \"task\", \"task\", \"task\", \"tax\", \"tax\", \"taxation\", \"tend\", \"territory\", \"terror\", \"terror\", \"terrorists\", \"theyre\", \"thing\", \"thing\", \"ties\", \"ties\", \"time\", \"time\", \"times\", \"times\", \"today\", \"today\", \"todays\", \"tonight\", \"trade\", \"trade\", \"trade\", \"trade\", \"trade\", \"traditions\", \"traditions\", \"tragedy\", \"transport\", \"treasury\", \"treasury\", \"treaties\", \"treaties\", \"treaty\", \"treaty\", \"treaty\", \"true\", \"true\", \"true\", \"true\", \"turn\", \"turn\", \"turn\", \"uh\", \"understand\", \"understand\", \"understand\", \"unemployment\", \"union\", \"union\", \"union\", \"united\", \"united\", \"universities\", \"values\", \"values\", \"values\", \"vietnam\", \"vietnam\", \"vietnamese\", \"vision\", \"vision\", \"vision\", \"voices\", \"vote\", \"vote\", \"wall\", \"wall\", \"war\", \"war\", \"war\", \"watergate\", \"ways\", \"ways\", \"ways\", \"wealth\", \"wealth\", \"weapons\", \"west\", \"west\", \"weve\", \"whilst\", \"white\", \"whites\", \"wishes\", \"wont\", \"work\", \"work\", \"workers\", \"working\", \"working\", \"working\", \"working\", \"world\", \"world\", \"world\", \"year\", \"year\", \"years\", \"years\", \"years\", \"youre\", \"youve\"]}, \"mdsDat\": {\"y\": [-0.23694589734701296, -0.21432871606016535, -0.08804879229554452, -0.0550870833205881, 0.071484398623272466, 0.065130071333156833, 0.15370998778236328, 0.15866997520816806, 0.12073370278084128, 0.024682353295508701], \"cluster\": [1, 1, 1, 1, 1, 1, 1, 1, 1, 1], \"Freq\": [13.00334018594334, 12.873568112316777, 12.633409436023706, 11.868214993848307, 10.834901928910408, 8.598418739504563, 8.0906204305851794, 7.9656577771204926, 7.5449273242692962, 6.5869410714779253], \"topics\": [1, 2, 3, 4, 5, 6, 7, 8, 9, 10], \"x\": [0.13252016674778039, 0.13620316435034385, -0.24903213553973041, -0.23831546435000089, -0.11012420599863605, 0.016186862236994608, 0.057046929771351278, 0.10952084642206776, 0.027124693152399765, 0.11886914320742978]}, \"R\": 30, \"lambda.step\": 0.01, \"tinfo\": {\"Category\": [\"Default\", \"Default\", \"Default\", \"Default\", \"Default\", \"Default\", \"Default\", \"Default\", \"Default\", \"Default\", \"Default\", \"Default\", \"Default\", \"Default\", \"Default\", \"Default\", \"Default\", \"Default\", \"Default\", \"Default\", \"Default\", \"Default\", \"Default\", \"Default\", \"Default\", \"Default\", \"Default\", \"Default\", \"Default\", \"Default\", \"Topic1\", \"Topic1\", \"Topic1\", \"Topic1\", \"Topic1\", \"Topic1\", \"Topic1\", \"Topic1\", \"Topic1\", \"Topic1\", \"Topic1\", \"Topic1\", \"Topic1\", \"Topic1\", \"Topic1\", \"Topic1\", \"Topic1\", \"Topic1\", \"Topic1\", \"Topic1\", \"Topic1\", \"Topic1\", \"Topic1\", \"Topic1\", \"Topic1\", \"Topic1\", \"Topic1\", \"Topic1\", \"Topic1\", \"Topic1\", \"Topic1\", \"Topic1\", \"Topic1\", \"Topic1\", \"Topic1\", \"Topic1\", \"Topic1\", \"Topic1\", \"Topic1\", \"Topic1\", \"Topic1\", \"Topic1\", \"Topic1\", \"Topic1\", \"Topic1\", \"Topic1\", \"Topic1\", \"Topic1\", \"Topic1\", \"Topic1\", \"Topic1\", \"Topic1\", \"Topic1\", \"Topic1\", \"Topic1\", \"Topic2\", \"Topic2\", \"Topic2\", \"Topic2\", \"Topic2\", \"Topic2\", \"Topic2\", \"Topic2\", \"Topic2\", \"Topic2\", \"Topic2\", \"Topic2\", \"Topic2\", \"Topic2\", \"Topic2\", \"Topic2\", \"Topic2\", \"Topic2\", \"Topic2\", \"Topic2\", \"Topic2\", \"Topic2\", \"Topic2\", \"Topic2\", \"Topic2\", \"Topic2\", \"Topic2\", \"Topic2\", \"Topic2\", \"Topic2\", \"Topic2\", \"Topic2\", \"Topic2\", \"Topic2\", \"Topic2\", \"Topic2\", \"Topic2\", \"Topic2\", \"Topic2\", \"Topic2\", \"Topic2\", \"Topic2\", \"Topic2\", \"Topic2\", \"Topic2\", \"Topic2\", \"Topic2\", \"Topic2\", \"Topic2\", \"Topic2\", \"Topic2\", \"Topic2\", \"Topic2\", \"Topic2\", \"Topic2\", \"Topic2\", \"Topic2\", \"Topic2\", \"Topic3\", \"Topic3\", \"Topic3\", \"Topic3\", \"Topic3\", \"Topic3\", \"Topic3\", \"Topic3\", \"Topic3\", \"Topic3\", \"Topic3\", \"Topic3\", \"Topic3\", \"Topic3\", \"Topic3\", \"Topic3\", \"Topic3\", \"Topic3\", \"Topic3\", \"Topic3\", \"Topic3\", \"Topic3\", \"Topic3\", \"Topic3\", \"Topic3\", \"Topic3\", \"Topic3\", \"Topic3\", \"Topic3\", \"Topic3\", \"Topic3\", \"Topic3\", \"Topic3\", \"Topic3\", \"Topic3\", \"Topic3\", \"Topic3\", \"Topic3\", \"Topic3\", \"Topic3\", \"Topic3\", \"Topic3\", \"Topic3\", \"Topic3\", \"Topic3\", \"Topic3\", \"Topic3\", \"Topic3\", \"Topic3\", \"Topic3\", \"Topic3\", \"Topic3\", \"Topic3\", \"Topic4\", \"Topic4\", \"Topic4\", \"Topic4\", \"Topic4\", \"Topic4\", \"Topic4\", \"Topic4\", \"Topic4\", \"Topic4\", \"Topic4\", \"Topic4\", \"Topic4\", \"Topic4\", \"Topic4\", \"Topic4\", \"Topic4\", \"Topic4\", \"Topic4\", \"Topic4\", \"Topic4\", \"Topic4\", \"Topic4\", \"Topic4\", \"Topic4\", \"Topic4\", \"Topic4\", \"Topic4\", \"Topic4\", \"Topic4\", \"Topic4\", \"Topic4\", \"Topic4\", \"Topic4\", \"Topic4\", \"Topic4\", \"Topic4\", \"Topic4\", \"Topic4\", \"Topic4\", \"Topic4\", \"Topic4\", \"Topic4\", \"Topic4\", \"Topic4\", \"Topic4\", \"Topic4\", \"Topic4\", \"Topic4\", \"Topic4\", \"Topic4\", \"Topic4\", \"Topic4\", \"Topic4\", \"Topic4\", \"Topic4\", \"Topic4\", \"Topic4\", \"Topic4\", \"Topic4\", \"Topic4\", \"Topic4\", \"Topic4\", \"Topic4\", \"Topic4\", \"Topic5\", \"Topic5\", \"Topic5\", \"Topic5\", \"Topic5\", \"Topic5\", \"Topic5\", \"Topic5\", \"Topic5\", \"Topic5\", \"Topic5\", \"Topic5\", \"Topic5\", \"Topic5\", \"Topic5\", \"Topic5\", \"Topic5\", \"Topic5\", \"Topic5\", \"Topic5\", \"Topic5\", \"Topic5\", \"Topic5\", \"Topic5\", \"Topic5\", \"Topic5\", \"Topic5\", \"Topic5\", \"Topic5\", \"Topic5\", \"Topic5\", \"Topic5\", \"Topic5\", \"Topic5\", \"Topic5\", \"Topic5\", \"Topic5\", \"Topic5\", \"Topic5\", \"Topic5\", \"Topic5\", \"Topic5\", \"Topic5\", \"Topic5\", \"Topic5\", \"Topic5\", \"Topic5\", \"Topic5\", \"Topic5\", \"Topic5\", \"Topic5\", \"Topic5\", \"Topic5\", \"Topic5\", \"Topic5\", \"Topic5\", \"Topic5\", \"Topic5\", \"Topic5\", \"Topic5\", \"Topic5\", \"Topic6\", \"Topic6\", \"Topic6\", \"Topic6\", \"Topic6\", \"Topic6\", \"Topic6\", \"Topic6\", \"Topic6\", \"Topic6\", \"Topic6\", \"Topic6\", \"Topic6\", \"Topic6\", \"Topic6\", \"Topic6\", \"Topic6\", \"Topic6\", \"Topic6\", \"Topic6\", \"Topic6\", \"Topic6\", \"Topic6\", \"Topic6\", \"Topic6\", \"Topic6\", \"Topic6\", \"Topic6\", \"Topic6\", \"Topic6\", \"Topic6\", \"Topic6\", \"Topic6\", \"Topic6\", \"Topic6\", \"Topic6\", \"Topic6\", \"Topic6\", \"Topic6\", \"Topic6\", \"Topic6\", \"Topic6\", \"Topic6\", \"Topic6\", \"Topic6\", \"Topic6\", \"Topic6\", \"Topic6\", \"Topic6\", \"Topic6\", \"Topic6\", \"Topic6\", \"Topic6\", \"Topic6\", \"Topic6\", \"Topic6\", \"Topic6\", \"Topic6\", \"Topic6\", \"Topic6\", \"Topic6\", \"Topic6\", \"Topic6\", \"Topic6\", \"Topic6\", \"Topic6\", \"Topic6\", \"Topic7\", \"Topic7\", \"Topic7\", \"Topic7\", \"Topic7\", \"Topic7\", \"Topic7\", \"Topic7\", \"Topic7\", \"Topic7\", \"Topic7\", \"Topic7\", \"Topic7\", \"Topic7\", \"Topic7\", \"Topic7\", \"Topic7\", \"Topic7\", \"Topic7\", \"Topic7\", \"Topic7\", \"Topic7\", \"Topic7\", \"Topic7\", \"Topic7\", \"Topic7\", \"Topic7\", \"Topic7\", \"Topic7\", \"Topic7\", \"Topic7\", \"Topic7\", \"Topic7\", \"Topic7\", \"Topic7\", \"Topic7\", \"Topic7\", \"Topic7\", \"Topic7\", \"Topic7\", \"Topic7\", \"Topic7\", \"Topic7\", \"Topic7\", \"Topic7\", \"Topic7\", \"Topic7\", \"Topic7\", \"Topic7\", \"Topic7\", \"Topic7\", \"Topic7\", \"Topic7\", \"Topic7\", \"Topic7\", \"Topic7\", \"Topic7\", \"Topic7\", \"Topic7\", \"Topic7\", \"Topic7\", \"Topic7\", \"Topic7\", \"Topic7\", \"Topic7\", \"Topic8\", \"Topic8\", \"Topic8\", \"Topic8\", \"Topic8\", \"Topic8\", \"Topic8\", \"Topic8\", \"Topic8\", \"Topic8\", \"Topic8\", \"Topic8\", \"Topic8\", \"Topic8\", \"Topic8\", \"Topic8\", \"Topic8\", \"Topic8\", \"Topic8\", \"Topic8\", \"Topic8\", \"Topic8\", \"Topic8\", \"Topic8\", \"Topic8\", \"Topic8\", \"Topic8\", \"Topic8\", \"Topic8\", \"Topic8\", \"Topic8\", \"Topic8\", \"Topic8\", \"Topic8\", \"Topic8\", \"Topic8\", \"Topic8\", \"Topic8\", \"Topic8\", \"Topic8\", \"Topic8\", \"Topic8\", \"Topic8\", \"Topic8\", \"Topic8\", \"Topic8\", \"Topic8\", \"Topic8\", \"Topic8\", \"Topic8\", \"Topic8\", \"Topic8\", \"Topic8\", \"Topic8\", \"Topic8\", \"Topic8\", \"Topic8\", \"Topic8\", \"Topic9\", \"Topic9\", \"Topic9\", \"Topic9\", \"Topic9\", \"Topic9\", \"Topic9\", \"Topic9\", \"Topic9\", \"Topic9\", \"Topic9\", \"Topic9\", \"Topic9\", \"Topic9\", \"Topic9\", \"Topic9\", \"Topic9\", \"Topic9\", \"Topic9\", \"Topic9\", \"Topic9\", \"Topic9\", \"Topic9\", \"Topic9\", \"Topic9\", \"Topic9\", \"Topic9\", \"Topic9\", \"Topic9\", \"Topic9\", \"Topic9\", \"Topic9\", \"Topic9\", \"Topic9\", \"Topic9\", \"Topic9\", \"Topic9\", \"Topic9\", \"Topic9\", \"Topic9\", \"Topic9\", \"Topic9\", \"Topic9\", \"Topic9\", \"Topic9\", \"Topic9\", \"Topic9\", \"Topic9\", \"Topic9\", \"Topic9\", \"Topic9\", \"Topic9\", \"Topic9\", \"Topic9\", \"Topic9\", \"Topic9\", \"Topic9\", \"Topic9\", \"Topic9\", \"Topic10\", \"Topic10\", \"Topic10\", \"Topic10\", \"Topic10\", \"Topic10\", \"Topic10\", \"Topic10\", \"Topic10\", \"Topic10\", \"Topic10\", \"Topic10\", \"Topic10\", \"Topic10\", \"Topic10\", \"Topic10\", \"Topic10\", \"Topic10\", \"Topic10\", \"Topic10\", \"Topic10\", \"Topic10\", \"Topic10\", \"Topic10\", \"Topic10\", \"Topic10\", \"Topic10\", \"Topic10\", \"Topic10\", \"Topic10\", \"Topic10\", \"Topic10\", \"Topic10\", \"Topic10\", \"Topic10\", \"Topic10\", \"Topic10\", \"Topic10\", \"Topic10\", \"Topic10\", \"Topic10\", \"Topic10\", \"Topic10\", \"Topic10\", \"Topic10\", \"Topic10\", \"Topic10\", \"Topic10\", \"Topic10\", \"Topic10\", \"Topic10\", \"Topic10\", \"Topic10\", \"Topic10\", \"Topic10\", \"Topic10\", \"Topic10\", \"Topic10\", \"Topic10\", \"Topic10\", \"Topic10\", \"Topic10\", \"Topic10\"], \"Term\": [\"government\", \"states\", \"people\", \"united\", \"congress\", \"president\", \"world\", \"time\", \"american\", \"peace\", \"nations\", \"war\", \"america\", \"country\", \"years\", \"national\", \"men\", \"nation\", \"public\", \"great\", \"work\", \"state\", \"power\", \"year\", \"free\", \"freedom\", \"citizens\", \"americans\", \"rights\", \"today\", \"president\", \"free\", \"americans\", \"federal\", \"laws\", \"fact\", \"weapons\", \"principle\", \"reduction\", \"stop\", \"paid\", \"deficit\", \"prices\", \"oil\", \"citizens\", \"insurance\", \"propose\", \"iraq\", \"concluded\", \"minister\", \"number\", \"debate\", \"price\", \"including\", \"estimated\", \"korea\", \"november\", \"morning\", \"vote\", \"specific\", \"members\", \"attack\", \"agreement\", \"bill\", \"making\", \"spending\", \"germany\", \"republican\", \"justice\", \"questions\", \"pay\", \"administration\", \"give\", \"money\", \"important\", \"year\", \"human\", \"ago\", \"policy\", \"increase\", \"times\", \"land\", \"special\", \"continue\", \"private\", \"public\", \"state\", \"nations\", \"nuclear\", \"message\", \"negotiations\", \"fight\", \"determined\", \"bank\", \"banks\", \"space\", \"strategic\", \"20\", \"west\", \"purpose\", \"notice\", \"gulf\", \"opinions\", \"reforms\", \"clean\", \"active\", \"opposition\", \"inevitable\", \"disarmament\", \"ratification\", \"specie\", \"corporation\", \"faith\", \"entitled\", \"wishes\", \"power\", \"foreign\", \"people\", \"duties\", \"present\", \"nation\", \"desire\", \"powers\", \"modern\", \"continuing\", \"peace\", \"existence\", \"military\", \"taking\", \"vietnam\", \"live\", \"general\", \"force\", \"end\", \"doubt\", \"system\", \"north\", \"secure\", \"year\", \"east\", \"question\", \"progress\", \"house\", \"states\", \"congress\", \"tonight\", \"economy\", \"period\", \"energy\", \"department\", \"cost\", \"amount\", \"century\", \"growth\", \"allies\", \"major\", \"program\", \"enemy\", \"hundred\", \"kennedy\", \"surplus\", \"authorities\", \"goals\", \"improve\", \"housing\", \"leader\", \"moving\", \"expense\", \"cuts\", \"ambassador\", \"ii\", \"lost\", \"imports\", \"business\", \"secretary\", \"lives\", \"air\", \"billion\", \"treaties\", \"efforts\", \"stand\", \"war\", \"real\", \"property\", \"trade\", \"fair\", \"united\", \"means\", \"put\", \"great\", \"law\", \"europe\", \"report\", \"bring\", \"forces\", \"world\", \"subject\", \"legislation\", \"british\", \"commercial\", \"importance\", \"commerce\", \"spain\", \"established\", \"intercourse\", \"cuba\", \"government\", \"subjects\", \"objects\", \"courts\", \"favorable\", \"quarter\", \"disposition\", \"taxation\", \"mere\", \"careful\", \"jurisdiction\", \"earnest\", \"farmer\", \"difficulty\", \"statute\", \"flag\", \"considerations\", \"friendly\", \"drawn\", \"repeal\", \"satisfactory\", \"gold\", \"boundary\", \"regard\", \"supreme\", \"silver\", \"cases\", \"session\", \"capital\", \"opinion\", \"french\", \"condition\", \"britain\", \"hoped\", \"necessity\", \"interests\", \"occasion\", \"country\", \"treaty\", \"expenditures\", \"conditions\", \"constitutional\", \"court\", \"united\", \"great\", \"interest\", \"act\", \"measures\", \"countries\", \"received\", \"action\", \"policy\", \"part\", \"support\", \"years\", \"children\", \"million\", \"health\", \"im\", \"asia\", \"care\", \"policies\", \"child\", \"communist\", \"basic\", \"unemployment\", \"start\", \"john\", \"peoples\", \"vietnamese\", \"recovery\", \"senator\", \"didnt\", \"challenges\", \"missiles\", \"businesses\", \"ideas\", \"global\", \"lebanon\", \"partnership\", \"americas\", \"ford\", \"massive\", \"bombing\", \"greece\", \"south\", \"america\", \"terror\", \"drugs\", \"freedom\", \"values\", \"thing\", \"work\", \"rates\", \"ways\", \"build\", \"talk\", \"economic\", \"today\", \"american\", \"cut\", \"challenge\", \"find\", \"future\", \"turn\", \"life\", \"god\", \"leaders\", \"development\", \"country\", \"action\", \"progress\", \"world\", \"years\", \"opportunity\", \"great\", \"sufficient\", \"spanish\", \"legislature\", \"seas\", \"nicaragua\", \"occurred\", \"judge\", \"deemed\", \"fellowcitizens\", \"mexico\", \"missouri\", \"past\", \"generous\", \"neutral\", \"currency\", \"reference\", \"methods\", \"insurrection\", \"banking\", \"character\", \"furnish\", \"arisen\", \"whilst\", \"tend\", \"lehrer\", \"alabama\", \"agent\", \"attained\", \"readily\", \"acquisition\", \"rights\", \"executive\", \"actual\", \"extent\", \"consideration\", \"instructions\", \"instrument\", \"authority\", \"nature\", \"manner\", \"conduct\", \"blessings\", \"governments\", \"principles\", \"operations\", \"wealth\", \"respect\", \"protection\", \"relations\", \"held\", \"due\", \"provisions\", \"senate\", \"civil\", \"results\", \"acts\", \"continued\", \"affairs\", \"good\", \"large\", \"parties\", \"american\", \"equal\", \"domestic\", \"confidence\", \"defense\", \"aid\", \"party\", \"jobs\", \"workers\", \"commitment\", \"crime\", \"committee\", \"poverty\", \"pursuit\", \"died\", \"coal\", \"learned\", \"centuries\", \"tragedy\", \"ban\", \"sons\", \"rebuild\", \"watergate\", \"hunger\", \"congressman\", \"voices\", \"hospital\", \"pennsylvania\", \"conscience\", \"heroes\", \"polish\", \"kuwait\", \"todays\", \"harm\", \"speaker\", \"wall\", \"clear\", \"society\", \"promise\", \"vision\", \"doesnt\", \"strength\", \"ensure\", \"sign\", \"resolve\", \"family\", \"heard\", \"battle\", \"hope\", \"world\", \"security\", \"peaceful\", \"time\", \"generation\", \"conflict\", \"lead\", \"defense\", \"support\", \"call\", \"good\", \"moment\", \"effort\", \"kind\", \"provide\", \"true\", \"education\", \"opportunity\", \"place\", \"spirit\", \"control\", \"plan\", \"attention\", \"republic\", \"proper\", \"debt\", \"position\", \"close\", \"naval\", \"expenses\", \"arbitration\", \"branches\", \"practicable\", \"instances\", \"providence\", \"claims\", \"apparent\", \"institutions\", \"commission\", \"arising\", \"port\", \"columbia\", \"harmony\", \"appreciation\", \"cent\", \"amendments\", \"existing\", \"diplomatic\", \"resort\", \"restoration\", \"deposit\", \"prosecution\", \"formed\", \"principal\", \"france\", \"revenue\", \"friendship\", \"commissioners\", \"case\", \"representatives\", \"navy\", \"effect\", \"duty\", \"maintained\", \"provision\", \"authorized\", \"treasury\", \"constitution\", \"lands\", \"extended\", \"influence\", \"order\", \"union\", \"information\", \"time\", \"part\", \"control\", \"political\", \"industry\", \"matter\", \"soviet\", \"dont\", \"weve\", \"budget\", \"white\", \"lets\", \"theyre\", \"role\", \"medical\", \"knew\", \"talks\", \"evening\", \"communists\", \"wont\", \"terrorists\", \"nixon\", \"story\", \"afghanistan\", \"youre\", \"negro\", \"atomic\", \"youve\", \"id\", \"percent\", \"uh\", \"agenda\", \"iraqi\", \"read\", \"incentives\", \"reagan\", \"programs\", \"working\", \"inflation\", \"record\", \"tax\", \"problems\", \"historic\", \"democrats\", \"leadership\", \"years\", \"democracy\", \"arms\", \"parents\", \"asked\", \"begin\", \"big\", \"understand\", \"berlin\", \"change\", \"union\", \"question\", \"campaign\", \"fellow\", \"remember\", \"part\", \"issues\", \"social\", \"responsibility\", \"days\", \"territory\", \"cooperation\", \"cities\", \"seek\", \"corporations\", \"dream\", \"interstate\", \"citizenship\", \"german\", \"talents\", \"mondale\", \"element\", \"possibilities\", \"negroes\", \"contributions\", \"hungry\", \"struck\", \"universities\", \"graduates\", \"processes\", \"ties\", \"roots\", \"defended\", \"whites\", \"runs\", \"practice\", \"covenant\", \"costs\", \"traditions\", \"transport\", \"farmers\", \"back\", \"machinery\", \"revolution\", \"concerns\", \"benefits\", \"meet\", \"national\", \"men\", \"entire\", \"payments\", \"common\", \"millions\", \"hopes\", \"history\", \"individual\", \"proportion\", \"service\", \"high\", \"return\", \"full\", \"school\", \"law\", \"task\", \"success\", \"hand\", \"experience\", \"friends\", \"resources\", \"hope\", \"community\", \"peace\", \"life\"], \"loglift\": [30.0, 29.0, 28.0, 27.0, 26.0, 25.0, 24.0, 23.0, 22.0, 21.0, 20.0, 19.0, 18.0, 17.0, 16.0, 15.0, 14.0, 13.0, 12.0, 11.0, 10.0, 9.0, 8.0, 7.0, 6.0, 5.0, 4.0, 3.0, 2.0, 1.0, 2.0396999999999998, 2.0394000000000001, 2.0394000000000001, 2.0392000000000001, 2.0390000000000001, 2.0387, 2.0383, 2.0381, 2.0377999999999998, 2.0373999999999999, 2.0371999999999999, 2.0369999999999999, 2.0369999999999999, 2.0369000000000002, 2.0369000000000002, 2.0367000000000002, 2.0367000000000002, 2.0360999999999998, 2.0356000000000001, 2.0354000000000001, 2.0352000000000001, 2.0350999999999999, 2.0350000000000001, 2.0350000000000001, 2.0350000000000001, 2.0348999999999999, 2.0345, 2.0345, 2.0341, 2.0341, 2.0327999999999999, 2.0327999999999999, 2.0251000000000001, 2.0167999999999999, 2.0160999999999998, 2.0230999999999999, 2.0291999999999999, 2.0167999999999999, 1.968, 1.9926999999999999, 1.9675, 1.8573, 1.7855000000000001, 1.8833, 1.7918000000000001, 1.6113, 1.8424, 1.774, 1.6120000000000001, 1.7293000000000001, 1.8240000000000001, 1.7634000000000001, 1.8637999999999999, 1.5354000000000001, 1.7743, 2.0495999999999999, 2.0495000000000001, 2.0489999999999999, 2.0486, 2.0476999999999999, 2.0476999999999999, 2.0476000000000001, 2.0472000000000001, 2.0470999999999999, 2.0468999999999999, 2.0461999999999998, 2.0459000000000001, 2.0459000000000001, 2.0449000000000002, 2.0447000000000002, 2.0434000000000001, 2.0432999999999999, 2.0430000000000001, 2.0424000000000002, 2.0421999999999998, 2.0421999999999998, 2.0419999999999998, 2.0415000000000001, 2.0409999999999999, 2.0405000000000002, 2.04, 2.0398000000000001, 2.0390000000000001, 2.0388000000000002, 2.0388000000000002, 2.0352999999999999, 2.0329999999999999, 2.0179, 2.0304000000000002, 2.0200999999999998, 2.0137, 2.0264000000000002, 2.0105, 2.0337999999999998, 2.0348000000000002, 1.9654, 2.0282, 1.9738, 2.0137, 1.9617, 1.9779, 1.8813, 1.8708, 1.8789, 1.9938, 1.7822, 1.9024000000000001, 1.7848999999999999, 0.99539999999999995, 1.8066, 1.3608, 1.3245, 1.4533, 2.0687000000000002, 2.0686, 2.0678999999999998, 2.0676999999999999, 2.0674000000000001, 2.0672999999999999, 2.0672000000000001, 2.0670000000000002, 2.0670000000000002, 2.0670000000000002, 2.0670000000000002, 2.0667, 2.0666000000000002, 2.0666000000000002, 2.0663999999999998, 2.0659000000000001, 2.0655999999999999, 2.0649999999999999, 2.0646, 2.0644999999999998, 2.0644999999999998, 2.0640000000000001, 2.0636999999999999, 2.0634000000000001, 2.0630000000000002, 2.0630000000000002, 2.0629, 2.0625, 2.0623999999999998, 2.0623, 2.0586000000000002, 2.0590000000000002, 2.0535000000000001, 2.0598999999999998, 2.0528, 2.0608, 2.0470999999999999, 2.0472999999999999, 1.9782, 2.0306999999999999, 2.0331999999999999, 1.9527000000000001, 2.0045999999999999, 1.6962999999999999, 1.8804000000000001, 1.8956999999999999, 1.4341999999999999, 1.4733000000000001, 1.7582, 1.7850999999999999, 1.6123000000000001, 1.4217, 0.0275, 2.1303000000000001, 2.1301000000000001, 2.1295999999999999, 2.1294, 2.1293000000000002, 2.129, 2.129, 2.1286999999999998, 2.1286, 2.1282999999999999, 2.1280999999999999, 2.1274000000000002, 2.1272000000000002, 2.1267999999999998, 2.1267999999999998, 2.1265999999999998, 2.1263999999999998, 2.1257000000000001, 2.1257000000000001, 2.1254, 2.1254, 2.1246999999999998, 2.1246, 2.1242999999999999, 2.1242999999999999, 2.1240000000000001, 2.1236999999999999, 2.1236000000000002, 2.1233, 2.1230000000000002, 2.1229, 2.1194000000000002, 2.1206, 2.1051000000000002, 2.1181000000000001, 2.1200999999999999, 2.0985, 2.0746000000000002, 2.0815000000000001, 2.0855999999999999, 2.1065999999999998, 2.069, 2.0520999999999998, 2.1120000000000001, 2.0607000000000002, 1.9406000000000001, 2.0684, 1.6515, 1.8171999999999999, 1.9924999999999999, 1.8584000000000001, 1.9750000000000001, 1.9008, 0.96289999999999998, 1.1138999999999999, 1.5065999999999999, 1.3507, 1.7047000000000001, 1.3662000000000001, 1.7765, 1.2721, 1.0263, 0.85680000000000001, 1.2032, 0.2077, 2.2214, 2.2212000000000001, 2.2210999999999999, 2.2204999999999999, 2.2200000000000002, 2.2199, 2.2193999999999998, 2.2193000000000001, 2.2193000000000001, 2.2191000000000001, 2.2189000000000001, 2.2187999999999999, 2.2185999999999999, 2.2185000000000001, 2.2183999999999999, 2.218, 2.218, 2.2179000000000002, 2.2176, 2.2172000000000001, 2.2172000000000001, 2.2172000000000001, 2.2164000000000001, 2.2158000000000002, 2.2157, 2.2147000000000001, 2.2132000000000001, 2.2130999999999998, 2.2128999999999999, 2.2124999999999999, 2.1981999999999999, 2.1873, 2.2113999999999998, 2.2107999999999999, 2.1738, 2.2042000000000002, 2.1962999999999999, 2.1526999999999998, 2.1924000000000001, 2.1938, 2.1617999999999999, 2.1800999999999999, 2.0952000000000002, 2.0583999999999998, 1.9681999999999999, 2.1505999999999998, 2.1659000000000002, 2.0493999999999999, 1.8283, 2.1427999999999998, 1.7939000000000001, 2.0720000000000001, 2.0108000000000001, 2.0339, 1.2101, 1.6394, 1.5235000000000001, 0.67149999999999999, 0.8306, 1.5779000000000001, -0.002, 2.4500000000000002, 2.4481999999999999, 2.4481000000000002, 2.4479000000000002, 2.4477000000000002, 2.4477000000000002, 2.4474999999999998, 2.4472, 2.4466000000000001, 2.4464999999999999, 2.4464000000000001, 2.4464000000000001, 2.4462999999999999, 2.4459, 2.4455, 2.444, 2.4438, 2.4432999999999998, 2.4432, 2.4430999999999998, 2.4430000000000001, 2.4426000000000001, 2.4419, 2.4415, 2.4415, 2.4413999999999998, 2.4409000000000001, 2.4399000000000002, 2.4397000000000002, 2.4377, 2.4251999999999998, 2.4316, 2.4358, 2.4169999999999998, 2.4007000000000001, 2.4296000000000002, 2.4245000000000001, 2.3754, 2.3976999999999999, 2.4001000000000001, 2.3681999999999999, 2.4100999999999999, 2.2972000000000001, 2.2955000000000001, 2.3576000000000001, 2.3765000000000001, 2.2551999999999999, 2.2351000000000001, 2.1291000000000002, 2.2563, 2.2262, 2.2787999999999999, 2.0341, 2.1122000000000001, 2.2461000000000002, 2.2054, 2.1919, 2.1200000000000001, 1.5596000000000001, 1.9555, 2.0670000000000002, 0.95720000000000005, 1.9731000000000001, 2.1269, 1.8298000000000001, 1.4633, 2.0211999999999999, 2.5131000000000001, 2.5129000000000001, 2.5118999999999998, 2.5114999999999998, 2.5112999999999999, 2.5110999999999999, 2.5108999999999999, 2.5087999999999999, 2.5066999999999999, 2.5063, 2.5059, 2.5045999999999999, 2.5038999999999998, 2.5038, 2.5026999999999999, 2.5024000000000002, 2.5024000000000002, 2.5019999999999998, 2.5017999999999998, 2.5009000000000001, 2.5004, 2.5002, 2.5, 2.4992000000000001, 2.4990000000000001, 2.4986999999999999, 2.4981, 2.4975000000000001, 2.4954999999999998, 2.4950000000000001, 2.4876, 2.4897999999999998, 2.4769999999999999, 2.4878, 2.4903, 2.4348000000000001, 2.4822000000000002, 2.4826999999999999, 2.4529000000000001, 2.3748, 2.4344000000000001, 2.4024999999999999, 2.2246000000000001, 2.0958000000000001, 2.2069999999999999, 2.3252000000000002, 2.0371000000000001, 2.3180000000000001, 2.2854000000000001, 2.2469000000000001, 2.0487000000000002, 2.0102000000000002, 2.1379999999999999, 1.8004, 2.1711999999999998, 1.9902, 2.0891999999999999, 1.9812000000000001, 1.9985999999999999, 2.0112999999999999, 1.7625, 1.5906, 1.6962999999999999, 1.6819999999999999, 1.7202999999999999, 2.5286, 2.5284, 2.5284, 2.5283000000000002, 2.5278, 2.5274999999999999, 2.5270999999999999, 2.5249000000000001, 2.5232999999999999, 2.5228999999999999, 2.5221, 2.5213000000000001, 2.5203000000000002, 2.5202, 2.5200999999999998, 2.52, 2.5198, 2.5186000000000002, 2.5179999999999998, 2.5179999999999998, 2.5173000000000001, 2.5173000000000001, 2.5167000000000002, 2.5165000000000002, 2.5146999999999999, 2.5143, 2.5142000000000002, 2.5133999999999999, 2.5131999999999999, 2.5122, 2.5112999999999999, 2.5087999999999999, 2.4998999999999998, 2.4933000000000001, 2.5002, 2.5089999999999999, 2.4794, 2.4779, 2.4851000000000001, 2.4554, 2.4367999999999999, 2.4971000000000001, 2.4577, 2.4889999999999999, 2.3948, 2.2944, 2.4239999999999999, 2.4565999999999999, 2.3717000000000001, 2.1273, 1.8742000000000001, 2.2492000000000001, 1.5608, 1.7199, 1.9328000000000001, 1.7408999999999999, 2.0804999999999998, 1.788, 2.5832999999999999, 2.5831, 2.5830000000000002, 2.5830000000000002, 2.5823, 2.5804, 2.5796999999999999, 2.5796000000000001, 2.5794000000000001, 2.5792000000000002, 2.5785999999999998, 2.5785, 2.5781999999999998, 2.5781000000000001, 2.5777999999999999, 2.5777000000000001, 2.5773000000000001, 2.5771000000000002, 2.577, 2.5767000000000002, 2.5760000000000001, 2.5758999999999999, 2.5756999999999999, 2.5756999999999999, 2.5756000000000001, 2.5752999999999999, 2.5752000000000002, 2.5750999999999999, 2.5750000000000002, 2.5746000000000002, 2.5724, 2.5655999999999999, 2.5448, 2.5436999999999999, 2.5064000000000002, 2.5146000000000002, 2.5324, 2.5556000000000001, 2.3923000000000001, 2.0819000000000001, 2.3799999999999999, 2.3399000000000001, 2.4882, 2.3399000000000001, 2.3593000000000002, 2.4655, 2.3407, 2.4319000000000002, 2.1153, 1.8456999999999999, 1.8084, 2.3319000000000001, 1.9892000000000001, 2.2343999999999999, 1.2829999999999999, 2.2915999999999999, 1.8453999999999999, 1.6052, 1.5250999999999999, 2.7181999999999999, 2.7181000000000002, 2.7172999999999998, 2.7168000000000001, 2.7153999999999998, 2.7153, 2.7136999999999998, 2.7109999999999999, 2.7092000000000001, 2.7080000000000002, 2.7078000000000002, 2.7075, 2.7067000000000001, 2.7061000000000002, 2.7057000000000002, 2.7044000000000001, 2.7012, 2.7008000000000001, 2.7008000000000001, 2.6991000000000001, 2.6970999999999998, 2.6968999999999999, 2.6962999999999999, 2.6943000000000001, 2.6920000000000002, 2.6920000000000002, 2.6911, 2.6901999999999999, 2.6901999999999999, 2.6880000000000002, 2.6825000000000001, 2.6513, 2.6775000000000002, 2.6602000000000001, 2.6713, 2.6551, 2.6206, 2.5895999999999999, 2.5821999999999998, 2.6326999999999998, 2.6553, 2.5148000000000001, 2.5232999999999999, 2.5720999999999998, 2.4178999999999999, 2.4801000000000002, 2.6507999999999998, 2.3712, 2.3117000000000001, 2.4117000000000002, 2.2231999999999998, 2.4472999999999998, 1.9177, 2.3805000000000001, 2.2833000000000001, 2.238, 2.1850000000000001, 2.1549, 2.0344000000000002, 1.3244, 1.9565999999999999, 0.20569999999999999, 1.0833999999999999], \"Freq\": [5914.0, 5613.0, 6089.0, 5031.0, 3461.0, 3239.0, 3912.0, 3275.0, 3461.0, 3159.0, 2647.0, 3040.0, 2399.0, 3535.0, 2895.0, 1885.0, 1851.0, 2440.0, 2132.0, 3378.0, 1888.0, 1815.0, 1845.0, 2547.0, 1566.0, 1563.0, 1546.0, 1525.0, 1252.0, 1576.0, 3238.2408433108799, 1565.9589606703621, 1524.1519136043491, 1176.3932948279687, 869.49156295701016, 680.40969099936069, 510.33102225353531, 458.07221342101906, 393.46132250081729, 332.65107222298025, 312.69770885056499, 290.84402515696735, 288.94370483578496, 284.19290403282895, 1542.204956655582, 265.18970082100486, 262.33922033923125, 222.43249359440071, 196.77816925843817, 401.06260378554691, 582.5431944584667, 175.87464572543172, 369.7073184860372, 370.65747864662842, 173.0241652436581, 170.17368476188449, 158.77176283479005, 157.82160267419886, 311.74754868997383, 146.41968074710442, 647.15408537866858, 382.05940057372283, 559.73935060427789, 680.40969099936069, 592.04479606437872, 387.76036153727011, 260.4389000180488, 324.09963077765946, 773.52538673729862, 433.3680492456478, 500.82942064762324, 707.96433565650557, 917.9497311471614, 578.74255381610192, 831.48515653336199, 1659.0746564082999, 638.60264393334774, 690.86145276586387, 864.7407621540541, 627.20072200625327, 497.02878000525845, 520.78278402003855, 452.37125245747188, 546.43710835600098, 445.72013133333348, 2131.5450871000526, 1814.2572975491526, 2645.1130107274844, 625.14269887190756, 373.59922607479803, 368.83514515061029, 363.1182480415851, 303.09082839682031, 293.56266654844495, 281.17605614555697, 224.95990124014233, 208.76202609790417, 208.76202609790417, 355.4957185628848, 886.21433351739256, 129.67828275638868, 128.72546657155115, 122.05575327768838, 113.48040761415056, 110.62195905963796, 109.66914287480041, 107.76351050512535, 101.0937972112626, 95.376900102237386, 90.612819178049691, 85.84873825386201, 83.943105884186934, 512.71038906107822, 163.97966541053998, 76.320576405486648, 1819.0213784733403, 1318.792881433634, 5897.0746495779968, 524.14418327912881, 1310.2175357700962, 2353.5512581671983, 397.41963069573643, 797.60242832750157, 229.72398216432998, 179.22472436794055, 2903.3261968184565, 213.52610702209191, 1104.4092398451883, 309.76054169068306, 876.68617166901709, 546.05895553039204, 1066.2965924516868, 859.53548034194159, 784.26300173977609, 311.66617406035817, 862.39392889645421, 475.55055785241439, 404.08934398959917, 887.16714970223006, 375.50485844447309, 536.53079368201679, 491.74843299465249, 452.68296941631354, 5612.8909086885105, 3460.1406886343448, 931.31895465653258, 773.91558917971747, 607.08687247674584, 582.58095928873877, 519.43110607348967, 476.07449043316933, 469.47674457485971, 465.70660408439704, 462.87899871655009, 412.92463721792012, 383.70604841683479, 805.01924822603416, 354.48745961574929, 291.33760640050019, 265.88915808987736, 228.18775318525101, 205.56691024247519, 199.91169950678125, 198.02662926154994, 177.29085656400542, 166.92297021523316, 157.49761898907659, 149.01480288553566, 147.12973264030435, 145.24466239507302, 135.81931116891644, 280.02718492911225, 132.04917067845378, 1021.8023264276358, 767.31784332140785, 618.39729394813378, 312.07337909804465, 589.17870514704839, 226.30268294001971, 597.66152125058932, 480.78716604624759, 2776.8027247379923, 439.31562065115855, 365.79788108713723, 751.29474623694171, 374.28069719067815, 3466.7384344926545, 829.52516141404146, 613.68461833505546, 1790.9109864820134, 845.54825849850749, 515.66096558302695, 417.6373128309985, 452.5111123677778, 488.32744702717292, 508.12068460210168, 899.8921816851531, 728.04280035272382, 507.92112089320784, 449.99436314070363, 426.82366003970196, 806.24392331860463, 371.79324017482293, 326.41727993536125, 323.52094204773607, 283.93765758352487, 5895.1095918761002, 219.25277809322844, 208.63287250526935, 191.25484517951807, 189.3239532544346, 183.53127747918418, 175.8077097788503, 154.56789860293208, 153.60245264039034, 145.87888494005645, 144.91343897751472, 129.46630357684691, 127.53541165176344, 122.70818183905475, 121.74273587651301, 117.88095202634607, 113.05372221363739, 359.24244266178033, 107.26104643838696, 103.39926258822001, 217.32188616814497, 232.76902156881275, 169.04958804105812, 473.16506624170535, 208.63287250526935, 160.36057437818249, 312.90103645977695, 535.91905380691821, 433.58178177749409, 366.96601036211422, 223.11456194339539, 416.20375445174278, 428.75455196478538, 191.25484517951807, 295.5230091340257, 752.1789494162673, 252.07794081964752, 2187.79709571583, 771.48786866710202, 299.38479298419264, 406.54929482632548, 300.35023894673441, 326.41727993536125, 1564.1190039138678, 1221.3856872115514, 589.98402770925543, 624.74008236075804, 385.30948365040717, 442.27079544036974, 346.69164514873773, 454.82159295341228, 439.37445755274445, 444.20168736545315, 391.10215942565765, 422.96187618953502, 890.49233896787473, 699.69320130351025, 670.78424105133388, 462.63972723566354, 354.71294229420482, 728.60216155568662, 288.22233371419907, 281.47690965535787, 277.62238162173435, 258.34974145361673, 244.85889333593437, 241.00436530231084, 229.44078120144027, 462.63972723566354, 213.0590370585403, 196.67729291564032, 414.45812681536944, 189.93186885679916, 178.36828475592858, 166.80470065505801, 165.84106864665213, 164.87743663824625, 143.67753245331687, 129.22305232722863, 127.2957883104169, 479.02147137856349, 93.568668016211049, 92.605036007805168, 90.677771990993406, 86.823243957369868, 854.83795465685705, 2316.6677114085787, 164.87743663824625, 156.20474856259332, 1488.9078161879268, 255.45884542839909, 359.5311023362342, 1761.6156745667911, 341.22209417652249, 294.9677577730402, 424.09444689942825, 311.34950191594021, 987.81917181686856, 1337.6175908682035, 2684.7751386196251, 413.49449480696359, 317.13129396637549, 578.2755682443692, 932.89214733773338, 306.53134187391078, 798.94729816931601, 371.09468643710483, 396.14911865565767, 379.76737451275773, 1284.6178304058799, 599.47547242929863, 505.0395356055223, 829.7835224383042, 719.92947348003372, 386.51279857159892, 365.31289438666954, 242.79535824945842, 159.33745162084173, 155.50030648849153, 150.70387507305378, 145.90744365761603, 145.90744365761603, 141.1110122421783, 135.35529454365303, 122.8845728635149, 255.26607992959654, 119.04742773116472, 916.21432897691716, 117.12885516498962, 111.37313746646431, 225.52820515388254, 89.309552955450727, 184.27889498111796, 83.553835256925424, 82.594548973837874, 449.04190911328129, 80.675976407662787, 77.798117558400136, 73.001686142962399, 71.083113576787312, 71.083113576787312, 70.123827293699762, 67.245968444437111, 62.449537028999373, 61.490250745911823, 53.815960481211441, 1217.4302218664072, 519.06980777867227, 207.30176577521914, 303.23039408397398, 524.82552547719763, 113.29171003263943, 125.76243171277754, 594.85342414258866, 263.8996564773845, 223.60963258770744, 283.08538213913545, 146.86672994070361, 637.06202059844065, 517.15123521249723, 225.52820515388254, 187.15675383038064, 425.05975203609256, 406.83331265742913, 581.4234161793629, 302.2711078008864, 330.09041001042527, 250.46964851415882, 442.32690513166841, 346.3982768229136, 238.95821311710822, 261.02179762812187, 267.7368016097347, 298.4339626685362, 739.70565288880834, 380.93258301406536, 294.59681753618599, 775.19924536304757, 306.1082529332366, 269.6553741759098, 301.31182151779888, 314.74182948102452, 270.61466045899732, 646.81965005352095, 556.91645553106184, 331.67511871672849, 289.14027399642526, 275.60645976723782, 256.27243943982728, 241.77192419426927, 152.83543068818062, 110.30058596787735, 104.50037986965418, 209.87079065404183, 87.099761574984655, 81.299555476761483, 80.332854460390948, 72.59924632942672, 70.665844296685663, 70.665844296685663, 68.732442263944606, 67.76574124757407, 62.932236165721427, 60.998834132980377, 60.032133116609849, 124.80110121343527, 56.165329051127728, 55.198628034757206, 54.231927018386678, 52.298524985645614, 50.365122952904564, 143.16842052447532, 92.899967673207826, 560.78325959654376, 380.01016953525493, 346.17563396228644, 138.3349154426227, 112.23398800061841, 661.32016529907889, 141.23501849173428, 114.16739003335947, 148.96862662269851, 410.9446020591119, 181.83646117929649, 205.03728557218921, 1043.1670667654378, 2574.4214766963555, 937.79665598105009, 344.24223192954543, 2032.1022065124887, 244.67202724338085, 257.23914045619779, 297.84058314376, 531.78222910542797, 597.51789821862394, 366.47635530606755, 885.59480109704157, 301.70738720924209, 438.01223051748667, 322.97480956939376, 374.20996343703177, 330.70841770035798, 321.04140753665268, 347.14233497865695, 356.80934514236225, 336.50862379858114, 329.74171668398748, 312.34109838931795, 606.98939430900589, 518.78370124878074, 514.94867111572751, 494.81476291719787, 382.64013152538979, 342.37231512833046, 298.26946859821788, 168.8372016076701, 127.61062767734745, 119.94056741124093, 108.43547701208114, 97.889144146184648, 88.301568813551469, 377.84634385907316, 86.384053747024836, 364.42373839338677, 460.29949171971845, 74.878963347865039, 71.043933214811773, 71.043933214811773, 141.99199067629721, 67.208903081758507, 207.18750293820278, 63.373872948705241, 362.50622332686009, 232.115198803049, 113.22926467839771, 109.39423454534445, 50.910025016282127, 48.033752416492177, 146.78577834261381, 174.58974680724998, 336.6197699287506, 455.50570405340181, 215.81632073757262, 131.44565781040072, 500.56730811677778, 485.22718758456472, 286.76437819905811, 564.80406284541994, 777.64823522987626, 169.79595914093341, 315.52710419695762, 178.42477694030327, 492.89724785067125, 723.9578133671306, 245.53780426873544, 199.51744267209622, 261.83668233421184, 543.71139711362696, 741.21544896587034, 314.56834666369423, 1242.645638862585, 706.70017776839086, 417.15540272286916, 428.66049312202898, 266.63047000052848, 283.8881055992681, 900.91798943630761, 726.21934345093325, 660.82934746758087, 654.97352693175822, 422.6926456774616, 219.69086710227799, 186.5078840659499, 182.60400370873484, 175.77221308360848, 168.94042245848209, 149.42102067240674, 148.44505058310298, 139.66131977936908, 137.70937960076154, 131.85355906493896, 130.87758897563518, 122.09385817190127, 119.16594790398997, 118.1899778146862, 112.3341572788636, 103.5504264751297, 101.59848629652215, 99.646546117914625, 650.09367648523937, 98.670576028610867, 94.76669567139578, 93.790725582092023, 198.21952513759513, 91.838785403484493, 87.934905046269421, 474.41906041056126, 556.40054791207774, 352.42279924759038, 322.16772647917355, 930.19709211542056, 702.79606130764284, 176.74818317291223, 128.92564879702763, 376.82205148018454, 1751.9639073091926, 348.51891889037529, 428.5484662132842, 187.48385415525368, 326.07160683638864, 272.39325192468146, 190.41176442316498, 268.48937156746643, 207.97922603063279, 464.65935951752363, 682.30068943226377, 491.98652201802912, 217.73892692367048, 288.98474344284551, 229.45056799531568, 432.45234657049923, 206.02728585202524, 236.28235862044204, 252.87385013860612, 226.52265772740435, 466.89182436797074, 425.39871131567685, 312.23567571851169, 550.82107576920168, 183.04121007841471, 180.21213418848558, 135.88994524626256, 94.396832193968635, 167.00978003548298, 70.821199777892545, 69.878174481249516, 67.992123887963416, 64.220022701391244, 61.390946811462122, 59.504896218176036, 54.789769734960821, 45.359516768530391, 44.41649147188734, 44.41649147188734, 86.852629820824276, 78.365402151036889, 36.872289098742996, 35.929263802099953, 33.100187912170824, 30.271112022241695, 164.18070414555385, 29.328086725598645, 189.64238715491601, 59.504896218176036, 26.499010835669523, 196.24356423141731, 735.65403391123812, 107.59918634697125, 247.16693025014169, 133.0608693563334, 241.50877847028343, 715.85050268173427, 1655.1036981382053, 1612.6675597892684, 325.43802987151429, 158.52255236569556, 613.06074534764252, 414.08240775596039, 239.62272787699729, 683.78764259587069, 369.76021881373731, 104.77011045704211, 619.66192242414377, 452.7464449183251, 267.91348677628861, 457.46157140154037, 217.9331460542073, 687.55974378244287, 237.7366772837112, 255.65415791992905, 256.59718321657209, 263.19836029307345, 262.25533499643041, 261.31230969978736, 345.24156110101819, 231.13550020720993, 255.65415791992905, 238.67970258035425], \"Total\": [5914.0, 5613.0, 6089.0, 5031.0, 3461.0, 3239.0, 3912.0, 3275.0, 3461.0, 3159.0, 2647.0, 3040.0, 2399.0, 3535.0, 2895.0, 1885.0, 1851.0, 2440.0, 2132.0, 3378.0, 1888.0, 1815.0, 1845.0, 2547.0, 1566.0, 1563.0, 1546.0, 1525.0, 1252.0, 1576.0, 3239.1036602605864, 1566.8217776200688, 1525.0147305540559, 1177.2561117776754, 870.35437990671733, 681.27250794906786, 511.19383920324219, 458.93503037072594, 394.32413945052417, 333.51388917268713, 313.56052580027188, 291.70684210667423, 289.80652178549184, 285.05572098253583, 1546.971653962504, 266.05251777071175, 263.20203728893813, 223.29531054410759, 197.64098620814505, 402.8921217516243, 585.31164377784887, 176.7374626751386, 371.53683645211458, 372.49626568563906, 173.88698219336499, 171.03650171159137, 159.63457978449694, 158.68441962390574, 313.57706665605122, 147.2824976968113, 651.78704281883836, 384.80728776866101, 568.14244853491027, 696.35306991091841, 606.33816196287944, 394.34007559600224, 263.2536571463632, 331.69530990975011, 831.25367539272395, 454.33262169480781, 538.4702241664088, 849.80971424719326, 1183.8975239249703, 676.9007798549211, 1065.7146705072748, 2547.0093414417529, 778.1319842851417, 901.343830379829, 1326.5710738830412, 855.72111651764408, 616.84309605782141, 686.6750278822783, 539.52224740087729, 905.0036334446404, 581.35528073500734, 2132.4076384473346, 1815.1198488964346, 2647.8616126680527, 626.00525021919009, 374.46177742208027, 369.69769649789254, 363.98079938886735, 303.95337974410256, 294.4252178957272, 282.03860749283922, 225.82245258742458, 209.62457744518642, 209.62457744518642, 357.3008050327827, 890.91191499772833, 130.54083410367093, 129.5880179188334, 122.91830462497065, 114.34295896143283, 111.48451040692022, 110.53169422208268, 108.62606185240762, 101.95634855854486, 96.239451449519649, 91.475370525331954, 86.711289601144273, 84.805657231469198, 518.40017022106952, 165.81818684712601, 77.183127752768911, 1845.9019940475812, 1341.3450146037062, 6089.6887075779414, 534.50833623232336, 1350.0366537016175, 2440.5799551970645, 406.89476669614169, 829.74891633481218, 233.46280611140219, 181.97234596045413, 3159.7486035560032, 218.22802155364241, 1191.7976000672425, 321.20955647953241, 957.57827033920853, 586.90566340864279, 1262.2639141804104, 1028.1821862597769, 930.57574249702259, 329.6679780797561, 1127.1658577128908, 551.19619679423533, 526.75925285230835, 2547.0093414417529, 478.96330254376079, 1068.8655545026093, 1015.865299084975, 822.10716115341029, 5613.7544881420145, 3461.0042680878487, 932.18253411003718, 774.77916863322207, 607.95045193025044, 583.44453874224337, 520.29468552699427, 476.93806988667382, 470.34032402836419, 466.57018353790153, 463.74257817005457, 413.78821667142461, 384.56962787033927, 806.84211396262629, 355.35103906925377, 292.20118585400468, 266.75273754338184, 229.05133263875544, 206.43048969597962, 200.77527896028568, 198.89020871505437, 178.15443601750985, 167.78654966873759, 158.36119844258101, 149.87838233904009, 147.99331209380878, 146.10824184857745, 136.68289062242087, 281.84358056745424, 132.91275013195821, 1032.3080461476491, 774.89272550775559, 627.93356147729128, 314.85647575275715, 598.71497267620589, 228.13170835606587, 610.78442956045342, 491.24360833062758, 3040.2549762251442, 456.38350707074613, 379.08041266631056, 843.84350608436193, 399.12643372137137, 5031.6244732637724, 1001.4948207651297, 729.71266832640458, 3378.2802397366436, 1533.8772792047907, 703.52132780267141, 554.62877300288801, 714.31653253754791, 932.70323806704846, 3912.9962298877876, 900.75347005466517, 728.90408872223588, 508.78240926271974, 450.85565151021552, 427.68494840921386, 808.06884369652255, 372.65452854433482, 327.27856830487315, 324.38223041724797, 284.79894595303676, 5914.2798884053236, 220.11406646274025, 209.49416087478116, 192.11613354902988, 190.18524162394641, 184.39256584869599, 176.66899814836211, 155.42918697244389, 154.46374100990215, 146.74017330956826, 145.77472734702653, 130.32759194635872, 128.39670002127528, 123.5694702085666, 122.60402424602486, 118.74224039585792, 113.91501058314924, 362.03099504810399, 108.12233480789881, 104.26055095773187, 219.15914462696057, 235.54888250449966, 170.86963394383324, 485.73799568286245, 211.39713722020991, 162.16488804433735, 323.33843649969242, 567.18546731534877, 455.71380231156013, 384.13412028020969, 228.68852592598549, 442.95149621936423, 464.11077404576196, 194.98380877614773, 317.13085402968454, 910.17496090505665, 268.43898109568852, 3535.0413016048119, 1056.1796127553309, 343.95344874089989, 534.12185565799814, 351.17263709252882, 411.03132185799626, 5031.6244732637724, 3378.2802397366436, 1101.9391395693544, 1363.6439791195137, 590.32598111587936, 950.55928802629683, 494.36233674820863, 1073.912693003695, 1326.5710738830412, 1588.8401873536277, 989.38467591215647, 2895.5225851385017, 891.3538087328003, 700.55467106843582, 671.64571081625945, 463.501197000589, 355.57441205913028, 730.42238885387542, 289.08380347912453, 282.33837942028333, 278.48385138665981, 259.21121121854219, 245.72036310085977, 241.86583506723625, 230.30225096636568, 464.44422229723205, 213.9205068234657, 197.53876268056572, 416.28629759666541, 190.79333862172456, 179.22975452085399, 167.66617041998342, 166.70253841157754, 165.73890640317165, 144.53900221824227, 130.08452209215403, 128.15725807534233, 482.71201703341808, 94.43013778113648, 93.466505772730599, 91.539241755918837, 87.684713722295299, 875.81705799913209, 2399.4713730695316, 166.6981926862592, 158.02497586078204, 1563.0773868561753, 260.1596783775928, 369.02614864894758, 1888.7768507622145, 351.60375771708431, 303.51834726923198, 450.61024100031619, 324.80589211248218, 1121.8475600269501, 1576.0191007809294, 3461.6986826525522, 444.28478941068289, 335.56022533876876, 687.47716801787374, 1383.5254670426252, 331.91860421550354, 1226.3448201314266, 431.3086065155523, 489.51342937792276, 458.54197744616187, 3535.0413016048119, 1073.912693003695, 1015.865299084975, 3912.9962298877876, 2895.5225851385017, 736.3202535347267, 3378.2802397366436, 243.65726258691566, 160.19935595829898, 156.36221082594878, 151.56577941051103, 146.76934799507328, 146.76934799507328, 141.97291657963555, 136.21719888111028, 123.74647720097218, 257.07814442764504, 119.90933206862199, 922.85802536480981, 117.99075950244689, 112.23504180392159, 227.35374149974567, 90.171457292908002, 186.09955685183851, 84.4157395943827, 83.456453311295149, 453.77061751622068, 81.537880745120063, 78.660021895857412, 73.863590480419674, 71.945017914244588, 71.945017914244588, 70.985731631157037, 68.107872781894386, 63.311441366456641, 62.352155083369091, 54.677864818668709, 1252.4510793294962, 530.63036885577742, 211.02211866718901, 314.54406018793452, 553.34209644419957, 116.03868461532802, 129.47481653200842, 643.22333650960616, 279.06237637044518, 235.90533114321514, 308.32800056332042, 153.40251829463938, 744.88707786895077, 605.70365231488972, 248.24379318493746, 202.16403761748353, 518.33715509651324, 506.17829371188498, 804.30537641549915, 368.20175760671367, 414.36421974179115, 298.31067198151862, 672.83455657906893, 487.35629803022613, 294.06726293565345, 334.54732507563244, 347.81283086520762, 416.60202682365406, 1808.5503264464396, 626.85852097186785, 433.62969845279025, 3461.6986826525522, 494.95752272024248, 373.83841719596325, 562.22546622432299, 847.28929282227284, 416.97994445850856, 647.68081291764997, 557.77761839519087, 332.53628158085746, 290.00143686055424, 276.46762263136679, 257.13360230395625, 242.63308705839825, 153.69659355230959, 111.16174883200632, 105.36154273378315, 211.67497881481384, 87.960924439113626, 82.160718340890455, 81.194017324519919, 73.460409193555691, 71.527007160814634, 71.527007160814634, 69.593605128073577, 68.626904111703041, 63.793399029850399, 61.859996997109349, 60.89329598073882, 126.62155036065178, 57.026491915256699, 56.059790898886178, 55.093089882515649, 53.159687849774585, 51.226285817033535, 145.9146536338356, 94.724762545742678, 576.06666311614561, 389.50490894717183, 359.3940345647199, 142.07615850840097, 114.98022110997869, 716.13168345798226, 145.86779236840803, 117.85615826533541, 158.42828905483154, 472.55180142554445, 196.99565706477523, 229.32173057960861, 1393.9395691251079, 3912.9962298877876, 1275.4321429767197, 415.9579187554375, 3275.5131324858762, 297.78386434024617, 323.45794576569898, 389.21139648983649, 847.28929282227284, 989.38467591215647, 533.99910485153714, 1808.5503264464396, 425.28951433107562, 739.91939570093916, 494.15192036425304, 637.81862480996415, 553.98084821205282, 531.01015186599307, 736.3202535347267, 898.77549211932853, 762.67907951016116, 758.03568478073271, 691.07080123036781, 607.85135152144562, 519.64565846122048, 515.81062832816724, 495.6767201296376, 383.50208873782952, 343.23427234077019, 299.13142581065762, 169.69915882010977, 128.47258488978713, 120.80252462368063, 109.29743422452083, 98.751101358624339, 89.16352602599116, 381.58838127316221, 87.246010959464527, 368.11330097367346, 465.02825299764032, 75.74092056030473, 71.905890427251464, 71.905890427251464, 143.80676407357441, 68.070860294198198, 209.97672416745422, 64.235830161144932, 368.11898134225584, 235.80476138333566, 115.03424718748045, 111.23216184708791, 51.771982228721818, 48.895709628931868, 149.56630812122859, 178.32764117504638, 346.90707836734691, 472.56553640807965, 222.34356459381871, 134.23850694792387, 526.57006411405564, 511.20802618281499, 299.95554238525688, 608.55663320708175, 853.67348909797477, 175.47607639540249, 339.19290526358623, 185.90123117152444, 564.26760274108869, 916.33582373191507, 272.9971111137807, 214.72216176791574, 306.76133005636399, 813.31498182324503, 1428.1176437339936, 416.57921728804644, 3275.5131324858762, 1588.8401873536277, 758.03568478073271, 943.6904544259977, 417.96288690117933, 596.19401588925712, 901.77822539314332, 727.07957940776896, 661.68958342441658, 655.83376288859392, 423.55288163429725, 220.55110305911364, 187.36812002278555, 183.46423966557049, 176.63244904044413, 169.80065841531774, 150.28125662924239, 149.30528653993863, 140.52155573620473, 138.56961555759719, 132.71379502177462, 131.73782493247083, 122.95409412873693, 120.02618386082563, 119.05021377152185, 113.19439323569925, 104.41066243196535, 102.45872225335781, 100.50678207475028, 655.7179933662627, 99.530811985446519, 95.626931628231432, 94.650961538927675, 200.04646211080131, 92.699021360320145, 88.795141003105073, 480.07308403371354, 566.8790760751466, 366.61980576790523, 335.51002742927358, 1005.5176027588933, 753.51168899417098, 186.15746693482379, 132.67984978704558, 456.57305945669117, 2895.5225851385017, 427.5100820038889, 547.19121081987851, 206.3971331633222, 416.32901265738008, 341.13126678579567, 214.42449298538358, 342.54668378961532, 242.22047592748723, 742.6783682411907, 1428.1176437339936, 1068.8655545026093, 280.26079559491421, 524.00025102746758, 325.56304977132146, 1588.8401873536277, 276.08752109819238, 494.66372763641272, 673.17896681988191, 653.28819703087231, 467.75535480407245, 426.26224175177856, 313.0992061546134, 552.64336373856668, 183.90474051451642, 181.07566462458729, 136.75347568236427, 95.260362630070347, 168.83259675467224, 71.684730213994257, 70.741704917351228, 68.855654324065128, 65.083553137492956, 62.254477247563841, 60.368426654277755, 55.65330017106254, 46.22304720463211, 45.28002190798906, 45.28002190798906, 88.69213034622976, 80.188218870226152, 37.735819534844715, 36.792794238201672, 33.963718348272543, 31.134642458343414, 168.86462855353386, 30.191617161700364, 195.38576803753656, 61.310961776893414, 27.362541271771242, 203.75821579165745, 788.06698074068186, 112.27864322738832, 262.43074844184162, 139.71072105912529, 257.72088943578592, 790.7621264076372, 1885.7433676592404, 1851.1055198638594, 355.13993145505066, 169.13525956807291, 752.77126607358946, 504.12307878133214, 277.84150013024879, 925.04169366154679, 470.06468339163791, 112.28476201728225, 878.3463392906815, 681.12050560288719, 364.68739327615242, 751.87198757018336, 286.26725736689411, 1533.8772792047907, 333.87154514134465, 395.67956135975351, 415.54060054199897, 449.41192065772344, 461.52302170474587, 518.7323636167456, 1393.9395691251079, 495.94212128383992, 3159.7486035560032, 1226.3448201314266], \"logprob\": [30.0, 29.0, 28.0, 27.0, 26.0, 25.0, 24.0, 23.0, 22.0, 21.0, 20.0, 19.0, 18.0, 17.0, 16.0, 15.0, 14.0, 13.0, 12.0, 11.0, 10.0, 9.0, 8.0, 7.0, 6.0, 5.0, 4.0, 3.0, 2.0, 1.0, -3.4819, -4.2084000000000001, -4.2355, -4.4945000000000004, -4.7968000000000002, -5.0419999999999998, -5.3296000000000001, -5.4375999999999998, -5.5896999999999997, -5.7576000000000001, -5.8193999999999999, -5.8918999999999997, -5.8983999999999996, -5.915, -4.2237, -5.9842000000000004, -5.9950000000000001, -6.1600999999999999, -6.2826000000000004, -5.5705999999999998, -5.1973000000000003, -6.3948999999999998, -5.6520000000000001, -5.6494, -6.4112, -6.4279000000000002, -6.4972000000000003, -6.5031999999999996, -5.8224999999999998, -6.5781999999999998, -5.0921000000000003, -5.6191000000000004, -5.2371999999999996, -5.0419999999999998, -5.1810999999999998, -5.6043000000000003, -6.0023, -5.7835999999999999, -4.9137000000000004, -5.4931000000000001, -5.3483999999999998, -5.0023, -4.7424999999999997, -5.2038000000000002, -4.8414999999999999, -4.1506999999999996, -5.1054000000000004, -5.0266999999999999, -4.8022, -5.1234000000000002, -5.3559999999999999, -5.3093000000000004, -5.4501999999999997, -5.2613000000000003, -5.4649999999999999, -3.8900000000000001, -4.0511999999999997, -3.6741999999999999, -5.1166999999999998, -5.6315, -5.6443000000000003, -5.6599000000000004, -5.8406000000000002, -5.8726000000000003, -5.9157000000000002, -6.1387, -6.2134, -6.2134, -5.6810999999999998, -4.7676999999999996, -6.6896000000000004, -6.6970000000000001, -6.7502000000000004, -6.8230000000000004, -6.8484999999999996, -6.8571999999999997, -6.8746999999999998, -6.9386000000000001, -6.9968000000000004, -7.048, -7.1021000000000001, -7.1245000000000003, -5.3148999999999997, -6.4549000000000003, -7.2196999999999996, -4.0486000000000004, -4.3701999999999996, -2.8723999999999998, -5.2929000000000004, -4.3766999999999996, -3.7909999999999999, -5.5697000000000001, -4.8730000000000002, -6.1177999999999999, -6.3659999999999997, -3.581, -6.1909000000000001, -4.5476000000000001, -5.8188000000000004, -4.7785000000000002, -5.2519, -4.5827, -4.7983000000000002, -4.8898999999999999, -5.8127000000000004, -4.7949000000000002, -5.3902000000000001, -5.5529999999999999, -4.7666000000000004, -5.6264000000000003, -5.2694999999999999, -5.3567, -5.4394999999999998, -2.903, -3.3866999999999998, -4.6992000000000003, -4.8844000000000003, -5.1271000000000004, -5.1683000000000003, -5.2831000000000001, -5.3701999999999996, -5.3841999999999999, -5.3922999999999996, -5.3982999999999999, -5.5125000000000002, -5.5858999999999996, -4.8449, -5.6650999999999998, -5.8613, -5.9527000000000001, -6.1055999999999999, -6.21, -6.2378999999999998, -6.2473999999999998, -6.3579999999999997, -6.4183000000000003, -6.4763999999999999, -6.5317999999999996, -6.5445000000000002, -6.5574000000000003, -6.6245000000000003, -5.9009, -6.6525999999999996, -4.6064999999999996, -4.8929, -5.1086999999999998, -5.7926000000000002, -5.1570999999999998, -6.1139000000000001, -5.1428000000000003, -5.3604000000000003, -3.6067999999999998, -5.4505999999999997, -5.6337000000000002, -4.9139999999999997, -5.6108000000000002, -3.3847999999999998, -4.8150000000000004, -5.1162999999999998, -4.0453000000000001, -4.7957999999999998, -5.2904, -5.5011999999999999, -5.4210000000000003, -5.3448000000000002, -5.3051000000000004, -4.6711, -4.883, -5.2430000000000003, -5.3640999999999996, -5.4169999999999998, -4.7808999999999999, -5.5549999999999997, -5.6852, -5.6940999999999997, -5.8246000000000002, -2.7915000000000001, -6.0831, -6.1327999999999996, -6.2196999999999996, -6.2298999999999998, -6.2609000000000004, -6.3038999999999996, -6.4326999999999996, -6.4390000000000001, -6.4905999999999997, -6.4972000000000003, -6.6098999999999997, -6.6249000000000002, -6.6635, -6.6714000000000002, -6.7037000000000004, -6.7454999999999998, -5.5892999999999997, -6.7980999999999998, -6.8346999999999998, -6.0919999999999996, -6.0232999999999999, -6.3430999999999997, -5.3139000000000003, -6.1327999999999996, -6.3959000000000001, -5.7274000000000003, -5.1893000000000002, -5.4013, -5.5681000000000003, -6.0655999999999999, -5.4421999999999997, -5.4123999999999999, -6.2196999999999996, -5.7846000000000002, -4.8503999999999996, -5.9436, -3.7827000000000002, -4.8250000000000002, -5.7716000000000003, -5.4656000000000002, -5.7683999999999997, -5.6852, -4.1182999999999996, -4.3655999999999997, -5.0932000000000004, -5.0359999999999996, -5.5193000000000003, -5.3814000000000002, -5.6249000000000002, -5.3533999999999997, -5.3879999999999999, -5.3771000000000004, -5.5044000000000004, -5.4260999999999999, -4.5904999999999996, -4.8315999999999999, -4.8738000000000001, -5.2453000000000003, -5.5109000000000004, -4.7911000000000001, -5.7184999999999997, -5.7422000000000004, -5.7560000000000002, -5.8278999999999996, -5.8815999999999997, -5.8974000000000002, -5.9466000000000001, -5.2453000000000003, -6.0206999999999997, -6.1006999999999998, -5.3552999999999997, -6.1356000000000002, -6.1984000000000004, -6.2653999999999996, -6.2712000000000003, -6.2770000000000001, -6.4146999999999998, -6.5206999999999997, -6.5357000000000003, -5.2104999999999997, -6.8434999999999997, -6.8539000000000003, -6.8749000000000002, -6.9184000000000001, -4.6313000000000004, -3.6343999999999999, -6.2770000000000001, -6.3311000000000002, -4.0763999999999996, -5.8391999999999999, -5.4973999999999998, -3.9083000000000001, -5.5496999999999996, -5.6954000000000002, -5.3323, -5.6413000000000002, -4.4866999999999999, -4.1836000000000002, -3.4868999999999999, -5.3575999999999997, -5.6228999999999996, -5.0221999999999998, -4.5439999999999996, -5.6569000000000003, -4.6989000000000001, -5.4657999999999998, -5.4005000000000001, -5.4427000000000003, -4.2240000000000002, -4.9862000000000002, -5.1576000000000004, -4.6611000000000002, -4.8030999999999997, -5.4250999999999996, -5.4814999999999996, -5.6588000000000003, -6.0800000000000001, -6.1044, -6.1356999999999999, -6.1680999999999999, -6.1680999999999999, -6.2015000000000002, -6.2431000000000001, -6.3398000000000003, -5.6086999999999998, -6.3715000000000002, -4.3308, -6.3878000000000004, -6.4382000000000001, -5.7325999999999997, -6.6589, -5.9345999999999997, -6.7256, -6.7370999999999999, -5.0438999999999998, -6.7606000000000002, -6.7968999999999999, -6.8605999999999998, -6.8872, -6.8872, -6.9008000000000003, -6.9427000000000003, -7.0167000000000002, -7.0321999999999996, -7.1654999999999998, -4.0465, -4.899, -5.8169000000000004, -5.4366000000000003, -4.8879999999999999, -6.4211, -6.3167, -4.7626999999999997, -5.5754999999999999, -5.7411000000000003, -5.5053000000000001, -6.1615000000000002, -4.6942000000000004, -4.9027000000000003, -5.7325999999999997, -5.9191000000000003, -5.0987999999999998, -5.1425999999999998, -4.7855999999999996, -5.4397000000000002, -5.3517000000000001, -5.6276999999999999, -5.0590000000000002, -5.3034999999999997, -5.6748000000000003, -5.5864000000000003, -5.5609999999999999, -5.4524999999999997, -4.5448000000000004, -5.2084000000000001, -5.4653999999999998, -4.4978999999999996, -5.4271000000000003, -5.5538999999999996, -5.4428999999999998, -5.3993000000000002, -5.5503999999999998, -4.6181000000000001, -4.7678000000000003, -5.2859999999999996, -5.4233000000000002, -5.4711999999999996, -5.5438999999999998, -5.6021999999999998, -6.0608000000000004, -6.3869999999999996, -6.4409999999999998, -5.7436999999999996, -6.6231, -6.6920000000000002, -6.7039999999999997, -6.8052000000000001, -6.8322000000000003, -6.8322000000000003, -6.8600000000000003, -6.8741000000000003, -6.9481000000000002, -6.9793000000000003, -6.9953000000000003, -6.2634999999999996, -7.0618999999999996, -7.0792000000000002, -7.0968999999999998, -7.1332000000000004, -7.1708999999999996, -6.1261999999999999, -6.5587, -4.7607999999999997, -5.1500000000000004, -5.2431999999999999, -6.1604999999999999, -6.3696000000000002, -4.5959000000000003, -6.1397000000000004, -6.3525, -6.0864000000000003, -5.0716999999999999, -5.8871000000000002, -5.7670000000000003, -4.1402000000000001, -3.2368000000000001, -4.2465999999999999, -5.2488000000000001, -3.4733000000000001, -5.5903, -5.5401999999999996, -5.3936000000000002, -4.8139000000000003, -4.6974, -5.1862000000000004, -4.3038999999999996, -5.3807, -5.0079000000000002, -5.3125999999999998, -5.1654, -5.2888999999999999, -5.3186, -5.2404000000000002, -5.2130000000000001, -5.2716000000000003, -5.2919, -5.3460999999999999, -4.6661000000000001, -4.8231000000000002, -4.8304999999999998, -4.8704000000000001, -5.1275000000000004, -5.2386999999999997, -5.3765999999999998, -5.9457000000000004, -6.2256, -6.2876000000000003, -6.3884999999999996, -6.4908000000000001, -6.5938999999999997, -5.1401000000000003, -6.6158000000000001, -5.1763000000000003, -4.9427000000000003, -6.7587000000000002, -6.8113000000000001, -6.8113000000000001, -6.1188000000000002, -6.8667999999999996, -5.7409999999999997, -6.9256000000000002, -5.1816000000000004, -5.6273999999999997, -6.3452000000000002, -6.3796999999999997, -7.1444999999999999, -7.2027000000000001, -6.0856000000000003, -5.9122000000000003, -5.2557, -4.9531999999999998, -5.7001999999999997, -6.1959999999999997, -4.8589000000000002, -4.8899999999999997, -5.4158999999999997, -4.7381000000000002, -4.4183000000000003, -5.9400000000000004, -5.3204000000000002, -5.8903999999999996, -4.8742999999999999, -4.4898999999999996, -5.5712000000000002, -5.7786999999999997, -5.5068999999999999, -4.7762000000000002, -4.4663000000000004, -5.3234000000000004, -3.9496000000000002, -4.5140000000000002, -5.0411000000000001, -5.0138999999999996, -5.4886999999999997, -5.4260000000000002, -4.2168999999999999, -4.4325000000000001, -4.5267999999999997, -4.5357000000000003, -4.9737, -5.6280999999999999, -5.7919, -5.8129999999999997, -5.8512000000000004, -5.8907999999999996, -6.0136000000000003, -6.0201000000000002, -6.0811000000000002, -6.0952000000000002, -6.1387, -6.1460999999999997, -6.2156000000000002, -6.2397999999999998, -6.2481, -6.2988999999999997, -6.3803000000000001, -6.3993000000000002, -6.4187000000000003, -4.5431999999999997, -6.4286000000000003, -6.4688999999999997, -6.4793000000000003, -5.7309999999999999, -6.5003000000000002, -6.5437000000000003, -4.8582999999999998, -4.6989000000000001, -5.1555, -5.2453000000000003, -4.1848999999999998, -4.4653, -5.8456000000000001, -6.1611000000000002, -5.0885999999999996, -3.5518999999999998, -5.1666999999999996, -4.9599000000000002, -5.7866999999999997, -5.2332000000000001, -5.4131, -5.7712000000000003, -5.4275000000000002, -5.6829000000000001, -4.8789999999999996, -4.4949000000000003, -4.8219000000000003, -5.6369999999999996, -5.3540000000000001, -5.5846999999999998, -4.9508999999999999, -5.6923000000000004, -5.5552999999999999, -5.4874999999999998, -5.5975000000000001, -4.7385000000000002, -4.8315000000000001, -5.1407999999999996, -4.5731000000000002, -5.6748000000000003, -5.6904000000000003, -5.9726999999999997, -6.3371000000000004, -5.7664999999999997, -6.6243999999999996, -6.6378000000000004, -6.6651999999999996, -6.7222, -6.7672999999999996, -6.7984999999999998, -6.8811, -7.0698999999999996, -7.0909000000000004, -7.0909000000000004, -6.4203000000000001, -6.5232000000000001, -7.2770999999999999, -7.3029999999999999, -7.3849999999999998, -7.4744000000000002, -5.7835999999999999, -7.5060000000000002, -5.6394000000000002, -6.7984999999999998, -7.6074999999999999, -5.6052, -4.2838000000000003, -6.2061000000000002, -5.3745000000000003, -5.9938000000000002, -5.3977000000000004, -4.3110999999999997, -3.4729000000000001, -3.4988999999999999, -5.0994000000000002, -5.8186999999999998, -4.4661, -4.8585000000000003, -5.4055, -4.3569000000000004, -4.9717000000000002, -6.2328000000000001, -4.4554, -4.7691999999999997, -5.2938999999999998, -4.7588999999999997, -5.5004, -4.3513999999999999, -5.4134000000000002, -5.3407, -5.3371000000000004, -5.3116000000000003, -5.3151999999999999, -5.3188000000000004, -5.0403000000000002, -5.4416000000000002, -5.3407, -5.4093999999999998]}};\n",
       "\n",
       "function LDAvis_load_lib(url, callback){\n",
       "  var s = document.createElement('script');\n",
       "  s.src = url;\n",
       "  s.async = true;\n",
       "  s.onreadystatechange = s.onload = callback;\n",
       "  s.onerror = function(){console.warn(\"failed to load library \" + url);};\n",
       "  document.getElementsByTagName(\"head\")[0].appendChild(s);\n",
       "}\n",
       "\n",
       "if(typeof(LDAvis) !== \"undefined\"){\n",
       "   // already loaded: just create the visualization\n",
       "   !function(LDAvis){\n",
       "       new LDAvis(\"#\" + \"ldavis_el47327512163443097233839\", ldavis_el47327512163443097233839_data);\n",
       "   }(LDAvis);\n",
       "}else if(typeof define === \"function\" && define.amd){\n",
       "   // require.js is available: use it to load d3/LDAvis\n",
       "   require.config({paths: {d3: \"https://cdnjs.cloudflare.com/ajax/libs/d3/3.5.5/d3.min\"}});\n",
       "   require([\"d3\"], function(d3){\n",
       "      window.d3 = d3;\n",
       "      LDAvis_load_lib(\"https://cdn.rawgit.com/bmabey/pyLDAvis/files/ldavis.v1.0.0.js\", function(){\n",
       "        new LDAvis(\"#\" + \"ldavis_el47327512163443097233839\", ldavis_el47327512163443097233839_data);\n",
       "      });\n",
       "    });\n",
       "}else{\n",
       "    // require.js not available: dynamically load d3 & LDAvis\n",
       "    LDAvis_load_lib(\"https://cdnjs.cloudflare.com/ajax/libs/d3/3.5.5/d3.min.js\", function(){\n",
       "         LDAvis_load_lib(\"https://cdn.rawgit.com/bmabey/pyLDAvis/files/ldavis.v1.0.0.js\", function(){\n",
       "                 new LDAvis(\"#\" + \"ldavis_el47327512163443097233839\", ldavis_el47327512163443097233839_data);\n",
       "            })\n",
       "         });\n",
       "}\n",
       "</script>"
      ],
      "text/plain": [
       "PreparedData(topic_coordinates=            Freq  cluster  topics         x         y\n",
       "topic                                                \n",
       "5      13.003340        1       1  0.132520 -0.236946\n",
       "0      12.873568        1       2  0.136203 -0.214329\n",
       "3      12.633409        1       3 -0.249032 -0.088049\n",
       "2      11.868215        1       4 -0.238315 -0.055087\n",
       "6      10.834902        1       5 -0.110124  0.071484\n",
       "7       8.598419        1       6  0.016187  0.065130\n",
       "4       8.090620        1       7  0.057047  0.153710\n",
       "9       7.965658        1       8  0.109521  0.158670\n",
       "1       7.544927        1       9  0.027125  0.120734\n",
       "8       6.586941        1      10  0.118869  0.024682, topic_info=      Category         Freq        Term        Total  loglift  logprob\n",
       "term                                                                  \n",
       "20294  Default  5914.000000  government  5914.000000  30.0000  30.0000\n",
       "25665  Default  5613.000000      states  5613.000000  29.0000  29.0000\n",
       "9471   Default  6089.000000      people  6089.000000  28.0000  28.0000\n",
       "17743  Default  5031.000000      united  5031.000000  27.0000  27.0000\n",
       "10151  Default  3461.000000    congress  3461.000000  26.0000  26.0000\n",
       "22802  Default  3239.000000   president  3239.000000  25.0000  25.0000\n",
       "996    Default  3912.000000       world  3912.000000  24.0000  24.0000\n",
       "27835  Default  3275.000000        time  3275.000000  23.0000  23.0000\n",
       "3583   Default  3461.000000    american  3461.000000  22.0000  22.0000\n",
       "8394   Default  3159.000000       peace  3159.000000  21.0000  21.0000\n",
       "27527  Default  2647.000000     nations  2647.000000  20.0000  20.0000\n",
       "20907  Default  3040.000000         war  3040.000000  19.0000  19.0000\n",
       "3065   Default  2399.000000     america  2399.000000  18.0000  18.0000\n",
       "18513  Default  3535.000000     country  3535.000000  17.0000  17.0000\n",
       "710    Default  2895.000000       years  2895.000000  16.0000  16.0000\n",
       "15690  Default  1885.000000    national  1885.000000  15.0000  15.0000\n",
       "4564   Default  1851.000000         men  1851.000000  14.0000  14.0000\n",
       "18886  Default  2440.000000      nation  2440.000000  13.0000  13.0000\n",
       "34361  Default  2132.000000      public  2132.000000  12.0000  12.0000\n",
       "29025  Default  3378.000000       great  3378.000000  11.0000  11.0000\n",
       "29621  Default  1888.000000        work  1888.000000  10.0000  10.0000\n",
       "31546  Default  1815.000000       state  1815.000000   9.0000   9.0000\n",
       "28328  Default  1845.000000       power  1845.000000   8.0000   8.0000\n",
       "20350  Default  2547.000000        year  2547.000000   7.0000   7.0000\n",
       "34242  Default  1566.000000        free  1566.000000   6.0000   6.0000\n",
       "22598  Default  1563.000000     freedom  1563.000000   5.0000   5.0000\n",
       "9496   Default  1546.000000    citizens  1546.000000   4.0000   4.0000\n",
       "32565  Default  1525.000000   americans  1525.000000   3.0000   3.0000\n",
       "13727  Default  1252.000000      rights  1252.000000   2.0000   2.0000\n",
       "6249   Default  1576.000000       today  1576.000000   1.0000   1.0000\n",
       "...        ...          ...         ...          ...      ...      ...\n",
       "11889  Topic10   247.166930  revolution   262.430748   2.6602  -5.3745\n",
       "6465   Topic10   133.060869    concerns   139.710721   2.6713  -5.9938\n",
       "33157  Topic10   241.508778    benefits   257.720889   2.6551  -5.3977\n",
       "4046   Topic10   715.850503        meet   790.762126   2.6206  -4.3111\n",
       "15690  Topic10  1655.103698    national  1885.743368   2.5896  -3.4729\n",
       "4564   Topic10  1612.667560         men  1851.105520   2.5822  -3.4989\n",
       "6237   Topic10   325.438030      entire   355.139931   2.6327  -5.0994\n",
       "4394   Topic10   158.522552    payments   169.135260   2.6553  -5.8187\n",
       "24129  Topic10   613.060745      common   752.771266   2.5148  -4.4661\n",
       "16706  Topic10   414.082408    millions   504.123079   2.5233  -4.8585\n",
       "33457  Topic10   239.622728       hopes   277.841500   2.5721  -5.4055\n",
       "21636  Topic10   683.787643     history   925.041694   2.4179  -4.3569\n",
       "17876  Topic10   369.760219  individual   470.064683   2.4801  -4.9717\n",
       "12168  Topic10   104.770110  proportion   112.284762   2.6508  -6.2328\n",
       "217    Topic10   619.661922     service   878.346339   2.3712  -4.4554\n",
       "10866  Topic10   452.746445        high   681.120506   2.3117  -4.7692\n",
       "35389  Topic10   267.913487      return   364.687393   2.4117  -5.2939\n",
       "1177   Topic10   457.461571        full   751.871988   2.2232  -4.7589\n",
       "4663   Topic10   217.933146      school   286.267257   2.4473  -5.5004\n",
       "29659  Topic10   687.559744         law  1533.877279   1.9177  -4.3514\n",
       "6053   Topic10   237.736677        task   333.871545   2.3805  -5.4134\n",
       "3843   Topic10   255.654158     success   395.679561   2.2833  -5.3407\n",
       "2652   Topic10   256.597183        hand   415.540601   2.2380  -5.3371\n",
       "1188   Topic10   263.198360  experience   449.411921   2.1850  -5.3116\n",
       "22656  Topic10   262.255335     friends   461.523022   2.1549  -5.3152\n",
       "10279  Topic10   261.312310   resources   518.732364   2.0344  -5.3188\n",
       "11052  Topic10   345.241561        hope  1393.939569   1.3244  -5.0403\n",
       "10529  Topic10   231.135500   community   495.942121   1.9566  -5.4416\n",
       "8394   Topic10   255.654158       peace  3159.748604   0.2057  -5.3407\n",
       "9385   Topic10   238.679703        life  1226.344820   1.0834  -5.4094\n",
       "\n",
       "[634 rows x 6 columns], token_table=       Topic      Freq            Term\n",
       "term                                  \n",
       "23942      2  0.997020              20\n",
       "27531      6  0.987603     acquisition\n",
       "10099      1  0.324132             act\n",
       "10099      2  0.209732             act\n",
       "10099      4  0.458331             act\n",
       "10099     10  0.007333             act\n",
       "25384      3  0.017692          action\n",
       "25384      4  0.423684          action\n",
       "25384      5  0.557773          action\n",
       "31839      2  0.995190          active\n",
       "5765       1  0.050815            acts\n",
       "5765       6  0.780159            acts\n",
       "5765       8  0.158423            acts\n",
       "5765      10  0.008967            acts\n",
       "24883      2  0.014217          actual\n",
       "24883      6  0.980940          actual\n",
       "33900      1  0.833128  administration\n",
       "33900      6  0.163566  administration\n",
       "33900     10  0.002353  administration\n",
       "255        2  0.096015         affairs\n",
       "255        3  0.184829         affairs\n",
       "255        6  0.715311         affairs\n",
       "32386      9  0.991450     afghanistan\n",
       "13186      9  0.993444          agenda\n",
       "32456      6  0.983734           agent\n",
       "28943      1  0.766633             ago\n",
       "28943      2  0.232985             ago\n",
       "27894      1  0.985668       agreement\n",
       "27894      3  0.014081       agreement\n",
       "20778      2  0.223032             aid\n",
       "...      ...       ...             ...\n",
       "34984      6  0.019768            ways\n",
       "34984      7  0.006589            ways\n",
       "27537      6  0.924991          wealth\n",
       "27537     10  0.069251          wealth\n",
       "28130      1  0.997665         weapons\n",
       "911        2  0.993561            west\n",
       "911        3  0.002799            west\n",
       "17739      9  0.998958            weve\n",
       "22278      6  0.988308          whilst\n",
       "34877      9  0.998695           white\n",
       "32884     10  0.971625          whites\n",
       "33092      2  0.984671          wishes\n",
       "12027      9  0.995889            wont\n",
       "29621      3  0.066710            work\n",
       "29621      5  0.932879            work\n",
       "26605      7  0.998387         workers\n",
       "649        3  0.001764         working\n",
       "649        5  0.014112         working\n",
       "649        7  0.001764         working\n",
       "649        9  0.980809         working\n",
       "996        3  0.129824           world\n",
       "996        5  0.212114           world\n",
       "996        7  0.657808           world\n",
       "20350      1  0.651352            year\n",
       "20350      2  0.348252            year\n",
       "710        4  0.146088           years\n",
       "710        5  0.248660           years\n",
       "710        9  0.605072           years\n",
       "17353      9  0.991178           youre\n",
       "23715      9  0.995523           youve\n",
       "\n",
       "[1171 rows x 3 columns], R=30, lambda_step=0.01, plot_opts={'xlab': 'PC1', 'ylab': 'PC2'}, topic_order=[6, 1, 4, 3, 7, 8, 5, 10, 2, 9])"
      ]
     },
     "execution_count": 17,
     "metadata": {},
     "output_type": "execute_result"
    }
   ],
   "source": [
    "import pyLDAvis\n",
    "import pyLDAvis.graphlab\n",
    "pyLDAvis.enable_notebook()\n",
    "pyLDAvis.graphlab.prepare(topic_model, docs)"
   ]
  },
  {
   "cell_type": "code",
   "execution_count": 49,
   "metadata": {
    "collapsed": false
   },
   "outputs": [],
   "source": [
    "import graphlab as gl\n",
    "import urllib2\n",
    "import gensim\n",
    "import nltk\n",
    "import re\n",
    "\n",
    "txt = urllib2.urlopen(\"https://drive.google.com/open?id=0B5g0WZIzJLuEU3hqczNEb21MaGM\").read()\n",
    "\n",
    "re_words_split = re.compile(\"(\\w+)\")\n",
    "tokenizer = nltk.data.load('tokenizers/punkt/english.pickle')\n",
    "def txt2words(s):\n",
    "    s = re.sub(\"[^a-zA-Z]\", \" \", s).lower()\n",
    "    return re_words_split.findall(s)\n",
    "\n",
    "class MySentences(object):\n",
    "        def __init__(self, txt):\n",
    "            self._txt = txt.decode(\"utf8\") \n",
    "            \n",
    "        def __iter__(self):\n",
    "            \"\"\"\n",
    "            Split the English text into sentences and then to words using NLTK\n",
    "            :param txt: input text.    \n",
    "            :param remove_none_english_chars: if True then remove none English chars from text\n",
    "            :return: list of words in which each list consists of single sentence's words from the original input text.\n",
    "            :rtype: str\n",
    "            \"\"\"                \n",
    "            # split text into sentences using NLTK package\n",
    "            for s in tokenizer.tokenize(self._txt):                                    \n",
    "                yield txt2words(s)\n",
    "\n",
    "sentences = MySentences(txt)\n",
    "model = gensim.models.Word2Vec(sentences, size=100, window=5, min_count=3, workers=4)\n"
   ]
  },
  {
   "cell_type": "code",
   "execution_count": 55,
   "metadata": {
    "collapsed": false
   },
   "outputs": [
    {
     "name": "stdout",
     "output_type": "stream",
     "text": [
      "[(u'com', 0.7005459666252136), (u'google', 0.685105562210083), (u'a', 0.6578261256217957), (u'true', 0.6530385613441467), (u'link', 0.6439136862754822), (u'd', 0.6416248083114624), (u'text', 0.6234346628189087), (u'file', 0.6168403029441833), (u'docs', 0.6084883809089661), (u'hqczneb', 0.597303569316864)]\n"
     ]
    }
   ],
   "source": [
    "print model.most_similar(\"obama\")\n"
   ]
  },
  {
   "cell_type": "code",
   "execution_count": 60,
   "metadata": {
    "collapsed": false
   },
   "outputs": [],
   "source": [
    "import numpy as np\n",
    "def txt2avg_vector(txt, w2v_model):\n",
    "    words = [w for w in txt2words(txt.lower()) if w in w2v_model]\n",
    "    v = np.mean([w2v_model[w] for w in words],axis=0)    \n",
    "    return v\n",
    "\n",
    "sf_paragraphs['mean_vector'] = sf_paragraphs['paragraph'].apply(lambda p: txt2avg_vector(p, model))"
   ]
  },
  {
   "cell_type": "code",
   "execution_count": 61,
   "metadata": {
    "collapsed": false
   },
   "outputs": [
    {
     "data": {
      "text/html": [
       "<pre>Starting ball tree nearest neighbors model training.</pre>"
      ],
      "text/plain": [
       "Starting ball tree nearest neighbors model training."
      ]
     },
     "metadata": {},
     "output_type": "display_data"
    },
    {
     "data": {
      "text/html": [
       "<pre>+------------+--------------+</pre>"
      ],
      "text/plain": [
       "+------------+--------------+"
      ]
     },
     "metadata": {},
     "output_type": "display_data"
    },
    {
     "data": {
      "text/html": [
       "<pre>| Tree level | Elapsed Time |</pre>"
      ],
      "text/plain": [
       "| Tree level | Elapsed Time |"
      ]
     },
     "metadata": {},
     "output_type": "display_data"
    },
    {
     "data": {
      "text/html": [
       "<pre>+------------+--------------+</pre>"
      ],
      "text/plain": [
       "+------------+--------------+"
      ]
     },
     "metadata": {},
     "output_type": "display_data"
    },
    {
     "data": {
      "text/html": [
       "<pre>| 0          | 17.634ms     |</pre>"
      ],
      "text/plain": [
       "| 0          | 17.634ms     |"
      ]
     },
     "metadata": {},
     "output_type": "display_data"
    },
    {
     "data": {
      "text/html": [
       "<pre>+------------+--------------+</pre>"
      ],
      "text/plain": [
       "+------------+--------------+"
      ]
     },
     "metadata": {},
     "output_type": "display_data"
    },
    {
     "data": {
      "text/html": [
       "<pre>+--------------+-------------+--------------+</pre>"
      ],
      "text/plain": [
       "+--------------+-------------+--------------+"
      ]
     },
     "metadata": {},
     "output_type": "display_data"
    },
    {
     "data": {
      "text/html": [
       "<pre>| Query points | % Complete. | Elapsed Time |</pre>"
      ],
      "text/plain": [
       "| Query points | % Complete. | Elapsed Time |"
      ]
     },
     "metadata": {},
     "output_type": "display_data"
    },
    {
     "data": {
      "text/html": [
       "<pre>+--------------+-------------+--------------+</pre>"
      ],
      "text/plain": [
       "+--------------+-------------+--------------+"
      ]
     },
     "metadata": {},
     "output_type": "display_data"
    },
    {
     "data": {
      "text/html": [
       "<pre>| 1            | 0           | 5.003ms      |</pre>"
      ],
      "text/plain": [
       "| 1            | 0           | 5.003ms      |"
      ]
     },
     "metadata": {},
     "output_type": "display_data"
    },
    {
     "data": {
      "text/html": [
       "<pre>| Done         |             | 638.43ms     |</pre>"
      ],
      "text/plain": [
       "| Done         |             | 638.43ms     |"
      ]
     },
     "metadata": {},
     "output_type": "display_data"
    },
    {
     "data": {
      "text/html": [
       "<pre>+--------------+-------------+--------------+</pre>"
      ],
      "text/plain": [
       "+--------------+-------------+--------------+"
      ]
     },
     "metadata": {},
     "output_type": "display_data"
    },
    {
     "data": {
      "text/html": [
       "<div style=\"max-height:1000px;max-width:1500px;overflow:auto;\"><table frame=\"box\" rules=\"cols\">\n",
       "    <tr>\n",
       "        <th style=\"padding-left: 1em; padding-right: 1em; text-align: center\">query_label</th>\n",
       "        <th style=\"padding-left: 1em; padding-right: 1em; text-align: center\">reference_label</th>\n",
       "        <th style=\"padding-left: 1em; padding-right: 1em; text-align: center\">distance</th>\n",
       "        <th style=\"padding-left: 1em; padding-right: 1em; text-align: center\">rank</th>\n",
       "    </tr>\n",
       "    <tr>\n",
       "        <td style=\"padding-left: 1em; padding-right: 1em; text-align: center; vertical-align: top\">0</td>\n",
       "        <td style=\"padding-left: 1em; padding-right: 1em; text-align: center; vertical-align: top\">0</td>\n",
       "        <td style=\"padding-left: 1em; padding-right: 1em; text-align: center; vertical-align: top\">0.0</td>\n",
       "        <td style=\"padding-left: 1em; padding-right: 1em; text-align: center; vertical-align: top\">1</td>\n",
       "    </tr>\n",
       "    <tr>\n",
       "        <td style=\"padding-left: 1em; padding-right: 1em; text-align: center; vertical-align: top\">0</td>\n",
       "        <td style=\"padding-left: 1em; padding-right: 1em; text-align: center; vertical-align: top\">247</td>\n",
       "        <td style=\"padding-left: 1em; padding-right: 1em; text-align: center; vertical-align: top\">0.000894301737532</td>\n",
       "        <td style=\"padding-left: 1em; padding-right: 1em; text-align: center; vertical-align: top\">2</td>\n",
       "    </tr>\n",
       "    <tr>\n",
       "        <td style=\"padding-left: 1em; padding-right: 1em; text-align: center; vertical-align: top\">1</td>\n",
       "        <td style=\"padding-left: 1em; padding-right: 1em; text-align: center; vertical-align: top\">1</td>\n",
       "        <td style=\"padding-left: 1em; padding-right: 1em; text-align: center; vertical-align: top\">0.0</td>\n",
       "        <td style=\"padding-left: 1em; padding-right: 1em; text-align: center; vertical-align: top\">1</td>\n",
       "    </tr>\n",
       "    <tr>\n",
       "        <td style=\"padding-left: 1em; padding-right: 1em; text-align: center; vertical-align: top\">1</td>\n",
       "        <td style=\"padding-left: 1em; padding-right: 1em; text-align: center; vertical-align: top\">75</td>\n",
       "        <td style=\"padding-left: 1em; padding-right: 1em; text-align: center; vertical-align: top\">0.00177082049266</td>\n",
       "        <td style=\"padding-left: 1em; padding-right: 1em; text-align: center; vertical-align: top\">2</td>\n",
       "    </tr>\n",
       "    <tr>\n",
       "        <td style=\"padding-left: 1em; padding-right: 1em; text-align: center; vertical-align: top\">2</td>\n",
       "        <td style=\"padding-left: 1em; padding-right: 1em; text-align: center; vertical-align: top\">2</td>\n",
       "        <td style=\"padding-left: 1em; padding-right: 1em; text-align: center; vertical-align: top\">0.0</td>\n",
       "        <td style=\"padding-left: 1em; padding-right: 1em; text-align: center; vertical-align: top\">1</td>\n",
       "    </tr>\n",
       "    <tr>\n",
       "        <td style=\"padding-left: 1em; padding-right: 1em; text-align: center; vertical-align: top\">2</td>\n",
       "        <td style=\"padding-left: 1em; padding-right: 1em; text-align: center; vertical-align: top\">16</td>\n",
       "        <td style=\"padding-left: 1em; padding-right: 1em; text-align: center; vertical-align: top\">0.000928484636116</td>\n",
       "        <td style=\"padding-left: 1em; padding-right: 1em; text-align: center; vertical-align: top\">2</td>\n",
       "    </tr>\n",
       "    <tr>\n",
       "        <td style=\"padding-left: 1em; padding-right: 1em; text-align: center; vertical-align: top\">3</td>\n",
       "        <td style=\"padding-left: 1em; padding-right: 1em; text-align: center; vertical-align: top\">3</td>\n",
       "        <td style=\"padding-left: 1em; padding-right: 1em; text-align: center; vertical-align: top\">0.0</td>\n",
       "        <td style=\"padding-left: 1em; padding-right: 1em; text-align: center; vertical-align: top\">1</td>\n",
       "    </tr>\n",
       "    <tr>\n",
       "        <td style=\"padding-left: 1em; padding-right: 1em; text-align: center; vertical-align: top\">3</td>\n",
       "        <td style=\"padding-left: 1em; padding-right: 1em; text-align: center; vertical-align: top\">110</td>\n",
       "        <td style=\"padding-left: 1em; padding-right: 1em; text-align: center; vertical-align: top\">0.00074604515377</td>\n",
       "        <td style=\"padding-left: 1em; padding-right: 1em; text-align: center; vertical-align: top\">2</td>\n",
       "    </tr>\n",
       "    <tr>\n",
       "        <td style=\"padding-left: 1em; padding-right: 1em; text-align: center; vertical-align: top\">4</td>\n",
       "        <td style=\"padding-left: 1em; padding-right: 1em; text-align: center; vertical-align: top\">4</td>\n",
       "        <td style=\"padding-left: 1em; padding-right: 1em; text-align: center; vertical-align: top\">0.0</td>\n",
       "        <td style=\"padding-left: 1em; padding-right: 1em; text-align: center; vertical-align: top\">1</td>\n",
       "    </tr>\n",
       "    <tr>\n",
       "        <td style=\"padding-left: 1em; padding-right: 1em; text-align: center; vertical-align: top\">4</td>\n",
       "        <td style=\"padding-left: 1em; padding-right: 1em; text-align: center; vertical-align: top\">139</td>\n",
       "        <td style=\"padding-left: 1em; padding-right: 1em; text-align: center; vertical-align: top\">0.00162629810938</td>\n",
       "        <td style=\"padding-left: 1em; padding-right: 1em; text-align: center; vertical-align: top\">2</td>\n",
       "    </tr>\n",
       "</table>\n",
       "[10 rows x 4 columns]<br/>\n",
       "</div>"
      ],
      "text/plain": [
       "Columns:\n",
       "\tquery_label\tint\n",
       "\treference_label\tint\n",
       "\tdistance\tfloat\n",
       "\trank\tint\n",
       "\n",
       "Rows: 10\n",
       "\n",
       "Data:\n",
       "+-------------+-----------------+-------------------+------+\n",
       "| query_label | reference_label |      distance     | rank |\n",
       "+-------------+-----------------+-------------------+------+\n",
       "|      0      |        0        |        0.0        |  1   |\n",
       "|      0      |       247       | 0.000894301737532 |  2   |\n",
       "|      1      |        1        |        0.0        |  1   |\n",
       "|      1      |        75       |  0.00177082049266 |  2   |\n",
       "|      2      |        2        |        0.0        |  1   |\n",
       "|      2      |        16       | 0.000928484636116 |  2   |\n",
       "|      3      |        3        |        0.0        |  1   |\n",
       "|      3      |       110       |  0.00074604515377 |  2   |\n",
       "|      4      |        4        |        0.0        |  1   |\n",
       "|      4      |       139       |  0.00162629810938 |  2   |\n",
       "+-------------+-----------------+-------------------+------+\n",
       "[10 rows x 4 columns]"
      ]
     },
     "execution_count": 61,
     "metadata": {},
     "output_type": "execute_result"
    }
   ],
   "source": [
    "#construncting nearest neighbors model\n",
    "nn_model = gl.nearest_neighbors.create(sf_paragraphs, features=['mean_vector'])\n",
    "\n",
    "#calaculating the two nearest neighbors of each paragraph from all the paragraphs \n",
    "r = nn_model.query(sf_paragraphs, k=2)\n",
    "r.head(10)"
   ]
  },
  {
   "cell_type": "code",
   "execution_count": 62,
   "metadata": {
    "collapsed": false
   },
   "outputs": [
    {
     "data": {
      "text/html": [
       "<div style=\"max-height:1000px;max-width:1500px;overflow:auto;\"><table frame=\"box\" rules=\"cols\">\n",
       "    <tr>\n",
       "        <th style=\"padding-left: 1em; padding-right: 1em; text-align: center\">query_label</th>\n",
       "        <th style=\"padding-left: 1em; padding-right: 1em; text-align: center\">reference_label</th>\n",
       "        <th style=\"padding-left: 1em; padding-right: 1em; text-align: center\">distance</th>\n",
       "        <th style=\"padding-left: 1em; padding-right: 1em; text-align: center\">rank</th>\n",
       "    </tr>\n",
       "    <tr>\n",
       "        <td style=\"padding-left: 1em; padding-right: 1em; text-align: center; vertical-align: top\">0</td>\n",
       "        <td style=\"padding-left: 1em; padding-right: 1em; text-align: center; vertical-align: top\">247</td>\n",
       "        <td style=\"padding-left: 1em; padding-right: 1em; text-align: center; vertical-align: top\">0.000894301737532</td>\n",
       "        <td style=\"padding-left: 1em; padding-right: 1em; text-align: center; vertical-align: top\">2</td>\n",
       "    </tr>\n",
       "    <tr>\n",
       "        <td style=\"padding-left: 1em; padding-right: 1em; text-align: center; vertical-align: top\">1</td>\n",
       "        <td style=\"padding-left: 1em; padding-right: 1em; text-align: center; vertical-align: top\">75</td>\n",
       "        <td style=\"padding-left: 1em; padding-right: 1em; text-align: center; vertical-align: top\">0.00177082049266</td>\n",
       "        <td style=\"padding-left: 1em; padding-right: 1em; text-align: center; vertical-align: top\">2</td>\n",
       "    </tr>\n",
       "    <tr>\n",
       "        <td style=\"padding-left: 1em; padding-right: 1em; text-align: center; vertical-align: top\">2</td>\n",
       "        <td style=\"padding-left: 1em; padding-right: 1em; text-align: center; vertical-align: top\">16</td>\n",
       "        <td style=\"padding-left: 1em; padding-right: 1em; text-align: center; vertical-align: top\">0.000928484636116</td>\n",
       "        <td style=\"padding-left: 1em; padding-right: 1em; text-align: center; vertical-align: top\">2</td>\n",
       "    </tr>\n",
       "    <tr>\n",
       "        <td style=\"padding-left: 1em; padding-right: 1em; text-align: center; vertical-align: top\">3</td>\n",
       "        <td style=\"padding-left: 1em; padding-right: 1em; text-align: center; vertical-align: top\">110</td>\n",
       "        <td style=\"padding-left: 1em; padding-right: 1em; text-align: center; vertical-align: top\">0.00074604515377</td>\n",
       "        <td style=\"padding-left: 1em; padding-right: 1em; text-align: center; vertical-align: top\">2</td>\n",
       "    </tr>\n",
       "    <tr>\n",
       "        <td style=\"padding-left: 1em; padding-right: 1em; text-align: center; vertical-align: top\">4</td>\n",
       "        <td style=\"padding-left: 1em; padding-right: 1em; text-align: center; vertical-align: top\">139</td>\n",
       "        <td style=\"padding-left: 1em; padding-right: 1em; text-align: center; vertical-align: top\">0.00162629810938</td>\n",
       "        <td style=\"padding-left: 1em; padding-right: 1em; text-align: center; vertical-align: top\">2</td>\n",
       "    </tr>\n",
       "    <tr>\n",
       "        <td style=\"padding-left: 1em; padding-right: 1em; text-align: center; vertical-align: top\">5</td>\n",
       "        <td style=\"padding-left: 1em; padding-right: 1em; text-align: center; vertical-align: top\">11</td>\n",
       "        <td style=\"padding-left: 1em; padding-right: 1em; text-align: center; vertical-align: top\">0.000744305314392</td>\n",
       "        <td style=\"padding-left: 1em; padding-right: 1em; text-align: center; vertical-align: top\">2</td>\n",
       "    </tr>\n",
       "    <tr>\n",
       "        <td style=\"padding-left: 1em; padding-right: 1em; text-align: center; vertical-align: top\">6</td>\n",
       "        <td style=\"padding-left: 1em; padding-right: 1em; text-align: center; vertical-align: top\">93</td>\n",
       "        <td style=\"padding-left: 1em; padding-right: 1em; text-align: center; vertical-align: top\">0.00553016265452</td>\n",
       "        <td style=\"padding-left: 1em; padding-right: 1em; text-align: center; vertical-align: top\">2</td>\n",
       "    </tr>\n",
       "    <tr>\n",
       "        <td style=\"padding-left: 1em; padding-right: 1em; text-align: center; vertical-align: top\">7</td>\n",
       "        <td style=\"padding-left: 1em; padding-right: 1em; text-align: center; vertical-align: top\">103</td>\n",
       "        <td style=\"padding-left: 1em; padding-right: 1em; text-align: center; vertical-align: top\">0.000770922708859</td>\n",
       "        <td style=\"padding-left: 1em; padding-right: 1em; text-align: center; vertical-align: top\">2</td>\n",
       "    </tr>\n",
       "    <tr>\n",
       "        <td style=\"padding-left: 1em; padding-right: 1em; text-align: center; vertical-align: top\">8</td>\n",
       "        <td style=\"padding-left: 1em; padding-right: 1em; text-align: center; vertical-align: top\">214</td>\n",
       "        <td style=\"padding-left: 1em; padding-right: 1em; text-align: center; vertical-align: top\">0.00120041979798</td>\n",
       "        <td style=\"padding-left: 1em; padding-right: 1em; text-align: center; vertical-align: top\">2</td>\n",
       "    </tr>\n",
       "    <tr>\n",
       "        <td style=\"padding-left: 1em; padding-right: 1em; text-align: center; vertical-align: top\">9</td>\n",
       "        <td style=\"padding-left: 1em; padding-right: 1em; text-align: center; vertical-align: top\">371</td>\n",
       "        <td style=\"padding-left: 1em; padding-right: 1em; text-align: center; vertical-align: top\">0.00371562996025</td>\n",
       "        <td style=\"padding-left: 1em; padding-right: 1em; text-align: center; vertical-align: top\">2</td>\n",
       "    </tr>\n",
       "</table>\n",
       "[? rows x 4 columns]<br/>Note: Only the head of the SFrame is printed. This SFrame is lazily evaluated.<br/>You can use sf.materialize() to force materialization.\n",
       "</div>"
      ],
      "text/plain": [
       "Columns:\n",
       "\tquery_label\tint\n",
       "\treference_label\tint\n",
       "\tdistance\tfloat\n",
       "\trank\tint\n",
       "\n",
       "Rows: Unknown\n",
       "\n",
       "Data:\n",
       "+-------------+-----------------+-------------------+------+\n",
       "| query_label | reference_label |      distance     | rank |\n",
       "+-------------+-----------------+-------------------+------+\n",
       "|      0      |       247       | 0.000894301737532 |  2   |\n",
       "|      1      |        75       |  0.00177082049266 |  2   |\n",
       "|      2      |        16       | 0.000928484636116 |  2   |\n",
       "|      3      |       110       |  0.00074604515377 |  2   |\n",
       "|      4      |       139       |  0.00162629810938 |  2   |\n",
       "|      5      |        11       | 0.000744305314392 |  2   |\n",
       "|      6      |        93       |  0.00553016265452 |  2   |\n",
       "|      7      |       103       | 0.000770922708859 |  2   |\n",
       "|      8      |       214       |  0.00120041979798 |  2   |\n",
       "|      9      |       371       |  0.00371562996025 |  2   |\n",
       "+-------------+-----------------+-------------------+------+\n",
       "[? rows x 4 columns]\n",
       "Note: Only the head of the SFrame is printed. This SFrame is lazily evaluated.\n",
       "You can use sf.materialize() to force materialization."
      ]
     },
     "execution_count": 62,
     "metadata": {},
     "output_type": "execute_result"
    }
   ],
   "source": [
    "#filter out paragraphs that are exactly exactly the same\n",
    "r = r[r['distance'] != 0]\n",
    "\n",
    "#filter out paragraphs that are with distance >= 0.1\n",
    "r = r[r['distance'] < 0.08]\n",
    "r"
   ]
  },
  {
   "cell_type": "code",
   "execution_count": 63,
   "metadata": {
    "collapsed": true
   },
   "outputs": [],
   "source": [
    "sf_paragraphs = sf_paragraphs.add_row_number('query_label')\n",
    "sf_paragraphs = sf_paragraphs.add_row_number('reference_label')\n",
    "sf_similar = r.join(sf_paragraphs, on=\"query_label\").join(sf_paragraphs, on=\"reference_label\")"
   ]
  },
  {
   "cell_type": "code",
   "execution_count": 65,
   "metadata": {
    "collapsed": false
   },
   "outputs": [
    {
     "data": {
      "text/html": [
       "<div style=\"max-height:1000px;max-width:1500px;overflow:auto;\"><table frame=\"box\" rules=\"cols\">\n",
       "    <tr>\n",
       "        <th style=\"padding-left: 1em; padding-right: 1em; text-align: center\">paragraph</th>\n",
       "        <th style=\"padding-left: 1em; padding-right: 1em; text-align: center\">paragraph.1</th>\n",
       "        <th style=\"padding-left: 1em; padding-right: 1em; text-align: center\">distance</th>\n",
       "    </tr>\n",
       "    <tr>\n",
       "        <td style=\"padding-left: 1em; padding-right: 1em; text-align: center; vertical-align: top\">fellow citizens of the<br>senate and the house of ...</td>\n",
       "        <td style=\"padding-left: 1em; padding-right: 1em; text-align: center; vertical-align: top\">senator wagner governor<br>lehman ladies and ...</td>\n",
       "        <td style=\"padding-left: 1em; padding-right: 1em; text-align: center; vertical-align: top\">0.000894301737532</td>\n",
       "    </tr>\n",
       "    <tr>\n",
       "        <td style=\"padding-left: 1em; padding-right: 1em; text-align: center; vertical-align: top\">whereas it is the duty of<br>all nations to ...</td>\n",
       "        <td style=\"padding-left: 1em; padding-right: 1em; text-align: center; vertical-align: top\">to the house of<br>representatives of the ...</td>\n",
       "        <td style=\"padding-left: 1em; padding-right: 1em; text-align: center; vertical-align: top\">0.00177082049266</td>\n",
       "    </tr>\n",
       "    <tr>\n",
       "        <td style=\"padding-left: 1em; padding-right: 1em; text-align: center; vertical-align: top\">fellow citizens of the<br>senate and house of ...</td>\n",
       "        <td style=\"padding-left: 1em; padding-right: 1em; text-align: center; vertical-align: top\">i trust i do not deceive<br>myself when i indulge ...</td>\n",
       "        <td style=\"padding-left: 1em; padding-right: 1em; text-align: center; vertical-align: top\">0.000928484636116</td>\n",
       "    </tr>\n",
       "    <tr>\n",
       "        <td style=\"padding-left: 1em; padding-right: 1em; text-align: center; vertical-align: top\">fellow citizens of the<br>senate and house of ...</td>\n",
       "        <td style=\"padding-left: 1em; padding-right: 1em; text-align: center; vertical-align: top\">fellowcitizens of the<br>senate and house of ...</td>\n",
       "        <td style=\"padding-left: 1em; padding-right: 1em; text-align: center; vertical-align: top\">0.00074604515377</td>\n",
       "    </tr>\n",
       "    <tr>\n",
       "        <td style=\"padding-left: 1em; padding-right: 1em; text-align: center; vertical-align: top\">i the president of the<br>united states by my own ...</td>\n",
       "        <td style=\"padding-left: 1em; padding-right: 1em; text-align: center; vertical-align: top\">by the president of the<br>united states of america ...</td>\n",
       "        <td style=\"padding-left: 1em; padding-right: 1em; text-align: center; vertical-align: top\">0.00162629810938</td>\n",
       "    </tr>\n",
       "    <tr>\n",
       "        <td style=\"padding-left: 1em; padding-right: 1em; text-align: center; vertical-align: top\">i meet you upon the<br>present occasion with ...</td>\n",
       "        <td style=\"padding-left: 1em; padding-right: 1em; text-align: center; vertical-align: top\">fellow citizens of the<br>senate and of the house ...</td>\n",
       "        <td style=\"padding-left: 1em; padding-right: 1em; text-align: center; vertical-align: top\">0.000744305314392</td>\n",
       "    </tr>\n",
       "    <tr>\n",
       "        <td style=\"padding-left: 1em; padding-right: 1em; text-align: center; vertical-align: top\">gentlemen of the house of<br>representatives i have ...</td>\n",
       "        <td style=\"padding-left: 1em; padding-right: 1em; text-align: center; vertical-align: top\">whereas by an act of the<br>congress of the united ...</td>\n",
       "        <td style=\"padding-left: 1em; padding-right: 1em; text-align: center; vertical-align: top\">0.00553016265452</td>\n",
       "    </tr>\n",
       "    <tr>\n",
       "        <td style=\"padding-left: 1em; padding-right: 1em; text-align: center; vertical-align: top\">fellowcitizens of the<br>senate and of the house ...</td>\n",
       "        <td style=\"padding-left: 1em; padding-right: 1em; text-align: center; vertical-align: top\">fellow citizens of the<br>senate and house of ...</td>\n",
       "        <td style=\"padding-left: 1em; padding-right: 1em; text-align: center; vertical-align: top\">0.000770922708859</td>\n",
       "    </tr>\n",
       "    <tr>\n",
       "        <td style=\"padding-left: 1em; padding-right: 1em; text-align: center; vertical-align: top\">whereas i have received<br>authentic information ...</td>\n",
       "        <td style=\"padding-left: 1em; padding-right: 1em; text-align: center; vertical-align: top\">gentlemen of the congress<br>in fulfilling at this ...</td>\n",
       "        <td style=\"padding-left: 1em; padding-right: 1em; text-align: center; vertical-align: top\">0.00120041979798</td>\n",
       "    </tr>\n",
       "    <tr>\n",
       "        <td style=\"padding-left: 1em; padding-right: 1em; text-align: center; vertical-align: top\">fellowcitizens i am again<br>called upon by the voice ...</td>\n",
       "        <td style=\"padding-left: 1em; padding-right: 1em; text-align: center; vertical-align: top\">dr newhouse chancellor<br>tolley governor and mrs ...</td>\n",
       "        <td style=\"padding-left: 1em; padding-right: 1em; text-align: center; vertical-align: top\">0.00371562996025</td>\n",
       "    </tr>\n",
       "</table>\n",
       "[622 rows x 3 columns]<br/>Note: Only the head of the SFrame is printed.<br/>You can use print_rows(num_rows=m, num_columns=n) to print more rows and columns.\n",
       "</div>"
      ],
      "text/plain": [
       "Columns:\n",
       "\tparagraph\tstr\n",
       "\tparagraph.1\tstr\n",
       "\tdistance\tfloat\n",
       "\n",
       "Rows: 622\n",
       "\n",
       "Data:\n",
       "+-------------------------------+-------------------------------+\n",
       "|           paragraph           |          paragraph.1          |\n",
       "+-------------------------------+-------------------------------+\n",
       "| fellow citizens of the sen... | senator wagner governor le... |\n",
       "| whereas it is the duty of ... | to the house of representa... |\n",
       "| fellow citizens of the sen... | i trust i do not deceive m... |\n",
       "| fellow citizens of the sen... | fellowcitizens of the sena... |\n",
       "| i the president of the uni... | by the president of the un... |\n",
       "| i meet you upon the presen... | fellow citizens of the sen... |\n",
       "| gentlemen of the house of ... | whereas by an act of the c... |\n",
       "| fellowcitizens of the sena... | fellow citizens of the sen... |\n",
       "| whereas i have received au... | gentlemen of the congress ... |\n",
       "| fellowcitizens i am again ... | dr newhouse chancellor tol... |\n",
       "+-------------------------------+-------------------------------+\n",
       "+-------------------+\n",
       "|      distance     |\n",
       "+-------------------+\n",
       "| 0.000894301737532 |\n",
       "|  0.00177082049266 |\n",
       "| 0.000928484636116 |\n",
       "|  0.00074604515377 |\n",
       "|  0.00162629810938 |\n",
       "| 0.000744305314392 |\n",
       "|  0.00553016265452 |\n",
       "| 0.000770922708859 |\n",
       "|  0.00120041979798 |\n",
       "|  0.00371562996025 |\n",
       "+-------------------+\n",
       "[622 rows x 3 columns]\n",
       "Note: Only the head of the SFrame is printed.\n",
       "You can use print_rows(num_rows=m, num_columns=n) to print more rows and columns."
      ]
     },
     "execution_count": 65,
     "metadata": {},
     "output_type": "execute_result"
    }
   ],
   "source": [
    "sf_similar[['paragraph', 'paragraph.1', 'distance']]"
   ]
  },
  {
   "cell_type": "code",
   "execution_count": 66,
   "metadata": {
    "collapsed": false
   },
   "outputs": [
    {
     "name": "stdout",
     "output_type": "stream",
     "text": [
      "whereas it is the duty of all nations to acknowledge the providence of almighty god to obey his will to be grateful for his benefits and humbly to implore his protection and favor and whereas both houses of congress have by their joint committee requested me to recommend to the people of the united states a day of public thanksgiving and prayer to be observed by acknowledging with grateful hearts the many signal favors of almighty god especially by affording them an opportunity peaceably to establish a form of government for their safety and happiness now therefore i do recommend and assign thursday the 26th day of november next to be devoted by the people of these states to the service of that great and glorious being who is the beneficent author of all the good that was that is or that will be that we may then all unite in rendering unto him our sincere and humble thanks for his kind care and protection of the people of this country previous to their becoming a nation for the signal and manifold mercies and the favorable interpositions of his providence which we experienced in the course and conclusion of the late war for the great degree of tranquillity union and plenty which we have since enjoyed for the peaceable and rational manner in which we have been enabled to establish constitutions of government for our safety and happiness and particularly the national one now lately instituted for the civil and religious liberty with which we are blessed and the means we have of acquiring and diffusing useful knowledge and in general for all the great and various favors which he hath been pleased to confer upon us and also that we may then unite in most humbly offering our prayers and supplications to the great lord and ruler of nations and beseech him to pardon our national and other transgressions to enable us all whether in public or private stations to perform our several and relative duties properly and punctually to render our national government a blessing to all the people by constantly being a government of wise just and constitutional laws discreetly and faithfully executed and obeyed to protect and guide all sovereigns and nations especially such as have shown kindness unto us and to bless them with good government peace and concord to promote the knowledge and practice of true religion and virtue and the encrease of science among them and us and generally to grant unto all mankind such a degree of temporal prosperity as he alone knows to be best\n",
      "----------------------------------------------------------------------------------------------------\n",
      "to the house of representatives of the united states having considered the bill this day presented to me entitled an act to set apart and pledge certain funds for internal improvements and which sets apart and pledges funds for constructing roads and canals and improving the navigation of water courses in order to facilitate promote and give security to internal commerce among the several states and to render more easy and less expensive the means and provisions for the common defense i am constrained by the insuperable difficulty i feel in reconciling the bill with the constitution of the united states to return it with that objection to the house of representatives in which it originated the legislative powers vested in congress are specified and enumerated in the eighth section of the first article of the constitution and it does not appear that the power proposed to be exercised by the bill is among the enumerated powers or that it falls by any just interpretation within the power to make laws necessary and proper for carrying into execution those or other powers vested by the constitution in the government of the united states the power to regulate commerce among the several states can not include a power to construct roads and canals and to improve the navigation of water courses in order to facilitate promote and secure such a commerce without a latitude of construction departing from the ordinary import of the terms strengthened by the known inconveniences which doubtless led to the grant of this remedial power to congress to refer the power in question to the clause to provide for the common defense and general welfare would be contrary to the established and consistent rules of interpretation as rendering the special and careful enumeration of powers which follow the clause nugatory and improper such a view of the constitution would have the effect of giving to congress a general power of legislation instead of the defined and limited one hitherto understood to belong to them the terms common defense and general welfare embracing every object and act within the purview of a legislative trust it would have the effect of subjecting both the constitution and laws of the several states in all cases not specifically exempted to be superseded by laws of congress it being expressly declared that the constitution of the united states and laws made in pursuance thereof shall be the supreme law of the land and the judges of every state shall be bound thereby anything in the constitution or laws of any state to the contrary notwithstanding such a view of the constitution finally would have the effect of excluding the judicial authority of the united states from its participation in guarding the boundary between the legislative powers of the general and the state governments inasmuch as questions relating to the general welfare being questions of policy and expediency are unsusceptible of judicial cognizance and decision a restriction of the power to provide for the common defense and general welfare to cases which are to be provided for by the expenditure of money would still leave within the legislative power of congress all the great and most important measures of government money being the ordinary and necessary means of carrying them into execution if a general power to construct roads and canals and to improve the navigation of water courses with the train of powers incident thereto be not possessed by congress the assent of the states in the mode provided in the bill can not confer the power the only cases in which the consent and cession of particular states can extend the power of congress are those specified and provided for in the constitution i am not unaware of the great importance of roads and canals and the improved navigation of water courses and that a power in the national legislature to provide for them might be exercised with signal advantage to the general prosperity but seeing that such a power is not expressly given by the constitution and believing that it can not be deduced from any part of it without an inadmissible latitude of construction and a reliance on insufficient precedents believing also that the permanent success of the constitution depends on a definite partition of powers between the general and the state governments and that no adequate landmarks would be left by the constructive extension of the powers of congress as proposed in the bill i have no option but to withhold my signature from it and to cherishing the hope that its beneficial objects may be attained by a resort for the necessary powers to the same wisdom and virtue in the nation which established the constitution in its actual form and providently marked out in the instrument itself a safe and practicable mode of improving it as experience might suggest james madison\n"
     ]
    }
   ],
   "source": [
    "print sf_similar[1]['paragraph']\n",
    "print \"-\"*100\n",
    "print sf_similar[1]['paragraph.1']"
   ]
  },
  {
   "cell_type": "code",
   "execution_count": null,
   "metadata": {
    "collapsed": true
   },
   "outputs": [],
   "source": []
  },
  {
   "cell_type": "code",
   "execution_count": 12,
   "metadata": {
    "collapsed": false
   },
   "outputs": [],
   "source": [
    "import logging, gensim\n",
    "logging.basicConfig(format='%(asctime)s : %(levelname)s : %(message)s', level=logging.INFO)\n",
    "lda = gensim.models.ldamodel.LdaModel(corpus, id2word=dictionary, num_topics=25, update_every=1, passes=20)"
   ]
  },
  {
   "cell_type": "code",
   "execution_count": 13,
   "metadata": {
    "collapsed": false
   },
   "outputs": [
    {
     "name": "stdout",
     "output_type": "stream",
     "text": [
      "Topic #  0 (0, u'0.007*people + 0.006*kosovo + 0.006*war + 0.006*bosnia + 0.005*army + 0.005*peace + 0.005*union + 0.005*military + 0.005*men + 0.004*nato + 0.004*time + 0.004*compromise + 0.004*promise + 0.004*allies + 0.004*drought + 0.003*mccain + 0.003*europe + 0.003*lives + 0.003*berlin + 0.003*issue')\n",
      "Topic #  1 (1, u'0.007*increase + 0.007*people + 0.007*states + 0.006*government + 0.006*year + 0.006*work + 0.006*united + 0.005*wages + 0.005*secretary + 0.004*1892 + 0.004*union + 0.004*general + 0.004*american + 0.004*great + 0.004*cent + 0.004*transportation + 0.004*products + 0.004*trade + 0.004*president + 0.003*1890')\n",
      "Topic #  2 (2, u'0.018*business + 0.011*law + 0.010*labor + 0.009*government + 0.009*great + 0.008*public + 0.008*national + 0.007*conditions + 0.007*power + 0.007*men + 0.006*industrial + 0.006*corporations + 0.006*interstate + 0.006*legislation + 0.005*commerce + 0.005*country + 0.005*man + 0.005*work + 0.005*congress + 0.004*control')\n",
      "Topic #  3 (3, u'0.010*america + 0.009*people + 0.007*iraq + 0.006*american + 0.006*world + 0.005*nation + 0.005*country + 0.005*men + 0.004*united + 0.004*security + 0.004*terrorists + 0.004*states + 0.004*americans + 0.004*troops + 0.004*women + 0.003*freedom + 0.003*forces + 0.003*government + 0.003*iraqi + 0.003*war')\n",
      "Topic #  4 (4, u'0.012*people + 0.008*years + 0.008*america + 0.007*american + 0.006*government + 0.006*congress + 0.006*work + 0.006*tax + 0.006*year + 0.005*time + 0.005*world + 0.005*make + 0.005*president + 0.005*americans + 0.004*weve + 0.004*budget + 0.004*jobs + 0.004*country + 0.004*economic + 0.003*economy')\n",
      "Topic #  5 (5, u'0.016*government + 0.011*states + 0.009*united + 0.007*congress + 0.006*country + 0.005*year + 0.005*made + 0.005*public + 0.004*great + 0.004*people + 0.004*american + 0.004*foreign + 0.003*citizens + 0.003*treaty + 0.003*present + 0.003*time + 0.003*subject + 0.003*relations + 0.003*treasury + 0.003*law')\n",
      "Topic #  6 (6, u'0.009*black + 0.003*blacks + 0.003*soldiers + 0.002*negro + 0.002*cities + 0.002*santiago + 0.002*violence + 0.002*groups + 0.002*war + 0.002*federal + 0.002*today + 0.002*government + 0.002*children + 0.002*freedom + 0.002*silence + 0.002*panama + 0.002*representatives + 0.002*beaches + 0.002*economic + 0.002*convention')\n",
      "Topic #  7 (7, u'0.013*tariff + 0.010*schedule + 0.010*country + 0.009*articles + 0.007*rates + 0.007*consumption + 0.006*increased + 0.006*cost + 0.006*duty + 0.006*items + 0.006*manufactures + 0.005*made + 0.005*bill + 0.005*extent + 0.004*production + 0.004*decreased + 0.004*reduction + 0.004*law + 0.004*wool + 0.004*enter')\n",
      "Topic #  8 (8, u'0.009*watergate + 0.008*statute + 0.005*house + 0.005*made + 0.004*case + 0.004*court + 0.004*law + 0.004*company + 0.004*capital + 0.004*trust + 0.004*president + 0.004*tobacco + 0.004*companies + 0.004*white + 0.004*people + 0.003*general + 0.003*transcripts + 0.003*committee + 0.003*investigation + 0.003*purpose')\n",
      "Topic #  9 (9, u'0.016*states + 0.012*united + 0.008*government + 0.006*great + 0.006*congress + 0.005*state + 0.005*public + 0.005*made + 0.005*country + 0.005*war + 0.004*citizens + 0.004*time + 0.004*part + 0.003*present + 0.003*union + 0.003*people + 0.003*commerce + 0.003*act + 0.003*nations + 0.003*power')\n",
      "Topic #  10 (10, u'0.009*world + 0.008*people + 0.007*war + 0.007*president + 0.006*nations + 0.006*peace + 0.005*united + 0.005*time + 0.005*american + 0.004*country + 0.004*states + 0.004*great + 0.004*congress + 0.004*nation + 0.004*years + 0.004*make + 0.004*today + 0.004*government + 0.004*men + 0.003*year')\n",
      "Topic #  11 (11, u'0.011*war + 0.009*people + 0.008*government + 0.008*peace + 0.006*world + 0.005*germany + 0.005*american + 0.005*time + 0.005*great + 0.005*united + 0.004*japanese + 0.004*nations + 0.003*men + 0.003*german + 0.003*freedom + 0.003*today + 0.003*japan + 0.003*man + 0.003*americans + 0.003*long')\n",
      "Topic #  12 (12, u'0.011*nuclear + 0.009*treaty + 0.008*cooperation + 0.007*gorbachev + 0.007*united + 0.007*nations + 0.005*weapons + 0.005*international + 0.005*process + 0.005*states + 0.005*issues + 0.005*world + 0.004*security + 0.004*president + 0.004*important + 0.004*bush + 0.004*peace + 0.003*yugoslavia + 0.003*agreements + 0.003*london')\n",
      "Topic #  13 (13, u'0.012*vietnam + 0.008*energy + 0.007*congress + 0.007*president + 0.006*south + 0.005*american + 0.005*peace + 0.005*government + 0.005*talks + 0.004*states + 0.004*united + 0.004*oil + 0.004*representatives + 0.004*north + 0.004*good + 0.004*day + 0.003*remember + 0.003*made + 0.003*foreign + 0.003*paris')\n",
      "Topic #  14 (14, u'0.021*president + 0.012*people + 0.009*senator + 0.008*united + 0.007*states + 0.006*kennedy + 0.006*question + 0.006*world + 0.005*country + 0.005*american + 0.005*made + 0.005*government + 0.004*years + 0.004*nixon + 0.004*time + 0.004*make + 0.004*administration + 0.004*uh + 0.004*vietnam + 0.004*america')\n",
      "Topic #  15 (15, u'0.024*president + 0.010*lebanon + 0.007*israel + 0.007*government + 0.006*middle + 0.005*peace + 0.005*question + 0.005*east + 0.004*people + 0.004*country + 0.004*time + 0.004*states + 0.004*iran + 0.003*answer + 0.003*made + 0.003*problem + 0.003*forces + 0.003*soviet + 0.003*world + 0.003*marines')\n",
      "Topic #  16 (16, u'0.014*berlin + 0.010*rights + 0.010*victims + 0.006*city + 0.005*law + 0.005*wall + 0.005*justice + 0.004*constitution + 0.004*today + 0.004*people + 0.004*criminal + 0.004*berliner + 0.003*abuses + 0.003*victim + 0.003*years + 0.003*state + 0.003*constitutional + 0.003*watergate + 0.003*work + 0.003*west')\n",
      "Topic #  17 (17, u'0.007*law + 0.006*judge + 0.006*crime + 0.005*justice + 0.005*negro + 0.005*race + 0.004*men + 0.004*man + 0.004*colored + 0.004*white + 0.003*case + 0.003*criminal + 0.003*criticism + 0.003*mob + 0.003*life + 0.003*belligerency + 0.003*lynching + 0.002*education + 0.002*judges + 0.002*court')\n",
      "Topic #  18 (18, u'0.012*people + 0.009*nation + 0.009*men + 0.009*great + 0.008*freedom + 0.008*world + 0.008*today + 0.008*man + 0.007*america + 0.007*americans + 0.006*life + 0.006*day + 0.006*years + 0.006*american + 0.005*peace + 0.005*time + 0.004*free + 0.004*country + 0.004*work + 0.004*live')\n",
      "Topic #  19 (19, u'0.023*united + 0.017*states + 0.014*nations + 0.011*world + 0.008*peace + 0.007*american + 0.006*war + 0.005*seas + 0.004*attack + 0.004*policy + 0.004*great + 0.003*international + 0.003*america + 0.003*treaty + 0.003*man + 0.003*mankind + 0.003*nation + 0.003*ships + 0.003*future + 0.003*president')\n",
      "Topic #  20 (20, u'0.013*government + 0.012*people + 0.006*constitution + 0.006*power + 0.006*states + 0.005*country + 0.005*peace + 0.005*great + 0.005*world + 0.005*public + 0.004*nation + 0.004*nations + 0.004*war + 0.004*union + 0.004*national + 0.004*free + 0.003*justice + 0.003*laws + 0.003*men + 0.003*political')\n",
      "Topic #  21 (21, u'0.010*people + 0.007*action + 0.007*affirmative + 0.006*women + 0.005*opportunity + 0.005*today + 0.005*americans + 0.004*drugs + 0.004*american + 0.004*discrimination + 0.003*years + 0.003*great + 0.003*home + 0.003*drug + 0.003*america + 0.003*im + 0.003*work + 0.003*minorities + 0.003*business + 0.003*president')\n",
      "Topic #  22 (22, u'0.007*ireland + 0.007*northern + 0.004*people + 0.003*belfast + 0.003*peace + 0.003*lands + 0.003*sell + 0.003*land + 0.003*catholic + 0.003*code + 0.003*nation + 0.003*brother + 0.002*protestant + 0.002*great + 0.002*state + 0.002*sale + 0.002*irelands + 0.002*minister + 0.002*states + 0.002*united')\n",
      "Topic #  23 (23, u'0.014*united + 0.014*peace + 0.011*world + 0.011*soviet + 0.010*states + 0.009*vietnam + 0.008*war + 0.008*people + 0.008*nations + 0.007*american + 0.007*forces + 0.006*south + 0.006*military + 0.005*union + 0.004*aggression + 0.004*north + 0.004*weapons + 0.004*time + 0.004*americans + 0.004*vietnamese')\n",
      "Topic #  24 (24, u'0.014*care + 0.014*health + 0.009*insurance + 0.008*people + 0.008*system + 0.006*government + 0.006*americans + 0.005*plan + 0.005*american + 0.004*inflation + 0.004*coverage + 0.004*time + 0.004*year + 0.004*congress + 0.004*costs + 0.004*work + 0.004*pay + 0.003*companies + 0.003*small + 0.003*today')\n"
     ]
    }
   ],
   "source": [
    "#print 25 topics out to 20 words\n",
    "t=0\n",
    "for i in lda.show_topics(num_topics=25, num_words=20, log=False, formatted=True):\n",
    "    print \"Topic # \", t , i\n",
    "    t = t + 1"
   ]
  },
  {
   "cell_type": "code",
   "execution_count": 14,
   "metadata": {
    "collapsed": false
   },
   "outputs": [
    {
     "name": "stdout",
     "output_type": "stream",
     "text": [
      "Speech #  1 [(9, 0.50640713197693921), (18, 0.1351239923731434), (20, 0.35489200038374513)]\n",
      "['fellow', 'citizens', 'senate', 'house', 'representatives', 'vicissitudes', 'incident', 'life', 'event', 'filled', 'greater', 'anxieties', 'notification', 'transmitted', 'order', 'received', 'fourteenth', 'day', 'present', 'month', 'hand', 'summoned', 'country', 'voice', 'hear', 'veneration', 'love', 'retreat', 'chosen', 'fondest', 'predilection', 'flattering', 'hopes', 'immutable', 'decision', 'asylum', 'declining', 'years', 'retreat', 'rendered', 'day', 'dear', 'addition', 'habit', 'inclination', 'frequent', 'interruptions', 'health', 'gradual', 'waste', 'committed', 'time', 'hand', 'magnitude', 'difficulty', 'trust', 'voice', 'country', 'called', 'sufficient', 'awaken', 'wisest', 'experienced', 'citizens', 'distrustful', 'scrutiny', 'qualification', 'overwhelm', 'dispondence', 'inheriting', 'inferior', 'endowments', 'nature', 'unpractised', 'duties', 'civil', 'administration', 'peculiarly', 'conscious', 'deficencies', 'conflict', 'emotions', 'dare', 'aver', 'faithful', 'study', 'collect', 'duty', 'appreciation', 'circumstance', 'affected', 'dare', 'hope', 'executing', 'task', 'swayed', 'grateful', 'remembrance', 'instances', 'affectionate']\n",
      "Speech #  2 [(9, 0.48031336104297279), (18, 0.038903812756833481), (20, 0.47563662736909162)]\n",
      "['duty', 'nations', 'acknowledge', 'providence', 'almighty', 'god', 'obey', 'grateful', 'benefits', 'humbly', 'implore', 'protection', 'favor', 'houses', 'congress', 'joint', 'committee', 'requested', 'recommend', 'people', 'united', 'states', 'day', 'public', 'thanksgiving', 'prayer', 'observed', 'acknowledging', 'grateful', 'hearts', 'signal', 'favors', 'almighty', 'god', 'affording', 'opportunity', 'peaceably', 'establish', 'form', 'government', 'safety', 'happiness', 'recommend', 'assign', 'thursday', '26th', 'day', 'november', 'devoted', 'people', 'states', 'service', 'great', 'glorious', 'beneficent', 'author', 'good', 'unite', 'rendering', 'sincere', 'humble', 'kind', 'care', 'protection', 'people', 'country', 'previous', 'nation', 'signal', 'manifold', 'mercies', 'favorable', 'interpositions', 'providence', 'experienced', 'conclusion', 'late', 'war', 'great', 'degree', 'tranquillity', 'union', 'plenty', 'enjoyed', 'peaceable', 'rational', 'manner', 'enabled', 'establish', 'constitutions', 'government', 'safety', 'happiness', 'national', 'instituted', 'civil', 'religious', 'liberty', 'blessed', 'means']\n",
      "Speech #  3 [(9, 0.85788618980384024), (18, 0.016940799056699755), (20, 0.12264427550532239)]\n",
      "['fellow', 'citizens', 'senate', 'house', 'representatives', 'embrace', 'great', 'satisfaction', 'opportunity', 'presents', 'congratulating', 'present', 'favourable', 'prospects', 'public', 'affairs', 'recent', 'accession', 'important', 'state', 'north', 'carolina', 'constitution', 'united', 'states', 'official', 'information', 'received', 'rising', 'credit', 'respectability', 'country', 'general', 'increasing', 'good', 'government', 'union', 'concord', 'peace', 'plenty', 'blessed', 'circumstances', 'auspicious', 'eminent', 'degree', 'national', 'prosperity', 'resuming', 'consultations', 'general', 'good', 'derive', 'encouragement', 'reflection', 'measures', 'session', 'satisfactory', 'constituents', 'novelty', 'difficulty', 'work', 'allowed', 'hope', 'realize', 'expectations', 'secure', 'blessings', 'gracious', 'providence', 'reach', 'present', 'important', 'session', 'call', 'cool', 'deliberate', 'exertion', 'patriotism', 'firmness', 'wisdom', 'interesting', 'objects', 'engage', 'attention', 'providing', 'common', 'defence', 'merit', 'regard', 'prepared', 'war', 'effectual', 'means', 'perserving', 'peace', 'free', 'people', 'armed', 'disciplined', 'end']\n",
      "Speech #  4 [(9, 0.96433459673170208), (20, 0.033974226797508569)]\n",
      "['fellow', 'citizens', 'senate', 'house', 'representatives', 'meeting', 'feel', 'satisfaction', 'repeat', 'congratulations', 'favorable', 'prospects', 'continue', 'distinguish', 'public', 'affairs', 'abundant', 'fruits', 'year', 'blessed', 'country', 'plenty', 'means', 'flourishing', 'commerce', 'progress', 'public', 'credit', 'witnessed', 'considerable', 'rise', 'american', 'stock', 'abroad', 'home', 'revenues', 'allotted', 'national', 'purposes', 'productive', 'calculations', 'regulated', 'circumstance', 'pleasing', 'proof', 'fertility', 'resources', 'assures', 'increase', 'national', 'respectability', 'credit', 'add', 'bears', 'honorable', 'testimony', 'patriotism', 'integrity', 'mercantile', 'marine', 'part', 'citizens', 'punctuality', 'discharging', 'engagements', 'exemplary', 'conforming', 'powers', 'vested', 'acts', 'session', 'loan', 'millions', 'florins', 'provisional', 'measures', 'previously', 'place', 'completed', 'holland', 'celerity', 'filled', 'nature', 'terms', 'ordinary', 'demand', 'borrowing', 'created', 'situation', 'europe', 'reasonable', 'hope', 'execution', 'powers', 'proceed', 'advantage', 'success', 'secretary', 'treasury', 'directions']\n",
      "Speech #  5 [(2, 0.01920174642871823), (9, 0.88722024552655465), (18, 0.091920757573697401)]\n",
      "['president', 'united', 'states', 'mouth', 'written', 'speech', 'signed', 'hand', 'sealed', 'seal', 'speak', 'seneka', 'nation', 'desire', 'attention', 'speech', 'remembrance', 'friendship', 'united', 'states', 'received', 'speech', 'satisfaction', 'proof', 'confidence', 'justice', 'united', 'states', 'attentively', 'examined', 'objects', 'laid', 'delivered', 'chiefs', 'tioga', 'point', 'month', 'colonel', 'pickering', 'laid', 'present', 'month', 'cornplanter', 'seneca', 'chiefs', 'philadelphia', 'place', 'observe', 'request', 'sink', 'deep', 'minds', 'desire', 'desire', 'united', 'states', 'miseries', 'late', 'war', 'forgotten', 'buried', 'forever', 'future', 'united', 'states', 'nations', 'brothers', 'promoting', 'prosperity', 'acts', 'mutual', 'friendship', 'justice', 'uninformed', 'nations', 'led', 'difficulties', 'respect', 'sale', 'lands', 'peace', 'inform', 'evils', 'arose', 'present', 'government', 'united', 'states', 'established', 'separate', 'states', 'individuals', 'authority', 'undertook', 'treat', 'indian', 'tribes', 'respecting', 'sale', 'lands']\n",
      "Speech #  6 [(9, 0.78537066381864251), (20, 0.21360483729484889)]\n",
      "['meet', 'present', 'occasion', 'feelings', 'naturally', 'inspired', 'strong', 'impression', 'prosperous', 'situation', 'common', 'country', 'persuasion', 'equally', 'strong', 'labours', 'present45', 'session', 'commenced', 'guidance', 'spirit', 'prudent', 'patriotic', 'issue', 'measures', 'conducive', 'stability', 'increase', 'national', 'prosperity', 'numerous', 'providential', 'blessings', 'demand', 'grateful', 'acknowledgments', 'abundance', 'year', 'rewarded', 'industry', 'husbandman', 'important', 'escape', 'recollection', 'observations', 'respective', 'situations', 'satisfied', 'progressive', 'state', 'agriculture', 'manufactures', 'commerce', 'navigation', 'tracing', 'remarked', 'pleasure', 'happy', 'effects', 'revival', 'confidence', 'public', 'private', 'constitution', 'laws', 'united', 'states', 'eminently', 'contributed', 'observed', 'interest', 'decisive', 'proofs', 'increasing', 'reputation', 'credit', 'nation', 'fail', 'derive', 'satisfaction', 'confirmation', 'circumstances', 'disclosed', 'official', 'communications', 'made', 'deliberations', 'rapid', 'subscriptions', 'bank', 'united', 'states', 'completed', 'sum', 'allowed', 'subscribed', 'single', 'day', 'striking', 'pleasing']\n",
      "Speech #  7 [(6, 0.27893439469922354), (9, 0.70598363808641584)]\n",
      "['gentlemen', 'house', 'representatives', 'maturely', 'considered', 'act', 'passed', 'houses', 'intitled', 'act', 'apportionment', 'representatives', 'states', 'enumeration', '44', 'return', 'house', 'originated', 'objections', 'constitution', 'prescribed', 'representatives', 'apportioned', 'states', 'respective', 'numbers', 'proportion', 'division', 'applied', 'respective', 'numbers', 'states', 'yield', 'number', 'allotment', 'representatives', 'proposed', 'bill', 'constitution', 'provided', 'number', 'representatives', 'exceed', 'thirty', 'thousand', 'restriction', 'context', 'fair', 'obvious', 'construction', 'applied', 'seperate', 'respective', 'numbers', 'states', 'bill', 'allotted', 'states', 'thirty', 'thousand']\n",
      "Speech #  8 [(5, 0.1033456691486738), (9, 0.73556906389931564), (20, 0.16015108436167524)]\n",
      "['fellowcitizens', 'senate', 'house', 'representatives', 'abatement', 'satisfaction', 'meet', 'present', 'occasion', 'felicitating', 'continuance', 'national', 'prosperity', 'generally', 'add', 'information', 'indian', 'hostilities', 'time', 'past', 'distressed', 'north', 'western', 'frontier', 'terminated', 'persuaded', 'learn', 'concern', 'communicate', 'reiterated', 'endeavors', 'effecting', 'pacification', 'hitherto', 'issued', 'outrageous', 'proofs', 'persevering', 'hostility', 'part', 'tribes', 'contest', 'earnest', 'desire', 'procure', 'tranquillity', 'frontier', 'stop', 'effusion', 'blood', 'arrest', 'progress', 'expense', 'forward', 'prevalent', 'nation', 'peace', 'led', 'channels', 'strenuous', 'efforts', 'accomplish', 'desirable', 'purposes', 'making', 'efforts', 'consulted', 'anticipations', 'event', 'scruples', 'considerations', 'calculated', 'inspire', 'find', 'object', 'attainable', 'attainable', 'ascertain', 'unequivocally', 'case', 'detail', 'measures', 'pursued', 'consequences', 'laid', 'confirm', 'success', 'trust', 'evince', 'means', 'proper', 'efficacious', 'devised', 'employed', 'issue', 'depending', 'favourable', 'despaired', 'promised', 'happened']\n",
      "Speech #  9 [(9, 0.98829268292546646)]\n",
      "['received', 'authentic', 'information', 'lawless', 'wicked', 'persons', 'western', 'frontier', 'state', 'georgia', 'invade', 'burn', 'destroy', 'town', 'belonging', 'cherokee', 'nation', 'amity', 'united', 'states', 'put', 'death', 'indians', 'nation', 'outrageous', 'conduct', 'violates', 'rights', 'humanity', 'endangers', 'public', 'peace', 'highly', 'honor', 'good', 'faith', 'united', 'states', 'pursue', 'legal', 'means', 'punishment', 'atrocious', 'offenders', 'thought', 'fit', 'issue', 'proclamation', 'exhorting', 'citizens', 'united', 'states', 'requiring', 'officers', 'thereof', 'respective', 'stations', 'utmost', 'endeavours', 'bring', 'offenders', 'justice', 'offer', 'reward', 'hundred', 'dollars', 'abovenamed', 'persons', 'apprehended', 'brought', 'justice', 'proved', 'assumed', 'exercised', 'command', 'authority', 'perpetrators', 'crimes', 'aforesaid', 'time', 'committing']\n",
      "Speech #  10 [(9, 0.25859419927253813), (20, 0.60129730499773759), (21, 0.12381219943145229)]\n",
      "['fellowcitizens', 'called', 'voice', 'country', 'execute', 'functions', 'chief', 'magistrate', 'occasion', 'proper', 'arrive', 'endeavour', 'express', 'high', 'sense', 'entertain', 'distinguished', 'honor', 'confidence', 'reposed', 'people', 'united', 'america', 'previous', 'execution', 'official', 'act', 'president', 'constitution', 'requires', 'oath', 'office', 'oath', 'presence', '56', 'found', 'administration', 'government', 'instance', 'violated', 'willingly', 'knowingly', 'injunction', 'thereof', 'incurring', 'constitutional', 'punishmt', 'subject', 'upbraidings', 'witnesses', 'present', 'solemn', 'ceremony']\n",
      "Speech #  11 [(9, 0.99030303030214084)]\n",
      "['appears', 'state', 'war', 'exists', 'austria', 'prussia', 'sardinia', 'great', 'britain', 'united', 'netherlands', 'part', 'france', 'duty', 'interest', 'united', 'states', 'require', 'sincerity', 'good', 'faith', 'adopt', 'pursue', 'conduct', 'friendly', 'impartial', 'belligerent', 'powers', 'thought', 'fit', 'presents', 'declare', 'disposition', 'united', 'states', 'observe', 'conduct', 'aforesaid', 'powers', 'exhort', 'warn', 'citizens', 'united', 'states', 'carefully', 'avoid', 'acts', 'proceedings', 'whatsoever', 'manner', 'tend', 'contravene', 'disposition', 'make', 'whosoever', 'citizens', 'united', 'states', 'render', 'liable', 'punishment', 'forfeiture', 'law', 'nations', 'committing', 'aiding', 'abetting', 'hostilities', 'powers', 'carrying', 'articles', 'deemed', 'contraband', 'modern', 'usage', 'nations', 'receive', 'protection', 'united', 'states', 'punishment', 'forfeiture', 'instructions', 'officers', 'belongs', 'prosecutions', 'instituted', 'persons', 'cognizance', 'courts', 'united', 'states', 'violate', 'law', 'nations', 'respect', 'powers', 'war']\n",
      "Speech #  12 [(9, 0.88265064894725132), (20, 0.11615764120806112)]\n",
      "['fellow', 'citizens', 'senate', 'house', 'representatives', 'commencement', 'term', 'called', 'office', 'fit', 'occasion', 'arisen', 'expressing', 'fellow', 'citizens', 'large', 'deep', 'respectful', 'sense', 'feel', 'renewed', 'testimony', 'public', 'approbation', 'hand', 'awakened', 'gratitude', 'instances', 'affectionate', 'partiality', 'honored', 'country', 'prevent', 'earnest', 'retirement', 'private', 'consideration', 'torn', 'influenced', 'belief', 'conduct', 'estimated', 'real', 'motives', 'people', 'authorities', 'derived', 'support', 'exertions', 'personal', 'object', 'obeyed', 'suffrage', 'commanded', 'resume', 'executive', 'power', 'humbly', 'implore', 'fate', 'nations', 'depends', 'crown', 'success', 'mutual', 'endeavors', 'general', 'happiness', 'war', 'europe', 'embraced', 'powers', 'united', 'states', 'extensive', 'relations', 'reason', 'apprehend', 'intercourse', 'interrupted', 'disposition', 'peace', 'drawn', 'question', 'suspicions', 'entertained', 'belligerent', 'nations', 'duty', 'admonish', 'citizens', 'consequences', 'contraband', 'trade', 'hostile', 'acts', 'parties', 'obtain', 'declaration', 'existing']\n",
      "Speech #  13 [(9, 0.72357720365982547), (11, 0.011938779270439888), (19, 0.010541064522359263), (20, 0.25239313704903005)]\n",
      "['combinations', 'defeat', 'execution', 'laws', 'laying', 'duties', 'spirits', 'distilled', 'united', 'states', 'stills', 'time', 'commencement', 'laws', 'existed', 'western', 'parts', 'pennsylvania', 'combinations', 'proceeding', 'manner', 'subversive', 'equally', 'authority', 'government', 'rights', 'individuals', 'hitherto', 'effected', 'dangerous', 'criminal', 'purpose', 'influence', 'irregular', 'meetings', 'proceedings', 'tended', 'encourage', 'uphold', 'spirit', 'opposition', 'misrepresentations', 'laws', 'calculated', 'render', 'odious', 'endeavors', 'deter', 'disposed', 'accepting', 'offices', 'fear', 'public', 'resentment', 'injury', 'person', 'property', 'compel', 'accepted', 'offices', 'actual', 'violence', 'surrender', 'forbear', 'execution', 'circulating', 'vindictive', 'menaces', 'directly', 'indirectly', 'aid', 'execution', 'laws', 'yielding', 'dictates', 'conscience', 'sense', 'obligation', 'comply', 'therewith', 'injuring', 'destroying', 'property', 'persons', 'understood', 'complied', 'inflicting', 'cruel', 'humiliating', 'punishments', 'private', 'citizens', 'appearing', 'friends', 'laws', 'intercepting', 'public', 'officers', 'highways', 'abusing']\n",
      "Speech #  14 [(7, 0.018133486774113052), (9, 0.44330317229990956), (20, 0.53530408166642396)]\n",
      "['hope', 'combinations', 'constitution', 'laws', 'united', 'states', 'western', 'counties', 'pennsylvania', 'yield', 'time', 'reflection', 'thought', 'sufficient', 'instance', 'measures', 'calling', 'militia', 'immediately', 'embody', 'moment', 'overtures', 'forgiveness', 'condition', 'submission', 'law', 'partially', 'accepted', 'form', 'conciliation', 'inconsistent', 'government', 'adopted', 'effect', 'welldisposed', 'counties', 'unable', 'influence', 'reclaim', 'wicked', 'fury', 'compelled', 'associate', 'defence', 'proffered', 'lenity', 'perversely', 'misinterpreted', 'apprehension', 'citizens', 'march', 'reluctance', 'opportunity', 'examining', 'consequences', 'treasonable', 'opposition', 'employed', 'propagating', 'principles', 'anarchy', 'endeavoring', 'emissaries', 'alienate', 'friends', 'order', 'support', 'inviting', 'enemies', 'perpetrate', 'similar', 'acts', 'insurrection', 'manifest', 'violence', 'continue', 'exercised', 'attempt', 'enforce', 'laws', 'government', 'set', 'defiance', 'contest', 'small', 'proportion', 'united', 'states', 'dictate', 'union', 'expense', 'desire', 'peace', 'indulge', 'desperate', 'ambition', 'george', 'washington', 'president', 'united']\n",
      "Speech #  15 [(9, 0.59240198311730441), (20, 0.40681370315712201)]\n",
      "['fellow', 'citizens', 'senate', 'house', 'representatives', 'call', 'mind', 'gracious', 'indulgence', 'heaven', 'american', 'people', 'nation', 'survey', 'general', 'prosperity', 'country', 'forward', 'riches', 'power', 'happiness', 'destined', 'deepest', 'regret', 'announce', 'recess', 'citizens', 'united', 'states', 'found', 'capable', 'insurrection', 'due', 'character', 'government', 'stability', 'shaken', 'enemies', 'order', 'freely', 'unfold', 'event', 'session', 'year', 'thousand', 'hundred', 'ninety', 'expedient', 'exercise', 'legislative', 'power', 'granted', 'constitution', 'united', 'states', 'lay', 'collect', 'excises', 'majority', 'states', 'scarcely', 'objection', 'heard', 'mode', 'taxation', 'alarms', 'conceived', 'banished', 'reason', 'patriotism', 'western', 'counties', 'pennsylvania', 'prejudice', 'fostered', 'embittered', 'artifice', 'men', 'labored', 'ascendency', 'guidance', 'passions', 'produced', 'symptoms', 'riot', 'violence', 'congress', 'hesitate', 'examine', 'complaints', 'presented', 'relieve', 'justice', 'dictated', 'general', 'convenience', 'permit', 'impression', 'moderation', 'made']\n",
      "Speech #  16 [(9, 0.6702256451312204), (19, 0.32429816439210213)]\n",
      "['commissioners', 'appointed', 'president', 'united', 'states', 'confer', 'citizens', 'western', 'counties', 'pennsylvania', 'late', 'insurrection', 'prevailed', 'act', 'agreement', 'bearing', 'date', '2d', 'day', 'september', 'pursuance', 'powers', 'vested', 'promise', 'engage', 'assurances', 'submission', 'laws', 'united', 'states', 'bona', 'fide', 'citizens', 'resident', 'fourth', 'survey', 'pennsylvania', 'manner', 'time', 'act', 'agreement', 'general', 'pardon', 'granted', '10th', 'day', 'july', 'ensuing', 'treasons', 'indictable', 'offenses', 'united', 'states', 'committed', 'survey', '22d', 'day', 'august', 'excluding', 'therefrom', 'person', 'refuse', 'neglect', 'subscribe', 'assurance', 'engagement', 'manner', 'aforesaid', 'subscription', 'violate', 'fully', 'obstruct', 'attempt', 'obstruct', 'execution', 'acts', 'raising', 'revenue', 'distilled', 'spirits', 'stills', 'aiding', 'abetting', 'thought', 'proper', 'extend', 'pardon', 'persons', 'guilty', 'treasons', 'misprisions', 'treasons', 'concerned', 'late', 'insurrection', 'survey', 'aforesaid', 'indicted', 'convicted', 'thereof']\n",
      "Speech #  17 [(5, 0.041331081800033434), (9, 0.93454316645196434), (20, 0.023064231844384046)]\n",
      "['trust', 'deceive', 'indulge', 'persuasion', 'met', 'period', 'present', 'situation', 'public', 'affairs', 'afforded', 'mutual', 'congratulation', 'inviting', 'join', 'profound', 'gratitude', 'author', 'good', 'numerous', 'extraordinary', 'blessings', 'enjoy', 'termination', 'long', 'expensive', 'distressing', 'war', 'engaged', 'indians', 'northwest', 'ohio', 'option', 'united', 'states', 'treaty', 'commander', 'army', 'concluded', 'provisionally', 'hostile', 'tribes', 'region', 'adjustment', 'terms', 'satisfaction', 'indians', 'deemed', 'worthy', 'policy', 'liberality', 'united', 'states', 'basis', 'durable', 'tranquillity', 'object', 'believed', 'fully', 'attained', 'articles', 'agreed', 'immediately', 'laid', 'senate', 'consideration', 'creek', 'cherokee', 'indians', 'southern', 'tribes', 'annoyed', 'frontiers', 'confirmed', 'preexisting', 'treaties', 'giving', 'evidence', 'sincere', 'disposition', 'carry', 'effect', 'surrender', 'prisoners', 'property', 'lament', 'fair', 'prospect', 'quarter', 'clouded', 'wanton', 'murders', 'citizens', 'georgia', 'represented', 'recently', 'perpetrated', 'hunting', 'parties', 'creeks']\n",
      "Speech #  18 [(5, 0.12960732717010376), (9, 0.84264425898816653), (15, 0.025602072378076039)]\n",
      "['gentlemen', 'house', 'representatives', 'utmost', 'attention', 'considered', 'resolution', '24th', 'instant', 'requesting', 'lay', 'house', 'copy', 'instructions', 'minister', 'united', 'states', 'negotiated', 'treaty', 'king', 'great', 'britain', 'correspondence', 'documents', 'relative', 'treaty', 'excepting', 'papers', 'existing', 'negotiation', 'render', 'improper', 'disclosed', 'deliberating', 'subject', 'impossible', 'lose', 'sight', 'principle', 'avowed', 'discussion', 'avoid', 'extending', 'views', 'consequences', 'flow', 'admission', 'principle', 'trust', 'part', 'conduct', 'disposition', 'withhold', 'information', 'constitution', 'enjoined', 'president', 'duty', 'give', 'required', 'house', 'congress', 'truth', 'affirm', 'continue', 'honor', 'preside', 'government', 'constant', 'endeavour', 'harmonize', 'branches', 'thereof', 'trust', 'delegated', 'people', 'united', 'states', 'sense', 'obligation', 'imposes', 'preserve', 'protect', 'defend', 'constitution', 'permit', 'nature', 'foreign', 'negotiations', 'requires', 'caution', 'success', 'depend', 'secrecy', 'brought', 'conclusion', 'full', 'disclosure', 'measures', 'demands']\n",
      "Speech #  19 [(9, 0.436783365099843), (18, 0.11973421854646764), (23, 0.44194931530817533)]\n",
      "['beloved', 'cherokees', 'years', 'passed', 'white', 'people', 'america', 'long', 'space', 'time', 'good', 'men', 'considered', 'condition', 'indian', 'natives', 'country', 'improved', 'attempts', 'made', 'effect', 'day', 'attempts', 'fruitless', 'thought', 'subject', 'anxiously', 'wished', 'indian', 'tribes', 'neighbours', 'white', 'people', 'enjoy', 'abundance', 'good', 'things', 'make', 'life', 'comfortable', 'happy', 'considered', 'discovered', 'path', 'lead', 'desirable', 'situation', 'path', 'indian', 'nations', 'walk', 'information', 'received', 'beloved', 'cherokees', 'inclined', 'hope', 'prepared', 'path', 'disposed', 'pursue', 'difficult', 'enter', 'make', 'attempt', 'find', 'obstacle', 'easy', 'removed', 'dinsmoor', 'beloved', 'agent', 'nation', 'send', 'talk', 'interpreted', 'explain', 'meaning', 'beloved', 'cherokees', 'find', 'game', 'woods', 'abounded', 'growing', 'scarce', 'meet', 'deer', 'game', 'kill', 'remain', 'hungry', 'skins', 'hunting', 'traders', 'give', 'powder', 'cloathing', 'implements', 'tilling']\n",
      "Speech #  20 [(5, 0.0446205804212585), (9, 0.46322136792961477), (20, 0.49176147661528574)]\n",
      "['period', 'election', 'citizen', 'administer', 'executive', 'government', 'united', 'states', 'distant', 'time', 'arrived', 'thoughts', 'employed', 'designating', 'person', 'clothed', 'important', 'trust', 'appears', 'proper', 'conduce', 'distinct', 'expression', 'public', 'voice', 'apprise', 'resolution', 'formed', 'decline', 'considered', 'number', 'choice', 'made', 'beg', 'time', 'justice', 'assured', 'resolution', 'strict', 'regard', 'considerations', 'appertaining', 'relation', 'binds', 'dutiful', 'citizen', 'country', 'withdrawing', 'tender', 'service', 'silence', 'situation', 'imply', 'influenced', 'diminution', 'zeal', 'future', 'interest', 'deficiency', 'grateful', 'respect', 'past', 'kindness', 'supported', 'full', 'conviction', 'step', 'compatible', 'acceptance', 'continuance', 'hitherto', 'office', 'suffrages', 'called', 'uniform', 'sacrifice', 'inclination', 'opinion', 'duty', 'deference', 'appeared', 'desire', 'constantly', 'hoped', 'earlier', 'power', 'consistently', 'motives', 'liberty', 'disregard', 'return', 'retirement', 'reluctantly', 'drawn', 'strength', 'inclination', 'previous', 'election', 'led', 'preparation']\n",
      "Speech #  21 [(9, 0.99919597989940534)]\n",
      "['fellow', 'citizens', 'senate', 'house', 'representatives', 'recurring', 'internal', 'situation', 'country', 'pleasure', 'address', 'find', 'ample', 'reason', 'renewed', 'expression', 'gratitude', 'ruler', 'universe', 'continued', 'series', 'prosperity', 'justly', 'called', 'acts', 'session', 'required', 'special', 'arrangements', 'circumstances', 'admit', 'carried', 'operation', 'measures', 'calculated', 'insure', 'continuance', 'friendship', 'indians', 'preserve', 'peace', 'extent', 'interior', 'frontier', 'digested', 'adopted', 'framing', 'care', 'guard', 'hand', 'advanced', 'settlements', 'predatory', 'incursions', 'unruly', 'individuals', 'restrained', 'tribes', 'hand', 'protect', 'rights', 'secured', 'indians', 'treaty', 'draw', 'nearer', 'civilized', 'state', 'inspire', 'correct', 'conceptions', 'power', 'justice', 'government', 'meeting', 'deputies', 'creek', 'nation', 'colerain', 'state', 'georgia', 'principal', 'object', 'purchase', 'parcel', 'land', 'state', 'broke', 'accomplished', 'nation', 'previous', 'departure', 'instructed', 'making', 'sale', 'occasion', 'improved', 'confirm', 'treaty', 'creeks']\n",
      "Speech #  22 [(9, 0.35106488356826915), (18, 0.12482873671106175), (20, 0.52316419556639571)]\n",
      "['perceived', 'early', 'times', 'middle', 'america', 'remained', 'unlimited', 'submission', 'foreign', 'legislature', 'total', 'independence', 'claims', 'men', 'reflection', 'apprehensive', 'danger', 'formidable', 'power', 'fleets', 'armies', 'determine', 'resist', 'contests', 'dissensions', 'arise', 'forms', 'government', 'instituted', 'parts', 'extensive', 'country', 'relying', 'purity', 'intentions', 'justice', 'integrity', 'intelligence', 'people', 'overruling', 'providence', 'signally', 'protected', 'country', 'representatives', 'nation', 'consisting', 'half', 'present', 'number', 'broke', 'pieces', 'chains', 'forging', 'rod', 'iron', 'lifted', 'frankly', 'cut', 'asunder', 'ties', 'bound', 'launched', 'ocean', 'uncertainty', 'zeal', 'ardor', 'people', 'revolutionary', 'war', 'supplying', 'place', 'government', 'commanded', 'degree', 'order', 'sufficient', 'temporary', 'preservation', 'society', 'confederation', 'early', 'felt', 'prepared', 'models', 'batavian', 'helvetic', 'confederacies', 'examples', 'remain', 'detail', 'precision', 'history', 'people', 'large', 'considered', 'reflecting', 'striking', 'difference', 'particulars']\n",
      "Speech #  23 [(9, 0.79778067186820123), (20, 0.20148332813171665)]\n",
      "['personal', 'inconveniences', 'members', 'senate', 'house', 'representatives', 'leaving', 'families', 'private', 'affairs', 'season', 'year', 'obvious', 'regret', 'extraordinary', 'occasion', 'rendered', 'convention', 'congress', 'indispensable', 'afforded', 'highest', 'satisfaction', 'congratulate', 'restoration', 'peace', 'nations', 'europe', 'animosities', 'endangered', 'tranquillity', 'abundant', 'gratitude', 'supreme', 'dispenser', 'national', 'blessings', 'general', 'health', 'promising', 'seasons', 'domestic', 'social', 'happiness', 'rapid', 'progress', 'ample', 'acquisitions', 'industry', 'extensive', 'territories', 'civil', 'political', 'religious', 'liberty', 'states', 'desolated', 'foreign', 'war', 'convulsed', 'intestine', 'divisions', 'united', 'states', 'present', 'pleasing', 'prospect', 'nation', 'governed', 'mild', 'equal', 'laws', 'generally', 'satisfied', 'possession', 'rights', 'envying', 'advantages', 'fearing', 'power', 'nations', 'solicitous', 'maintenance', 'order', 'justice', 'preservation', 'liberty', 'increasing', 'daily', 'attachment', 'system', 'government', 'proportion', 'experience', 'utility', 'yielding', 'ready', 'general', 'obedience', 'laws']\n",
      "Speech #  24 [(9, 0.99443260414873924)]\n",
      "['time', 'apprehensive', 'account', 'contagious', 'sickness', 'afflicted', 'city', 'philadelphia', 'convene', 'national', 'legislature', 'place', 'measure', 'desirable', 'avoid', 'occasion', 'public', 'inconvenience', 'considerable', 'public', 'expense', 'add', 'calamities', 'inhabitants', 'city', 'sufferings', 'excited', 'sympathy', 'fellow', 'citizens', 'taking', 'measures', 'ascertain', 'state', 'decline', 'sickness', 'postponed', 'determination', 'hopes', 'happily', 'realized', 'hazard', 'lives', 'health', 'members', 'congress', 'assemble', 'place', 'law', 'meet', 'submit', 'consideration', 'power', 'postpone', 'meeting', 'congress', 'passing', 'time', 'fixed', 'constitution', 'occasions', 'amendment', 'law', '1794', 'congratulate', 'reestablishment', 'peace', 'europe', 'restoration', 'security', 'persons', 'properties', 'citizens', 'injustice', 'violence', 'sea', 'abundant', 'gratitude', 'source', 'benevolence', 'influence', 'interior', 'tranquillity', 'personal', 'security', 'propitious', 'seasons', 'prosperous', 'agriculture', 'productive', 'fisheries', 'general', 'improvements', 'rational', 'spirit', 'civil', 'religious', 'liberty', 'calm', 'steady']\n",
      "Speech #  25 [(9, 0.40104233439592768), (19, 0.11996710957901698), (20, 0.47589196447541182)]\n",
      "['safety', 'prosperity', 'nations', 'ultimately', 'essentially', 'depend', 'protection', 'blessing', 'almighty', 'god', 'national', 'acknowledgment', 'truth', 'indispensable', 'duty', 'people', 'owe', 'duty', 'natural', 'influence', 'favorable', 'promotion', 'morality', 'piety', 'social', 'happiness', 'exist', 'blessings', 'free', 'government', 'enjoyed', 'duty', 'times', 'incumbent', 'seasons', 'difficulty', 'danger', 'existing', 'threatening', 'calamities', 'judgments', 'god', 'prevalent', 'iniquity', 'loud', 'call', 'repentance', 'reformation', 'united', 'states', 'america', 'present', 'hazardous', 'afflictive', 'situation', 'unfriendly', 'disposition', 'conduct', 'demands', 'foreign', 'power', 'evinced', 'repeated', 'refusals', 'receive', 'messengers', 'reconciliation', 'peace', 'depredation', 'commerce', 'infliction', 'injuries', 'fellowcitizens', 'engaged', 'lawful', 'business', 'seasunder', 'considerations', 'appeared', 'duty', 'imploring', 'mercy', 'benediction', 'heaven', 'country', 'demands', 'time', 'special', 'attention', 'inhabitants', 'thought', 'fit', 'recommend', 'recommend', 'wednesday', '9th', 'day', 'observed', 'united', 'states']\n",
      "Speech #  26 [(9, 0.99894505494495411)]\n",
      "['gentlemen', 'senate', 'gentlemen', 'house', 'representatives', 'reverence', 'resignation', 'contemplate', 'dispensations', 'divine', 'providence', 'alarming', 'destructive', 'pestilence', 'cities', 'towns', 'visited', 'gratitude', 'mutual', 'congratulations', 'malady', 'disappeared', 'permitted', 'assemble', 'safety', 'seat', 'government', 'discharge', 'important', 'duties', 'reflect', 'fatal', 'disorder', 'years', 'made', 'repeated', 'ravages', 'principal', 'sea', 'ports', 'increased', 'malignancy', 'magnitude', 'evils', 'arising', 'interruption', 'public', 'private', 'business', 'national', 'interests', 'deeply', 'affected', 'duty', 'invite', 'legislature', 'union', 'examine', 'expediency', 'establishing', 'suitable', 'regulations', 'aid', 'health', 'laws', 'respective', 'states', 'formed', 'idea', 'contagious', 'sickness', 'communicated', 'channels', 'commerce', 'necessity', 'congress', 'regulate', 'trade', 'frame', 'system', 'tend', 'preserve', 'general', 'health', 'compatible', 'interests', 'commerce', 'safety', 'revenue', 'calamity', 'sympathize', 'sufferers', 'abundant', 'reason', 'present', 'supreme', 'annual', 'oblations', 'gratitude', 'liberal']\n",
      "Speech #  27 [(5, 0.027370856210638651), (9, 0.96811538629562466)]\n",
      "['peculiar', 'satisfaction', 'meet', '6th', 'congress', 'united', 'states', 'america', 'coming', 'parts', 'union', 'critical', 'interesting', 'period', 'members', 'fully', 'possessed', 'sentiments', 'wishes', 'constituents', 'flattering', 'prospects', 'abundance', 'labors', 'people', 'land', 'sea', 'prosperity', 'extended', 'commerce', 'notwithstanding', 'interruptions', 'occasioned', 'belligerent', 'state', 'great', 'part', 'world', 'return', 'health', 'industry', 'trade', 'cities', 'afflicted', 'disease', 'inestimable', 'advantages', 'civil', 'religious', 'secured', 'happy', 'frame', 'government', 'continued', 'unimpaired', 'demand', 'american', 'people', 'sincere', 'benevolent', 'deity', 'merciful', 'dispensations', 'providence', 'numerous', 'blessings', 'recollected', 'painful', 'duty', 'advert', 'ungrateful', 'return', 'made', 'people', 'counties', 'pennsylvania', 'seduced', 'arts', 'misrepresentations', 'designing', 'men', 'openly', 'resisted', 'law', 'directing', 'valuation', 'houses', 'lands', 'defiance', 'civil', 'authority', 'rendered', 'hopeless', 'attempts', 'judicial', 'process', 'enforce', 'execution', 'law', 'direct']\n",
      "Speech #  28 [(9, 0.23453777754934166), (18, 0.11579102538112021), (20, 0.1733092603627969), (23, 0.47484019757613138)]\n",
      "['gentlemen', 'senate', 'gentlemen', 'house', 'representatives', 'letter', 'herewith', 'transmitted', 'inform', 'pleased', 'divine', 'providence', 'remove', 'life', 'excellent', 'fellowcitizen', 'george', 'washington', 'purity', 'character', 'long', 'series', 'services', 'country', 'rendered', 'illustrious', 'world', 'remains', 'affectionate', 'grateful', 'people', 'hearts', 'die', 'pay', 'suitable', 'honors', 'memory', 'john', 'adams', 'mount', 'vernon', 'december', '15', '1799', 'president', 'united', 'states', 'sir', 'inexpressible', 'grief', 'announce', 'death', 'great', 'good', 'general', 'washington', 'died', 'evening', '10', '11', 'oclock', 'short', 'illness', 'twenty', 'hours', 'disorder', 'inflamatory', 'sore', 'throat', 'proceeded', 'cold', 'made', 'complaint', 'friday', 'saturday', 'morning', '3', 'oclock', 'ill', 'dr', 'craik', 'attended', 'morning', 'dr', 'dick', 'alexandria', 'dr', 'brown', 'port', 'tobacco', 'called', 'medical', 'assistance', 'offered', 'desired', 'effect', 'scene', 'corresponded', 'tenor', 'life']\n",
      "Speech #  29 [(19, 0.99244094488118917)]\n",
      "['late', 'wicked', 'treasonable', 'insurrection', 'authority', 'united', 'states', 'sundry', 'persons', 'counties', 'northampton', 'montgomery', 'bucks', 'state', 'pennsylvania', 'year', '1799', 'speedily', 'suppressed', 'calamities', 'attending', 'rebellion', 'peace', 'order', 'submission', 'laws', 'united', 'states', 'restored', 'aforesaid', 'counties', 'ignorant', 'misguided', 'misinformed', 'counties', 'returned', 'proper', 'sense', 'duty', 'unnecessary', 'public', 'good', 'future', 'prosecutions', 'commenced', 'carried', 'person', 'persons', 'reason', 'concerned', 'insurrection', 'wherefore', 'john', 'adams', 'president', 'united', 'states', 'america', 'granted', 'presents', 'grant', 'full', 'free', 'absolute', 'pardon', 'person', 'persons', 'concerned', 'insurrection', 'excepting', 'hereinafter', 'excepted', 'treasons', 'misprisions', 'treason', 'felonies', 'misdemeanors', 'crimes', 'committed', 'united', 'states', 'counties', '12th', 'day', 'march', 'year', '1799', 'excepting', 'excluding', 'therefrom', 'person', 'standeth', 'indicted', 'convicted', 'treason', 'misprision', 'treason', 'offense', 'united', 'states']\n",
      "Speech #  30 [(5, 0.12387825239535569), (9, 0.83718340782554423), (20, 0.037389044004312436)]\n",
      "['gentlemen', 'senate', 'gentlemen', 'house', 'representatives', 'immediately', 'adjournment', 'congress', 'session', 'philadelphia', 'gave', 'directions', 'compliance', 'laws', 'removal', 'public', 'offices', 'records', 'property', 'directions', 'executed', 'public', 'officers', 'resided', 'conducted', 'ordinary', 'business', 'government', 'place', 'congratulate', 'people', 'united', 'states', 'assembling', 'congress', 'permanent', 'seat', 'government', 'congratulate', 'gentlemen', 'prospect', 'residence', 'changed', 'apprehend', 'accommodations', 'complete', 'wished', 'great', 'reason', 'inconvenience', 'cease', 'present', 'session', 'unbecoming', 'representatives', 'nation', 'assemble', 'time', 'solemn', 'temple', 'supreme', 'ruler', 'universe', 'imploring', 'blessing', 'territory', 'residence', 'virtue', 'happiness', 'city', 'piety', 'virtue', 'wisdom', 'magnanimity', 'constancy', 'selfgovernment', 'adorned', 'great', 'character', 'bears', 'forever', 'held', 'veneration', 'country', 'simple', 'manners', 'pure', 'morals', 'true', 'religion', 'flourish', 'forever', 'gentlemen', 'local', 'powers', 'district', 'columbia', 'vested', 'constitution', 'congress']\n",
      "Speech #  31 [(5, 0.059212222414988573), (9, 0.16329735374043625), (18, 0.14270853820030646), (20, 0.63352628026298663)]\n",
      "['friends', 'fellowcitizens', 'called', 'undertake', 'duties', 'executive', 'office', 'country', 'avail', 'presence', 'portion', 'fellowcitizens', 'assembled', 'express', 'grateful', 'favor', 'pleased', 'declare', 'sincere', 'consciousness', 'task', 'talents', 'approach', 'anxious', 'awful', 'presentiments', 'greatness', 'charge', 'weakness', 'powers', 'justly', 'inspire', 'rising', 'nation', 'spread', 'wide', 'fruitful', 'land', 'traversing', 'seas', 'rich', 'productions', 'industry', 'engaged', 'commerce', 'nations', 'feel', 'power', 'forget', 'advancing', 'rapidly', 'destinies', 'reach', 'mortal', 'eye', 'contemplate', 'transcendent', 'objects', 'honor', 'happiness', 'hopes', 'beloved', 'country', 'committed', 'issue', 'auspices', 'day', 'shrink', 'contemplation', 'humble', 'magnitude', 'undertaking', 'utterly', 'despair', 'presence', 'remind', 'high', 'authorities', 'provided', 'constitution', 'find', 'resources', 'wisdom', 'virtue', 'zeal', 'rely', 'difficulties', 'gentlemen', 'charged', 'sovereign', 'functions', 'legislation', 'encouragement', 'guidance', 'support', 'enable', 'steer', 'safety', 'vessel', 'embarked']\n",
      "Speech #  32 [(3, 0.23087777237722912), (5, 0.13633792959815047), (9, 0.30263448899650519), (20, 0.32826216857844231)]\n",
      "['gentleman', 'received', 'remonstrance', 'pleased', 'address', 'appointment', 'samuel', 'bishop', 'office', 'collector', 'haven', 'vacated', 'death', 'david', 'austin', 'fellow', 'citizens', 'represent', 'public', 'functionaries', 'opinion', 'proceedings', 'interesting', 'unquestionably', 'constitutional', 'respectfully', 'acknoleged', 'executive', 'duties', 'excites', 'anxious', 'concern', 'placing', 'interests', 'fellow', 'citizens', 'hands', 'honest', 'men', 'understandings', 'sufficient', 'station', 'duty', 'time', 'difficult', 'fulfil', 'knolege', 'characters', 'possessed', 'single', 'individual', 'necessity', 'limited', 'seek', 'union', 'resort', 'information', 'men', 'acting', 'disinterestedly', 'purest', 'motives', 'incorrect', 'case', 'samuel', 'bishop', 'subject', 'remonstrance', 'time', 'information', 'sought', 'obtained', 'leave', 'room', 'doubt', 'fitness', 'private', 'sources', 'learnt', 'understanding', 'sound', 'integrity', 'pure', 'character', 'unstained', 'offices', 'confided', 'state', 'public', 'evidences', 'estimation', 'held', 'state', 'general', 'city', 'township', 'lives', 'town', 'clerk', 'justice']\n",
      "Speech #  33 [(9, 0.80179540059271404), (20, 0.19653934487244712)]\n",
      "['fellow', 'citizens', 'senate', 'house', 'representatives', 'circumstance', 'sincere', 'gratification', 'meeting', 'great', 'council', 'nation', 'announce', 'grounds', 'reasonable', 'certainty', 'wars', 'troubles', 'years', 'afflicted', 'sister', 'nations', 'length', 'end', 'communications', 'peace', 'commerce', 'opening', 'devoutly', 'return', 'beneficent', 'pleased', 'breathe', 'spirit', 'conciliation', 'forgiveness', 'bound', 'peculiar', 'gratitude', 'thankful', 'peace', 'preserved', 'perilous', 'season', 'permitted', 'quietly', 'cultivate', 'earth', 'practice', 'improve', 'arts', 'tend', 'increase', 'comforts', 'assurances', 'friendly', 'disposition', 'received', 'powers', 'principal', 'relations', 'inspired', 'confidence', 'peace', 'disturbed', 'cessation', 'irregularities', 'effected', 'commerce', 'neutral', 'nations', 'irritations', 'injuries', 'produced', 'add', 'confidence', 'strengthens', 'time', 'hope', 'wrongs', 'committed', 'offending', 'friends', 'pressure', 'circumstances', 'reviewed', 'candor', 'considered', 'founding', 'claims', 'retribution', 'past', 'assurances', 'future', 'indian', 'neighbors', 'spirit', 'peace', 'friendship', 'generally']\n",
      "Speech #  34 [(1, 0.012259525161309346), (9, 0.34292872090760096), (18, 0.17105285946269452), (20, 0.46568197139071066)]\n",
      "['gentleman', 'affectionate', 'sentiments', 'esteem', 'approbation', 'good', 'express', 'behalf', 'danbury', 'baptist', 'association', 'give', 'highest', 'satisfaction', 'duties', 'dictate', 'faithful', 'zealous', 'pursuit', 'interests', 'constituents', 'proportion', 'persuaded', 'fidelity', 'duties', 'discharge', 'pleasing', 'believing', 'religion', 'matter', 'lies', 'solely', 'man', 'god', 'owes', 'account', 'faith', 'worship', 'legislative', 'powers', 'government', 'reach', 'actions', 'opinions', 'contemplate', 'sovereign', 'reverence', 'act', 'american', 'people', 'declared', 'legislature', 'make', 'law', 'respecting', 'establishment', 'religion', 'prohibiting', 'free', 'exercise', 'thereof', 'building', 'wall', 'separation', 'church', 'state', 'adhering', 'expression', 'supreme', 'nation', 'behalf', 'rights', 'conscience', 'sincere', 'satisfaction', 'progress', 'sentiments', 'tend', 'restore', 'man', 'natural', 'rights', 'convinced', 'natural', 'opposition', 'social', 'duties', 'reciprocate', 'kind', 'prayers', 'protection', 'blessing', 'common', 'father', 'creator', 'man', 'tender', 'religious', 'association', 'assurances']\n",
      "Speech #  35 "
     ]
    },
    {
     "ename": "ValueError",
     "evalue": "I/O operation on closed file",
     "output_type": "error",
     "traceback": [
      "\u001b[1;31m---------------------------------------------------------------------------\u001b[0m",
      "\u001b[1;31mValueError\u001b[0m                                Traceback (most recent call last)",
      "\u001b[1;32m<ipython-input-14-d5357dc7b030>\u001b[0m in \u001b[0;36m<module>\u001b[1;34m()\u001b[0m\n\u001b[0;32m      3\u001b[0m \u001b[1;32mfor\u001b[0m \u001b[0mdoc\u001b[0m \u001b[1;32min\u001b[0m \u001b[0msw_token_docs\u001b[0m\u001b[1;33m:\u001b[0m\u001b[1;33m\u001b[0m\u001b[0m\n\u001b[0;32m      4\u001b[0m     \u001b[0mvec\u001b[0m \u001b[1;33m=\u001b[0m \u001b[0mdictionary\u001b[0m\u001b[1;33m.\u001b[0m\u001b[0mdoc2bow\u001b[0m\u001b[1;33m(\u001b[0m\u001b[0mdoc\u001b[0m\u001b[1;33m)\u001b[0m\u001b[1;33m\u001b[0m\u001b[0m\n\u001b[1;32m----> 5\u001b[1;33m     \u001b[1;32mprint\u001b[0m \u001b[1;34m\"Speech # \"\u001b[0m\u001b[1;33m,\u001b[0m \u001b[0mcount\u001b[0m\u001b[1;33m,\u001b[0m \u001b[0mlda\u001b[0m\u001b[1;33m[\u001b[0m\u001b[0mvec\u001b[0m\u001b[1;33m]\u001b[0m\u001b[1;33m\u001b[0m\u001b[0m\n\u001b[0m\u001b[0;32m      6\u001b[0m     \u001b[1;31m#print first 100 words of speech to verify correct speech\u001b[0m\u001b[1;33m\u001b[0m\u001b[1;33m\u001b[0m\u001b[0m\n\u001b[0;32m      7\u001b[0m     \u001b[1;32mprint\u001b[0m \u001b[0mdoc\u001b[0m\u001b[1;33m[\u001b[0m\u001b[1;36m0\u001b[0m\u001b[1;33m:\u001b[0m\u001b[1;36m100\u001b[0m\u001b[1;33m]\u001b[0m\u001b[1;33m\u001b[0m\u001b[0m\n",
      "\u001b[1;32mC:\\Users\\pankaj\\Anaconda2\\lib\\site-packages\\ipykernel\\iostream.pyc\u001b[0m in \u001b[0;36mwrite\u001b[1;34m(self, string)\u001b[0m\n\u001b[0;32m    315\u001b[0m \u001b[1;33m\u001b[0m\u001b[0m\n\u001b[0;32m    316\u001b[0m             \u001b[0mis_child\u001b[0m \u001b[1;33m=\u001b[0m \u001b[1;33m(\u001b[0m\u001b[1;32mnot\u001b[0m \u001b[0mself\u001b[0m\u001b[1;33m.\u001b[0m\u001b[0m_is_master_process\u001b[0m\u001b[1;33m(\u001b[0m\u001b[1;33m)\u001b[0m\u001b[1;33m)\u001b[0m\u001b[1;33m\u001b[0m\u001b[0m\n\u001b[1;32m--> 317\u001b[1;33m             \u001b[0mself\u001b[0m\u001b[1;33m.\u001b[0m\u001b[0m_buffer\u001b[0m\u001b[1;33m.\u001b[0m\u001b[0mwrite\u001b[0m\u001b[1;33m(\u001b[0m\u001b[0mstring\u001b[0m\u001b[1;33m)\u001b[0m\u001b[1;33m\u001b[0m\u001b[0m\n\u001b[0m\u001b[0;32m    318\u001b[0m             \u001b[1;32mif\u001b[0m \u001b[0mis_child\u001b[0m\u001b[1;33m:\u001b[0m\u001b[1;33m\u001b[0m\u001b[0m\n\u001b[0;32m    319\u001b[0m                 \u001b[1;31m# newlines imply flush in subprocesses\u001b[0m\u001b[1;33m\u001b[0m\u001b[1;33m\u001b[0m\u001b[0m\n",
      "\u001b[1;31mValueError\u001b[0m: I/O operation on closed file"
     ]
    }
   ],
   "source": [
    "#print topic weight in each speech    \n",
    "count=1\n",
    "for doc in sw_token_docs:\n",
    "    vec = dictionary.doc2bow(doc)\n",
    "    print \"Speech # \", count, lda[vec]\n",
    "    #print first 100 words of speech to verify correct speech\n",
    "    print doc[0:100]\n",
    "    count = count + 1\n"
   ]
  },
  {
   "cell_type": "code",
   "execution_count": 15,
   "metadata": {
    "collapsed": false
   },
   "outputs": [
    {
     "data": {
      "text/plain": [
       "[(3,\n",
       "  u'0.010*america + 0.009*people + 0.007*iraq + 0.006*american + 0.006*world + 0.005*nation + 0.005*country + 0.005*men + 0.004*united + 0.004*security'),\n",
       " (24,\n",
       "  u'0.014*care + 0.014*health + 0.009*insurance + 0.008*people + 0.008*system + 0.006*government + 0.006*americans + 0.005*plan + 0.005*american + 0.004*inflation'),\n",
       " (13,\n",
       "  u'0.012*vietnam + 0.008*energy + 0.007*congress + 0.007*president + 0.006*south + 0.005*american + 0.005*peace + 0.005*government + 0.005*talks + 0.004*states'),\n",
       " (11,\n",
       "  u'0.011*war + 0.009*people + 0.008*government + 0.008*peace + 0.006*world + 0.005*germany + 0.005*american + 0.005*time + 0.005*great + 0.005*united'),\n",
       " (1,\n",
       "  u'0.007*increase + 0.007*people + 0.007*states + 0.006*government + 0.006*year + 0.006*work + 0.006*united + 0.005*wages + 0.005*secretary + 0.004*1892'),\n",
       " (19,\n",
       "  u'0.023*united + 0.017*states + 0.014*nations + 0.011*world + 0.008*peace + 0.007*american + 0.006*war + 0.005*seas + 0.004*attack + 0.004*policy'),\n",
       " (15,\n",
       "  u'0.024*president + 0.010*lebanon + 0.007*israel + 0.007*government + 0.006*middle + 0.005*peace + 0.005*question + 0.005*east + 0.004*people + 0.004*country'),\n",
       " (21,\n",
       "  u'0.010*people + 0.007*action + 0.007*affirmative + 0.006*women + 0.005*opportunity + 0.005*today + 0.005*americans + 0.004*drugs + 0.004*american + 0.004*discrimination'),\n",
       " (8,\n",
       "  u'0.009*watergate + 0.008*statute + 0.005*house + 0.005*made + 0.004*case + 0.004*court + 0.004*law + 0.004*company + 0.004*capital + 0.004*trust'),\n",
       " (4,\n",
       "  u'0.012*people + 0.008*years + 0.008*america + 0.007*american + 0.006*government + 0.006*congress + 0.006*work + 0.006*tax + 0.006*year + 0.005*time'),\n",
       " (17,\n",
       "  u'0.007*law + 0.006*judge + 0.006*crime + 0.005*justice + 0.005*negro + 0.005*race + 0.004*men + 0.004*man + 0.004*colored + 0.004*white'),\n",
       " (22,\n",
       "  u'0.007*ireland + 0.007*northern + 0.004*people + 0.003*belfast + 0.003*peace + 0.003*lands + 0.003*sell + 0.003*land + 0.003*catholic + 0.003*code'),\n",
       " (23,\n",
       "  u'0.014*united + 0.014*peace + 0.011*world + 0.011*soviet + 0.010*states + 0.009*vietnam + 0.008*war + 0.008*people + 0.008*nations + 0.007*american'),\n",
       " (0,\n",
       "  u'0.007*people + 0.006*kosovo + 0.006*war + 0.006*bosnia + 0.005*army + 0.005*peace + 0.005*union + 0.005*military + 0.005*men + 0.004*nato'),\n",
       " (14,\n",
       "  u'0.021*president + 0.012*people + 0.009*senator + 0.008*united + 0.007*states + 0.006*kennedy + 0.006*question + 0.006*world + 0.005*country + 0.005*american'),\n",
       " (7,\n",
       "  u'0.013*tariff + 0.010*schedule + 0.010*country + 0.009*articles + 0.007*rates + 0.007*consumption + 0.006*increased + 0.006*cost + 0.006*duty + 0.006*items'),\n",
       " (18,\n",
       "  u'0.012*people + 0.009*nation + 0.009*men + 0.009*great + 0.008*freedom + 0.008*world + 0.008*today + 0.008*man + 0.007*america + 0.007*americans'),\n",
       " (5,\n",
       "  u'0.016*government + 0.011*states + 0.009*united + 0.007*congress + 0.006*country + 0.005*year + 0.005*made + 0.005*public + 0.004*great + 0.004*people'),\n",
       " (12,\n",
       "  u'0.011*nuclear + 0.009*treaty + 0.008*cooperation + 0.007*gorbachev + 0.007*united + 0.007*nations + 0.005*weapons + 0.005*international + 0.005*process + 0.005*states'),\n",
       " (20,\n",
       "  u'0.013*government + 0.012*people + 0.006*constitution + 0.006*power + 0.006*states + 0.005*country + 0.005*peace + 0.005*great + 0.005*world + 0.005*public')]"
      ]
     },
     "execution_count": 15,
     "metadata": {},
     "output_type": "execute_result"
    }
   ],
   "source": [
    "lda.print_topics(20)"
   ]
  },
  {
   "cell_type": "code",
   "execution_count": null,
   "metadata": {
    "collapsed": true
   },
   "outputs": [],
   "source": [
    "!"
   ]
  }
 ],
 "metadata": {
  "kernelspec": {
   "display_name": "Python 2",
   "language": "python",
   "name": "python2"
  },
  "language_info": {
   "codemirror_mode": {
    "name": "ipython",
    "version": 2
   },
   "file_extension": ".py",
   "mimetype": "text/x-python",
   "name": "python",
   "nbconvert_exporter": "python",
   "pygments_lexer": "ipython2",
   "version": "2.7.12"
  }
 },
 "nbformat": 4,
 "nbformat_minor": 0
}
